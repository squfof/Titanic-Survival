{
 "cells": [
  {
   "cell_type": "markdown",
   "metadata": {},
   "source": [
    "# API for Best Classifier So Far (currently: Poly Kernel SVC)\n",
    "\n",
    "Note: I wanted to be able to test my API on the labeled data, so I took advantage of the fact that I have already processed and stored this data. At some point I plan to circle back on add in the preprocessing steps so that this API can be used with unlabeled, unprocessed data."
   ]
  },
  {
   "cell_type": "code",
   "execution_count": 1,
   "metadata": {},
   "outputs": [],
   "source": [
    "# import\n",
    "from pathlib import Path\n",
    "\n",
    "# path for api script\n",
    "prediction_api_script_file = Path.cwd().parent / 'src' / 'models'/ 'prediction_api.py'"
   ]
  },
  {
   "cell_type": "code",
   "execution_count": 2,
   "metadata": {},
   "outputs": [
    {
     "name": "stdout",
     "output_type": "stream",
     "text": [
      "Writing /Users/jgower/Python/Kaggle/titanic_survival/src/models/prediction_api.py\n"
     ]
    }
   ],
   "source": [
    "%%writefile $prediction_api_script_file\n",
    "\n",
    "# import\n",
    "from flask import Flask, request\n",
    "import pandas as pd\n",
    "import numpy as np\n",
    "import json\n",
    "from sklearn.externals import joblib\n",
    "from pathlib import Path\n",
    "\n",
    "# create the flask app\n",
    "app = Flask(__name__)\n",
    "\n",
    "# create file path\n",
    "project_dir = Path.home() / 'Python' / 'Kaggle' / 'titanic_survival'\n",
    "model_file_path = project_dir / 'models' / 'poly_svc_cp_model.pkl'\n",
    "\n",
    "# load model\n",
    "model = joblib.load(model_file_path)\n",
    "\n",
    "# use the Python decorator to create the API route with one endpoint ('/api') that will be used for POST requests\n",
    "@app.route('/api', methods = ['POST'])\n",
    "\n",
    "# the prediciton method that will be invoked internally once the API is invoked\n",
    "def make_prediction():\n",
    "    # read json object and conter to json string\n",
    "    data = json.dumps(request.get_json(force = True))\n",
    "    \n",
    "    # create pandas dataframe from json string\n",
    "    df = pd.read_json(data)\n",
    "    \n",
    "    # extract PassengerIds\n",
    "    passenger_ids = df['PassengerId']\n",
    "    \n",
    "    # actual 'Survived' values\n",
    "    # in practice, we wouldn't have this, but we'll include it for testing purposes since train is labeled\n",
    "    actuals = df['Survived']\n",
    "    \n",
    "    # extract feature columns\n",
    "    X = df.drop(['PassengerId', 'Survived'], axis = 1)\n",
    "    \n",
    "    # make predictions\n",
    "    predictions = model.predict(X)\n",
    "    \n",
    "    # create respnse data fram\n",
    "    df_response = pd.DataFrame({'PassengerId': passenger_ids,\n",
    "                                'Predicted' : predictions,\n",
    "                                'Actual' : actuals})\n",
    "    \n",
    "    # return json response object\n",
    "    return df_response.to_json()\n",
    "    \n",
    "if __name__ == '__main__':\n",
    "    # can pick any unused port\n",
    "    # debug = True means if you have any problems in the API call, then you get a detailed stack trace\n",
    "    # good for development process, probably set to False in the production environment\n",
    "    app.run(port = 10001, debug = True)"
   ]
  },
  {
   "cell_type": "markdown",
   "metadata": {},
   "source": [
    "## Test the API\n",
    "\n",
    "Open a terminal, navigate to /your_path/titanic_survival/src/models (which is where the API is located), then execute the script. Once that is running, proceed to the next cell..."
   ]
  },
  {
   "cell_type": "code",
   "execution_count": 3,
   "metadata": {},
   "outputs": [],
   "source": [
    "# import\n",
    "import pandas as pd\n",
    "\n",
    "# get train data frame\n",
    "train_file_path = Path.cwd().parent / 'data' / 'processed' / 'train_processed_cp.csv'\n",
    "train_df = pd.read_csv(train_file_path)"
   ]
  },
  {
   "cell_type": "code",
   "execution_count": 13,
   "metadata": {},
   "outputs": [],
   "source": [
    "# pick five passengers that survived to send to the API in order to test it\n",
    "passengers_survived = train_df[train_df['Survived'] == 1][:5]"
   ]
  },
  {
   "cell_type": "code",
   "execution_count": 14,
   "metadata": {},
   "outputs": [
    {
     "data": {
      "text/html": [
       "<div>\n",
       "<style scoped>\n",
       "    .dataframe tbody tr th:only-of-type {\n",
       "        vertical-align: middle;\n",
       "    }\n",
       "\n",
       "    .dataframe tbody tr th {\n",
       "        vertical-align: top;\n",
       "    }\n",
       "\n",
       "    .dataframe thead th {\n",
       "        text-align: right;\n",
       "    }\n",
       "</style>\n",
       "<table border=\"1\" class=\"dataframe\">\n",
       "  <thead>\n",
       "    <tr style=\"text-align: right;\">\n",
       "      <th></th>\n",
       "      <th>PassengerId</th>\n",
       "      <th>Survived</th>\n",
       "      <th>Deck_Advantage</th>\n",
       "      <th>Embarked_C</th>\n",
       "      <th>Fare_Bin_0</th>\n",
       "      <th>Fare_Bin_2</th>\n",
       "      <th>Helpless</th>\n",
       "      <th>Pclass_1</th>\n",
       "      <th>Pclass_3</th>\n",
       "      <th>Sex_Female</th>\n",
       "      <th>Small_Support</th>\n",
       "    </tr>\n",
       "  </thead>\n",
       "  <tbody>\n",
       "    <tr>\n",
       "      <th>0</th>\n",
       "      <td>693</td>\n",
       "      <td>1</td>\n",
       "      <td>0</td>\n",
       "      <td>0</td>\n",
       "      <td>0</td>\n",
       "      <td>1</td>\n",
       "      <td>0</td>\n",
       "      <td>0</td>\n",
       "      <td>1</td>\n",
       "      <td>0</td>\n",
       "      <td>0</td>\n",
       "    </tr>\n",
       "    <tr>\n",
       "      <th>3</th>\n",
       "      <td>856</td>\n",
       "      <td>1</td>\n",
       "      <td>0</td>\n",
       "      <td>0</td>\n",
       "      <td>0</td>\n",
       "      <td>0</td>\n",
       "      <td>0</td>\n",
       "      <td>0</td>\n",
       "      <td>1</td>\n",
       "      <td>1</td>\n",
       "      <td>1</td>\n",
       "    </tr>\n",
       "    <tr>\n",
       "      <th>4</th>\n",
       "      <td>802</td>\n",
       "      <td>1</td>\n",
       "      <td>0</td>\n",
       "      <td>0</td>\n",
       "      <td>0</td>\n",
       "      <td>1</td>\n",
       "      <td>0</td>\n",
       "      <td>0</td>\n",
       "      <td>0</td>\n",
       "      <td>1</td>\n",
       "      <td>1</td>\n",
       "    </tr>\n",
       "    <tr>\n",
       "      <th>6</th>\n",
       "      <td>510</td>\n",
       "      <td>1</td>\n",
       "      <td>0</td>\n",
       "      <td>0</td>\n",
       "      <td>0</td>\n",
       "      <td>1</td>\n",
       "      <td>0</td>\n",
       "      <td>0</td>\n",
       "      <td>1</td>\n",
       "      <td>0</td>\n",
       "      <td>0</td>\n",
       "    </tr>\n",
       "    <tr>\n",
       "      <th>8</th>\n",
       "      <td>829</td>\n",
       "      <td>1</td>\n",
       "      <td>0</td>\n",
       "      <td>0</td>\n",
       "      <td>1</td>\n",
       "      <td>0</td>\n",
       "      <td>0</td>\n",
       "      <td>0</td>\n",
       "      <td>1</td>\n",
       "      <td>0</td>\n",
       "      <td>0</td>\n",
       "    </tr>\n",
       "  </tbody>\n",
       "</table>\n",
       "</div>"
      ],
      "text/plain": [
       "   PassengerId  Survived  Deck_Advantage  Embarked_C  Fare_Bin_0  Fare_Bin_2  \\\n",
       "0          693         1               0           0           0           1   \n",
       "3          856         1               0           0           0           0   \n",
       "4          802         1               0           0           0           1   \n",
       "6          510         1               0           0           0           1   \n",
       "8          829         1               0           0           1           0   \n",
       "\n",
       "   Helpless  Pclass_1  Pclass_3  Sex_Female  Small_Support  \n",
       "0         0         0         1           0              0  \n",
       "3         0         0         1           1              1  \n",
       "4         0         0         0           1              1  \n",
       "6         0         0         1           0              0  \n",
       "8         0         0         1           0              0  "
      ]
     },
     "execution_count": 14,
     "metadata": {},
     "output_type": "execute_result"
    }
   ],
   "source": [
    "# verify that these passengers Survived by looking at the rows of these five passengers\n",
    "passengers_survived"
   ]
  },
  {
   "cell_type": "code",
   "execution_count": 15,
   "metadata": {},
   "outputs": [],
   "source": [
    "# import\n",
    "import requests\n",
    "\n",
    "# function to make API requests\n",
    "def make_api_request(data):\n",
    "    # url for API\n",
    "    url = 'http://127.0.0.1:10001/api'\n",
    "    \n",
    "    # make post request\n",
    "    r = requests.post(url, data)\n",
    "    \n",
    "    # return the json object\n",
    "    return r.json()"
   ]
  },
  {
   "cell_type": "code",
   "execution_count": 16,
   "metadata": {},
   "outputs": [
    {
     "data": {
      "text/plain": [
       "{'PassengerId': {'0': 693, '3': 856, '4': 802, '6': 510, '8': 829},\n",
       " 'Predicted': {'0': 0, '3': 1, '4': 1, '6': 0, '8': 0},\n",
       " 'Actual': {'0': 1, '3': 1, '4': 1, '6': 1, '8': 1}}"
      ]
     },
     "execution_count": 16,
     "metadata": {},
     "output_type": "execute_result"
    }
   ],
   "source": [
    "# use api request function to make the API call\n",
    "# the actual values should all be 1\n",
    "# the model is 80% accurate, but this sample is tiny, so unlikely to see 4 of the 5 Survived\n",
    "make_api_request(passengers_survived.to_json())"
   ]
  }
 ],
 "metadata": {
  "kernelspec": {
   "display_name": "Python 3",
   "language": "python",
   "name": "python3"
  },
  "language_info": {
   "codemirror_mode": {
    "name": "ipython",
    "version": 3
   },
   "file_extension": ".py",
   "mimetype": "text/x-python",
   "name": "python",
   "nbconvert_exporter": "python",
   "pygments_lexer": "ipython3",
   "version": "3.6.5"
  }
 },
 "nbformat": 4,
 "nbformat_minor": 2
}
