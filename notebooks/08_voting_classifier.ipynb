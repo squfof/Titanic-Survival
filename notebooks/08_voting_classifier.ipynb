{
 "cells": [
  {
   "cell_type": "markdown",
   "metadata": {},
   "source": [
    "# Build Voting Classifier Models\n",
    "\n",
    "## Import Processed Data"
   ]
  },
  {
   "cell_type": "code",
   "execution_count": 1,
   "metadata": {},
   "outputs": [],
   "source": [
    "import pandas as pd\n",
    "from pathlib import Path\n",
    "import numpy as np\n",
    "import matplotlib.pyplot as plt\n",
    "%matplotlib inline\n",
    "from sklearn.externals import joblib\n",
    "from sklearn.ensemble import VotingClassifier\n",
    "from sklearn.model_selection import cross_val_score\n",
    "from sklearn.model_selection import GridSearchCV\n",
    "from sklearn.metrics import confusion_matrix, precision_score, recall_score, f1_score, roc_auc_score"
   ]
  },
  {
   "cell_type": "code",
   "execution_count": 2,
   "metadata": {},
   "outputs": [],
   "source": [
    "# set path of the processed data\n",
    "processed_data_path = Path.cwd().parent / 'data' / 'processed'\n",
    "train_processed_file_path = processed_data_path /'train_processed_cp.csv'\n",
    "test_processed_file_path = processed_data_path / 'test_processed_cp.csv'\n",
    "unlabeled_processed_file_path = processed_data_path / 'unlabeled_processed_cp.csv'\n",
    "\n",
    "# create data frames for train, test, and unlabled data\n",
    "train_df = pd.read_csv(train_processed_file_path, index_col = 'PassengerId')\n",
    "test_df = pd.read_csv(test_processed_file_path, index_col = 'PassengerId')\n",
    "unlabeled_df = pd.read_csv(unlabeled_processed_file_path, index_col = 'PassengerId')"
   ]
  },
  {
   "cell_type": "code",
   "execution_count": 3,
   "metadata": {},
   "outputs": [],
   "source": [
    "# in the train and test data, X contains all the columns except Survived\n",
    "# y is Survived\n",
    "X_train = train_df.drop(['Survived'], axis = 1)\n",
    "y_train = train_df['Survived']\n",
    "X_test = test_df.drop(['Survived'], axis = 1)\n",
    "y_test = test_df['Survived']"
   ]
  },
  {
   "cell_type": "markdown",
   "metadata": {},
   "source": [
    "## Load persisted models"
   ]
  },
  {
   "cell_type": "code",
   "execution_count": 4,
   "metadata": {},
   "outputs": [],
   "source": [
    "# create file paths\n",
    "knn_model_file_path = Path.cwd().parent / 'models' / 'knn_cp_model.pkl'\n",
    "mlp_model_file_path = Path.cwd().parent / 'models' / 'mlp_cp_model.pkl'\n",
    "poly_svc_model_file_path = Path.cwd().parent / 'models' / 'poly_svc_cp_model.pkl'\n",
    "rf_model_file_path = Path.cwd().parent / 'models' / 'rf_cp_model.pkl'\n",
    "logreg_model_file_path = Path.cwd().parent / 'models' / 'logreg_cp_model.pkl'\n",
    "\n",
    "# load\n",
    "knn_model = joblib.load(knn_model_file_path)\n",
    "mlp_model = joblib.load(mlp_model_file_path)\n",
    "poly_svc_model = joblib.load(poly_svc_model_file_path)\n",
    "rf_model = joblib.load(rf_model_file_path)\n",
    "logreg_model = joblib.load(logreg_model_file_path)"
   ]
  },
  {
   "cell_type": "markdown",
   "metadata": {},
   "source": [
    "## Hard Voting with all 5 models"
   ]
  },
  {
   "cell_type": "code",
   "execution_count": 5,
   "metadata": {},
   "outputs": [
    {
     "name": "stdout",
     "output_type": "stream",
     "text": [
      "CV F1 mean: 0.754040\n",
      "CV F1 std: 0.042286\n",
      "CV F1 scores: [0.75471698 0.67391304 0.77777778 0.76767677 0.7961165 ]\n"
     ]
    }
   ],
   "source": [
    "# not sure which is triggering the warning, suppress until I figure that out\n",
    "import warnings\n",
    "warnings.simplefilter(\"ignore\", DeprecationWarning)\n",
    "\n",
    "# use 5-fold CV to evaluate accuracy with train data\n",
    "model = VotingClassifier(estimators = [('knn', knn_model),\n",
    "                                       ('mlp', mlp_model),\n",
    "                                       ('poly_svc', poly_svc_model),\n",
    "                                       ('rf', rf_model),\n",
    "                                       ('logreg', logreg_model)\n",
    "                                      ],\n",
    "                         voting = 'hard')\n",
    "scores = cross_val_score(model, X_train, y_train, cv = 5, scoring = 'f1')\n",
    "\n",
    "print('CV F1 mean: ' + '{0:2f}'.format(scores.mean()))\n",
    "print('CV F1 std: ' + '{0:2f}'.format(scores.std()))\n",
    "print('CV F1 scores:', scores)"
   ]
  },
  {
   "cell_type": "markdown",
   "metadata": {},
   "source": [
    "## Soft Voting with all 5 models"
   ]
  },
  {
   "cell_type": "code",
   "execution_count": 6,
   "metadata": {},
   "outputs": [
    {
     "name": "stdout",
     "output_type": "stream",
     "text": [
      "CV F1 mean: 0.752782\n",
      "CV F1 std: 0.051742\n",
      "CV F1 scores: [0.74074074 0.65934066 0.80769231 0.76767677 0.78846154]\n"
     ]
    }
   ],
   "source": [
    "# use 5-fold CV to evaluate accuracy with train data\n",
    "model.voting = 'soft'\n",
    "scores = cross_val_score(model, X_train, y_train, cv = 5, scoring = 'f1')\n",
    "\n",
    "print('CV F1 mean: ' + '{0:2f}'.format(scores.mean()))\n",
    "print('CV F1 std: ' + '{0:2f}'.format(scores.std()))\n",
    "print('CV F1 scores:', scores)"
   ]
  },
  {
   "cell_type": "markdown",
   "metadata": {},
   "source": [
    "## Hard Voting with best 2 models"
   ]
  },
  {
   "cell_type": "code",
   "execution_count": 7,
   "metadata": {},
   "outputs": [
    {
     "name": "stdout",
     "output_type": "stream",
     "text": [
      "CV F1 mean: 0.756588\n",
      "CV F1 std: 0.044505\n",
      "CV F1 scores: [0.75       0.67391304 0.7961165  0.77083333 0.79207921]\n"
     ]
    }
   ],
   "source": [
    "# not sure which is triggering the warning, suppress until I figure that out\n",
    "import warnings\n",
    "warnings.simplefilter(\"ignore\", DeprecationWarning)\n",
    "\n",
    "# use 5-fold CV to evaluate accuracy with train data\n",
    "model = VotingClassifier(estimators = [#('knn', knn_model),\n",
    "                                       ('mlp', mlp_model),\n",
    "                                       ('poly_svc', poly_svc_model),\n",
    "                                       #('rf', rf_model),\n",
    "                                       #('logreg', logreg_model)\n",
    "                                      ],\n",
    "                         voting = 'hard')\n",
    "scores = cross_val_score(model, X_train, y_train, cv = 5, scoring = 'f1')\n",
    "\n",
    "print('CV F1 mean: ' + '{0:2f}'.format(scores.mean()))\n",
    "print('CV F1 std: ' + '{0:2f}'.format(scores.std()))\n",
    "print('CV F1 scores:', scores)"
   ]
  },
  {
   "cell_type": "markdown",
   "metadata": {},
   "source": [
    "## Soft Voting with best 2 models"
   ]
  },
  {
   "cell_type": "code",
   "execution_count": 8,
   "metadata": {},
   "outputs": [
    {
     "name": "stdout",
     "output_type": "stream",
     "text": [
      "CV F1 mean: 0.759159\n",
      "CV F1 std: 0.045621\n",
      "CV F1 scores: [0.75       0.67391304 0.7962963  0.78350515 0.79207921]\n"
     ]
    }
   ],
   "source": [
    "# use 5-fold CV to evaluate accuracy with train data\n",
    "model.voting = 'soft'\n",
    "scores = cross_val_score(model, X_train, y_train, cv = 5, scoring = 'f1')\n",
    "\n",
    "print('CV F1 mean: ' + '{0:2f}'.format(scores.mean()))\n",
    "print('CV F1 std: ' + '{0:2f}'.format(scores.std()))\n",
    "print('CV F1 scores:', scores)"
   ]
  },
  {
   "cell_type": "markdown",
   "metadata": {},
   "source": [
    "## Kaggle Score: 0.78947\n",
    "\n",
    "Before we \"go live\" with this model (that is, submit its predictions to Kaggle), let's check how it performs on the test data, data that it has never seen and had no influence on its selection:"
   ]
  },
  {
   "cell_type": "code",
   "execution_count": 9,
   "metadata": {},
   "outputs": [
    {
     "name": "stdout",
     "output_type": "stream",
     "text": [
      "Voting Classifier Accuracy: 0.821229\n"
     ]
    }
   ],
   "source": [
    "# fit model to entire train set\n",
    "model = VotingClassifier(estimators = [#('knn', knn_model),\n",
    "                                       ('mlp', mlp_model),\n",
    "                                       ('poly_svc', poly_svc_model),\n",
    "                                       #('rf', rf_model),\n",
    "                                       #('logreg', logreg_model)\n",
    "                                      ],\n",
    "                         voting = 'soft').fit(X_train, y_train)\n",
    "\n",
    "# evaluate accuracy on test set\n",
    "print('Voting Classifier Accuracy: ' + '{0:2f}'.format(model.score(X_test, y_test)))"
   ]
  },
  {
   "cell_type": "code",
   "execution_count": 10,
   "metadata": {},
   "outputs": [],
   "source": [
    "# generate predictions\n",
    "predictions = model.predict(unlabeled_df)\n",
    "\n",
    "# create a new data frame with two columns: PassengerId and our predicted values for Survived\n",
    "submission_df = pd.DataFrame({'PassengerId' : unlabeled_df.index, 'Survived' : predictions})\n",
    "\n",
    "# write submission to disk...\n",
    "# first define path\n",
    "submission_file_path = Path.cwd().parent / 'data' / 'external' / 'voting_cp.csv'\n",
    "\n",
    "# create the .csv file\n",
    "# index is False since we don't want a third column\n",
    "submission_df.to_csv(submission_file_path, index = False)"
   ]
  },
  {
   "cell_type": "markdown",
   "metadata": {},
   "source": [
    "## Model Persistence"
   ]
  },
  {
   "cell_type": "code",
   "execution_count": 11,
   "metadata": {},
   "outputs": [],
   "source": [
    "# create file path\n",
    "model_file_path = Path.cwd().parent / 'models' / 'voting_cp_model.pkl'\n",
    "\n",
    "# persist the model\n",
    "joblib.dump(model, model_file_path);"
   ]
  },
  {
   "cell_type": "markdown",
   "metadata": {},
   "source": [
    "#### Optional: Check the persisted model"
   ]
  },
  {
   "cell_type": "code",
   "execution_count": 12,
   "metadata": {},
   "outputs": [],
   "source": [
    "# create file paths\n",
    "model_file_path = Path.cwd().parent / 'models' / 'voting_cp_model.pkl'\n",
    "\n",
    "# load\n",
    "model_loaded = joblib.load(model_file_path)"
   ]
  },
  {
   "cell_type": "code",
   "execution_count": 13,
   "metadata": {},
   "outputs": [
    {
     "data": {
      "text/plain": [
       "VotingClassifier(estimators=[('mlp', MLPClassifier(activation='relu', alpha=0.0001, batch_size='auto', beta_1=0.9,\n",
       "       beta_2=0.999, early_stopping=False, epsilon=1e-08,\n",
       "       hidden_layer_sizes=(10, 9), learning_rate='constant',\n",
       "       learning_rate_init=0.001, max_iter=1000, momentum=0.9,\n",
       "       nesterovs_mome...ly',\n",
       "  max_iter=-1, probability=True, random_state=42, shrinking=True,\n",
       "  tol=0.001, verbose=False))],\n",
       "         flatten_transform=None, n_jobs=1, voting='soft', weights=None)"
      ]
     },
     "execution_count": 13,
     "metadata": {},
     "output_type": "execute_result"
    }
   ],
   "source": [
    "# print the model object description\n",
    "model_loaded"
   ]
  },
  {
   "cell_type": "code",
   "execution_count": 14,
   "metadata": {},
   "outputs": [
    {
     "name": "stdout",
     "output_type": "stream",
     "text": [
      "Persisted Voting Accuracy: 0.821229\n"
     ]
    }
   ],
   "source": [
    "# calculate the score using the loaded model object\n",
    "# we should get 0.821229, as above\n",
    "print('Persisted Voting Accuracy: ' + '{0:2f}'.format(model_loaded.score(X_test, y_test)))"
   ]
  },
  {
   "cell_type": "markdown",
   "metadata": {},
   "source": [
    "## Error Analysis"
   ]
  },
  {
   "cell_type": "code",
   "execution_count": 15,
   "metadata": {},
   "outputs": [],
   "source": [
    "# imports\n",
    "from sklearn.model_selection import cross_val_predict"
   ]
  },
  {
   "cell_type": "code",
   "execution_count": 16,
   "metadata": {},
   "outputs": [],
   "source": [
    "# instead of scoring, get the cross-validated estimates for each image\n",
    "y_train_pred = cross_val_predict(model, X_train, y_train, cv = 5)"
   ]
  },
  {
   "cell_type": "code",
   "execution_count": 17,
   "metadata": {},
   "outputs": [
    {
     "name": "stdout",
     "output_type": "stream",
     "text": [
      "[[401  38]\n",
      " [ 82 191]]\n",
      "Precision score:  0.834061135371179\n",
      "Recall score:  0.6996336996336996\n",
      "F1 score:  0.7609561752988047\n",
      "Area under the ROC curve:  0.8065366675845036\n"
     ]
    }
   ],
   "source": [
    "# now let's take a look at the confusion matrix to see\n",
    "# which actual labels (rows) do not match the predicted label (columns)\n",
    "from sklearn.metrics import confusion_matrix, precision_score, recall_score, f1_score, roc_auc_score\n",
    "\n",
    "conf_mx = confusion_matrix(y_train, y_train_pred)\n",
    "print(np.matrix(conf_mx))\n",
    "print('Precision score: ', precision_score(y_train, y_train_pred))\n",
    "print('Recall score: ', recall_score(y_train, y_train_pred))\n",
    "print('F1 score: ', f1_score(y_train, y_train_pred))\n",
    "print('Area under the ROC curve: ', roc_auc_score(y_train, y_train_pred))"
   ]
  },
  {
   "cell_type": "code",
   "execution_count": 18,
   "metadata": {},
   "outputs": [],
   "source": [
    "# I forget where I found this but it produces beautiful learning curves!\n",
    "\n",
    "from sklearn.model_selection import ShuffleSplit\n",
    "from sklearn.model_selection import learning_curve\n",
    "\n",
    "def plot_learning_curve(estimator, title, X, y, ylim=None, cv=None,\n",
    "                        n_jobs=1, train_sizes=np.linspace(.1, 1.0, 5)):\n",
    "    \"\"\"\n",
    "    Generate a simple plot of the test and training learning curve.\n",
    "\n",
    "    Parameters\n",
    "    ----------\n",
    "    estimator : object type that implements the \"fit\" and \"predict\" methods\n",
    "        An object of that type which is cloned for each validation.\n",
    "\n",
    "    title : string\n",
    "        Title for the chart.\n",
    "\n",
    "    X : array-like, shape (n_samples, n_features)\n",
    "        Training vector, where n_samples is the number of samples and\n",
    "        n_features is the number of features.\n",
    "\n",
    "    y : array-like, shape (n_samples) or (n_samples, n_features), optional\n",
    "        Target relative to X for classification or regression;\n",
    "        None for unsupervised learning.\n",
    "\n",
    "    ylim : tuple, shape (ymin, ymax), optional\n",
    "        Defines minimum and maximum yvalues plotted.\n",
    "\n",
    "    cv : int, cross-validation generator or an iterable, optional\n",
    "        Determines the cross-validation splitting strategy.\n",
    "        Possible inputs for cv are:\n",
    "          - None, to use the default 3-fold cross-validation,\n",
    "          - integer, to specify the number of folds.\n",
    "          - An object to be used as a cross-validation generator.\n",
    "          - An iterable yielding train/test splits.\n",
    "\n",
    "        For integer/None inputs, if ``y`` is binary or multiclass,\n",
    "        :class:`StratifiedKFold` used. If the estimator is not a classifier\n",
    "        or if ``y`` is neither binary nor multiclass, :class:`KFold` is used.\n",
    "\n",
    "        Refer :ref:`User Guide <cross_validation>` for the various\n",
    "        cross-validators that can be used here.\n",
    "\n",
    "    n_jobs : integer, optional\n",
    "        Number of jobs to run in parallel (default 1).\n",
    "    \"\"\"\n",
    "    plt.figure()\n",
    "    plt.title(title)\n",
    "    if ylim is not None:\n",
    "        plt.ylim(*ylim)\n",
    "    plt.xlabel(\"Training examples\")\n",
    "    plt.ylabel(\"Score\")\n",
    "    train_sizes, train_scores, test_scores = learning_curve(\n",
    "        estimator, X, y, cv=cv, n_jobs=n_jobs, train_sizes=train_sizes)\n",
    "    train_scores_mean = np.mean(train_scores, axis=1)\n",
    "    train_scores_std = np.std(train_scores, axis=1)\n",
    "    test_scores_mean = np.mean(test_scores, axis=1)\n",
    "    test_scores_std = np.std(test_scores, axis=1)\n",
    "    plt.grid()\n",
    "\n",
    "    plt.fill_between(train_sizes, train_scores_mean - train_scores_std,\n",
    "                     train_scores_mean + train_scores_std, alpha=0.1,\n",
    "                     color=\"r\")\n",
    "    plt.fill_between(train_sizes, test_scores_mean - test_scores_std,\n",
    "                     test_scores_mean + test_scores_std, alpha=0.1, color=\"g\")\n",
    "    plt.plot(train_sizes, train_scores_mean, 'o-', color=\"r\",\n",
    "             label=\"Training score\")\n",
    "    plt.plot(train_sizes, test_scores_mean, 'o-', color=\"g\",\n",
    "             label=\"Cross-validation score\")\n",
    "\n",
    "    plt.legend(loc=\"best\")\n",
    "    return plt"
   ]
  },
  {
   "cell_type": "code",
   "execution_count": 19,
   "metadata": {},
   "outputs": [
    {
     "data": {
      "image/png": "[encoded data removed]",
      "text/plain": [
       "<Figure size 432x288 with 1 Axes>"
      ]
     },
     "metadata": {},
     "output_type": "display_data"
    }
   ],
   "source": [
    "title = \"Learning Curves (Voting)\"\n",
    "cv = ShuffleSplit(n_splits = 100, test_size = 0.2, random_state = 42)\n",
    "plot_learning_curve(model, title, X_train, y_train, ylim = (0.7, 1.0), cv = cv, n_jobs = -1);"
   ]
  }
 ],
 "metadata": {
  "kernelspec": {
   "display_name": "Python 3",
   "language": "python",
   "name": "python3"
  },
  "language_info": {
   "codemirror_mode": {
    "name": "ipython",
    "version": 3
   },
   "file_extension": ".py",
   "mimetype": "text/x-python",
   "name": "python",
   "nbconvert_exporter": "python",
   "pygments_lexer": "ipython3",
   "version": "3.6.5"
  }
 },
 "nbformat": 4,
 "nbformat_minor": 2
}
