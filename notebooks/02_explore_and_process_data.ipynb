{
 "cells": [
  {
   "cell_type": "markdown",
   "metadata": {},
   "source": [
    "# Explore and Process Data\n",
    "\n",
    "## Load Data"
   ]
  },
  {
   "cell_type": "code",
   "execution_count": 1,
   "metadata": {},
   "outputs": [
    {
     "name": "stdout",
     "output_type": "stream",
     "text": [
      "Populating the interactive namespace from numpy and matplotlib\n"
     ]
    }
   ],
   "source": [
    "# import useful libraries\n",
    "import pandas as pd\n",
    "import numpy as np\n",
    "import scipy.stats as scs\n",
    "from pathlib import Path\n",
    "from sklearn.model_selection import train_test_split\n",
    "%matplotlib inline\n",
    "%pylab inline\n",
    "\n",
    "# set the path of the raw data\n",
    "raw_data_path = Path.cwd().parent / 'data' / 'raw' \n",
    "labeled_file_path = raw_data_path / 'train.csv'\n",
    "unlabeled_file_path = raw_data_path / 'test.csv'\n",
    "\n",
    "# read the data with all default parameters\n",
    "labeled_df = pd.read_csv(labeled_file_path, index_col = 'PassengerId')\n",
    "unlabeled_df = pd.read_csv(unlabeled_file_path, index_col = 'PassengerId')"
   ]
  },
  {
   "cell_type": "code",
   "execution_count": 2,
   "metadata": {},
   "outputs": [
    {
     "name": "stdout",
     "output_type": "stream",
     "text": [
      "Labeled:\n",
      "\n",
      "<class 'pandas.core.frame.DataFrame'>\n",
      "Int64Index: 891 entries, 1 to 891\n",
      "Data columns (total 11 columns):\n",
      "Survived    891 non-null int64\n",
      "Pclass      891 non-null int64\n",
      "Name        891 non-null object\n",
      "Sex         891 non-null object\n",
      "Age         714 non-null float64\n",
      "SibSp       891 non-null int64\n",
      "Parch       891 non-null int64\n",
      "Ticket      891 non-null object\n",
      "Fare        891 non-null float64\n",
      "Cabin       204 non-null object\n",
      "Embarked    889 non-null object\n",
      "dtypes: float64(2), int64(4), object(5)\n",
      "memory usage: 83.5+ KB\n",
      "None\n",
      "\n",
      "Unlabeled:\n",
      "\n",
      "<class 'pandas.core.frame.DataFrame'>\n",
      "Int64Index: 418 entries, 892 to 1309\n",
      "Data columns (total 10 columns):\n",
      "Pclass      418 non-null int64\n",
      "Name        418 non-null object\n",
      "Sex         418 non-null object\n",
      "Age         332 non-null float64\n",
      "SibSp       418 non-null int64\n",
      "Parch       418 non-null int64\n",
      "Ticket      418 non-null object\n",
      "Fare        417 non-null float64\n",
      "Cabin       91 non-null object\n",
      "Embarked    418 non-null object\n",
      "dtypes: float64(2), int64(3), object(5)\n",
      "memory usage: 35.9+ KB\n",
      "None\n"
     ]
    }
   ],
   "source": [
    "# list columns, data types, and column counts\n",
    "print('Labeled:\\n')\n",
    "print(labeled_df.info())\n",
    "print('\\nUnlabeled:\\n')\n",
    "print(unlabeled_df.info())"
   ]
  },
  {
   "cell_type": "markdown",
   "metadata": {},
   "source": [
    "## Labeled Data Survival Rate"
   ]
  },
  {
   "cell_type": "code",
   "execution_count": 3,
   "metadata": {},
   "outputs": [
    {
     "name": "stdout",
     "output_type": "stream",
     "text": [
      "Number of (labeled) passengers: 891\n",
      "Number of survivors: 342\n",
      "Survival rate: 0.3838383838383838\n"
     ]
    }
   ],
   "source": [
    "print('Number of (labeled) passengers:', len(labeled_df))\n",
    "print('Number of survivors:', len(labeled_df[labeled_df.Survived == 1]))\n",
    "print('Survival rate:', labeled_df.Survived.mean())"
   ]
  },
  {
   "cell_type": "markdown",
   "metadata": {},
   "source": [
    "## Assumptions and Approach\n",
    "\n",
    "We have both categorical and numerical data, and the standard approach is to one-hot encode categorical features. This means we will have many new columns, one for each value of a given categorical feature.\n",
    "\n",
    "In order to decide whether or not to keep a given feature, F, we will look at the conditional probability of survival, S, given the value of the feature, P(S|F). There are three cases to keep in mind.\n",
    "\n",
    "1. #(F) is small: In this case we want to see that P(S|F) is either very close to 0 (a small group of non-surivors) or 1 (a small group of survivors); otherwise it might be difficult for other features to help sort out survivors from non-survivors in such a small group. Note that !F ('not F', passengers without the feature) will have distribution close to that of the entire labeled data set, so we should expect to see P(S|!F) approximately 0.38.\n",
    "\n",
    "2. #(F) is approximately 342, the total number of survivors: Of course, if we find P(S|F) very close to 1, then we have found most of the survivors with a single feature, which is unlikely. If P(S|F) is very close to 0, then we have found a big chunk of the non-survivors with a single feature, which should be helpful in avoiding false positives. Unlike the previous case (where #(F) is small), we can tolerate P(S|F) being not quite as close to the extremes, since other features can help us find survivors (if P(S|F) is closer to 1, non-surivors if closer to zero), perhaps in clusters. As for !F, we will find P(S|!F) ranging from 0 (if all/most of the survivors have F) to approximately 342/(891-342), or approximately 0.62.\n",
    "\n",
    "3. #(F) is large: This is just the first case with the roles of F and !F reversed.\n",
    "\n",
    "A final note: If we simply guess !S, we should have a classifier that is about 62% accurate. Therefore, any model that we construct should be able to beat this level of accuracy."
   ]
  },
  {
   "cell_type": "markdown",
   "metadata": {},
   "source": [
    "#### Missing Data: Age and Cabin in both sets. Embarked in labeled set and Fare in unlabeled set.\n",
    "\n",
    "#### Numerical Data: Age, SibSp, Parch, and Fare\n",
    "\n",
    "#### Categorical Data: Name, Sex, Ticket, Cabin, Embarked, Survived, Pclass\n",
    "\n",
    "## Feature: Sex"
   ]
  },
  {
   "cell_type": "code",
   "execution_count": 4,
   "metadata": {},
   "outputs": [],
   "source": [
    "# no missing values, so encode Sex as 1 if female, 0 if male\n",
    "labeled_df['Sex_Female'] = labeled_df.Sex.map(lambda x : 1 if x == 'female' else 0)\n",
    "unlabeled_df['Sex_Female'] = unlabeled_df.Sex.map(lambda x : 1 if x == 'female' else 0)"
   ]
  },
  {
   "cell_type": "code",
   "execution_count": 5,
   "metadata": {},
   "outputs": [
    {
     "name": "stdout",
     "output_type": "stream",
     "text": [
      "Survived      0    1  All\n",
      "Sex_Female               \n",
      "0           468  109  577\n",
      "1            81  233  314\n",
      "All         549  342  891 \n",
      "\n",
      "Sex_Female\n",
      "0    0.188908\n",
      "1    0.742038\n",
      "Name: Survived, dtype: float64\n"
     ]
    }
   ],
   "source": [
    "# let's look at the Sex_Female vs Survived crosstab...\n",
    "ct = pd.crosstab(labeled_df.Sex_Female, labeled_df.Survived, margins = True)\n",
    "print(ct, '\\n')\n",
    "\n",
    "# ...as well as the mean Survived (proportion that survived) grouping by Sex_Female\n",
    "print(labeled_df.groupby('Sex_Female').Survived.mean())"
   ]
  },
  {
   "cell_type": "code",
   "execution_count": 6,
   "metadata": {},
   "outputs": [],
   "source": [
    "# delete Sex\n",
    "labeled_df.drop(['Sex'], axis = 1, inplace = True)\n",
    "unlabeled_df.drop(['Sex'], axis = 1, inplace = True)"
   ]
  },
  {
   "cell_type": "markdown",
   "metadata": {},
   "source": [
    "We have found 233 of the 342 survivors with one feature, F = Sex_Female. Since #(F) is close to #(S), and P(S|F) ~ 0.74 is close to 1 (as close as we are likely to get with a single feature and #(F) ~ #(S)), we should defintely keep this feature. \n",
    "\n",
    "## Feature: Pclass\n",
    "\n",
    "While Pclass is represented by an integer, it is ordinal data (e.g., the difference between Pclass = 1 and 2 is not exactly the same as the difference between Pclass = 2 and 3). So, we will one-hot encode Pclass."
   ]
  },
  {
   "cell_type": "code",
   "execution_count": 7,
   "metadata": {},
   "outputs": [],
   "source": [
    "# one-hot encode Pclass\n",
    "labeled_df = pd.get_dummies(labeled_df, columns = ['Pclass'])\n",
    "unlabeled_df = pd.get_dummies(unlabeled_df, columns = ['Pclass'])"
   ]
  },
  {
   "cell_type": "code",
   "execution_count": 8,
   "metadata": {},
   "outputs": [
    {
     "name": "stdout",
     "output_type": "stream",
     "text": [
      "Survived    0    1  All\n",
      "Pclass_1               \n",
      "0         469  206  675\n",
      "1          80  136  216\n",
      "All       549  342  891 \n",
      "\n",
      "Pclass_1\n",
      "0    0.305185\n",
      "1    0.629630\n",
      "Name: Survived, dtype: float64 \n",
      "\n"
     ]
    }
   ],
   "source": [
    "# let's look at the Pclass_1 vs Survived crosstabs...\n",
    "print(pd.crosstab(labeled_df.Pclass_1, labeled_df.Survived, margins = True), '\\n')\n",
    "\n",
    "# ...as well as the mean Survived (proportion that survived) grouping by Pclass_1\n",
    "print(labeled_df.groupby('Pclass_1').Survived.mean(), '\\n')"
   ]
  },
  {
   "cell_type": "code",
   "execution_count": 9,
   "metadata": {},
   "outputs": [
    {
     "name": "stdout",
     "output_type": "stream",
     "text": [
      "Survived    0    1  All\n",
      "Pclass_2               \n",
      "0         452  255  707\n",
      "1          97   87  184\n",
      "All       549  342  891 \n",
      "\n",
      "Pclass_2\n",
      "0    0.360679\n",
      "1    0.472826\n",
      "Name: Survived, dtype: float64 \n",
      "\n"
     ]
    }
   ],
   "source": [
    "# let's look at the Pclass_2 vs Survived crosstabs...\n",
    "print(pd.crosstab(labeled_df.Pclass_2, labeled_df.Survived, margins = True), '\\n')\n",
    "\n",
    "# ...as well as the mean Survived (proportion that survived) grouping by Pclass_2\n",
    "print(labeled_df.groupby('Pclass_2').Survived.mean(), '\\n')"
   ]
  },
  {
   "cell_type": "code",
   "execution_count": 10,
   "metadata": {},
   "outputs": [
    {
     "name": "stdout",
     "output_type": "stream",
     "text": [
      "Survived    0    1  All\n",
      "Pclass_3               \n",
      "0         177  223  400\n",
      "1         372  119  491\n",
      "All       549  342  891 \n",
      "\n",
      "Pclass_3\n",
      "0    0.557500\n",
      "1    0.242363\n",
      "Name: Survived, dtype: float64 \n",
      "\n"
     ]
    }
   ],
   "source": [
    "# let's look at the Pclass_3 vs Survived crosstabs...\n",
    "print(pd.crosstab(labeled_df.Pclass_3, labeled_df.Survived, margins = True), '\\n')\n",
    "\n",
    "# ...as well as the mean Survived (proportion that survived) grouping by Pclass_3\n",
    "print(labeled_df.groupby('Pclass_3').Survived.mean(), '\\n')"
   ]
  },
  {
   "cell_type": "markdown",
   "metadata": {},
   "source": [
    "Pclass_1: The size of this feature is not quite as large as that of Sex_Female, and P(S|F) is not quite has high, but still worth keeping.\n",
    "\n",
    "Pclass_2: Even smaller than Pclass_1 and survival is about 50-50. The complement, !F, has distribution close to that of the entire labeled data set. We get to drop one of these features anyway (since any two determine the value of the third), so I think we should drop it.\n",
    "\n",
    "Pclass_3: A relatively large feature with poor survival rate; its complement is also relatively large and has a survival rate of approximately 0.56. Not a great feature but good enough to keep for now, though other features will be needed to distinguish survivors from non-survivors."
   ]
  },
  {
   "cell_type": "code",
   "execution_count": 11,
   "metadata": {},
   "outputs": [],
   "source": [
    "# delete Pclass_2\n",
    "labeled_df.drop(['Pclass_2'], axis = 1, inplace = True)\n",
    "unlabeled_df.drop(['Pclass_2'], axis = 1, inplace = True)"
   ]
  },
  {
   "cell_type": "markdown",
   "metadata": {},
   "source": [
    "## Feature: SibSp and Parch\n",
    "\n",
    "These are numerical (ratio) data, so no need to one-hot encode unless we group values together."
   ]
  },
  {
   "cell_type": "code",
   "execution_count": 12,
   "metadata": {},
   "outputs": [
    {
     "name": "stdout",
     "output_type": "stream",
     "text": [
      "Survived       0    1  All\n",
      "SibSp Parch               \n",
      "0     0      374  163  537\n",
      "      1       13   25   38\n",
      "      2        8   21   29\n",
      "      3        0    1    1\n",
      "      4        1    0    1\n",
      "      5        2    0    2\n",
      "1     0       59   64  123\n",
      "      1       23   34   57\n",
      "      2        7   12   19\n",
      "      3        2    1    3\n",
      "      4        3    0    3\n",
      "      5        2    1    3\n",
      "      6        1    0    1\n",
      "2     0       12    4   16\n",
      "      1        1    6    7\n",
      "      2        2    2    4\n",
      "      3        0    1    1\n",
      "3     0        0    2    2\n",
      "      1        7    0    7\n",
      "      2        5    2    7\n",
      "4     1        9    0    9\n",
      "      2        6    3    9\n",
      "5     2        5    0    5\n",
      "8     2        7    0    7\n",
      "All          549  342  891 \n",
      "\n",
      "Parch         0         1         2         3  4         5  6\n",
      "SibSp                                                        \n",
      "0      0.303538  0.657895  0.724138  1.000000  0  0.000000  0\n",
      "1      0.520325  0.596491  0.631579  0.333333  0  0.333333  0\n",
      "2      0.250000  0.857143  0.500000  1.000000  0  0.000000  0\n",
      "3      1.000000  0.000000  0.285714  0.000000  0  0.000000  0\n",
      "4      0.000000  0.000000  0.333333  0.000000  0  0.000000  0\n",
      "5      0.000000  0.000000  0.000000  0.000000  0  0.000000  0\n",
      "8      0.000000  0.000000  0.000000  0.000000  0  0.000000  0\n"
     ]
    }
   ],
   "source": [
    "# no missing values, so look at the Survived vs SibSp, Parch crosstabs\n",
    "print(pd.crosstab([labeled_df.SibSp, labeled_df.Parch], labeled_df.Survived, margins = True), '\\n')\n",
    "\n",
    "# since these seem related, let's also look at a pivot table for\n",
    "# SibSp (row) and Parch (column) with Survived totals and means\n",
    "print(labeled_df.pivot_table(index = 'SibSp', columns = 'Parch', values = 'Survived',\n",
    "                             aggfunc = mean, fill_value = 0))"
   ]
  },
  {
   "cell_type": "markdown",
   "metadata": {},
   "source": [
    "I'm not really sure what to think about these two features. The best I can come up with is the following: survival rate seems poor if both are zero (the passenger is traveling without relatives), or if their sum is greater than three (too many relatives to gather into a life boat?)."
   ]
  },
  {
   "cell_type": "code",
   "execution_count": 13,
   "metadata": {},
   "outputs": [],
   "source": [
    "# determine whether or not the number of relatives is too small (zero) or too big (greater than three)\n",
    "def get_support(sibsp, parch):\n",
    "    return 1 if 1 <= sibsp + parch <= 3 else 0\n",
    "\n",
    "# create new column\n",
    "labeled_df['Small_Support'] = np.vectorize(get_support)(labeled_df['SibSp'],\n",
    "                                                        labeled_df['Parch'])\n",
    "unlabeled_df['Small_Support'] = np.vectorize(get_support)(unlabeled_df['SibSp'],\n",
    "                                                          unlabeled_df['Parch'])"
   ]
  },
  {
   "cell_type": "code",
   "execution_count": 14,
   "metadata": {},
   "outputs": [
    {
     "name": "stdout",
     "output_type": "stream",
     "text": [
      "Survived         0    1  All\n",
      "Small_Support               \n",
      "0              426  173  599\n",
      "1              123  169  292\n",
      "All            549  342  891 \n",
      "\n",
      "Small_Support\n",
      "0    0.288815\n",
      "1    0.578767\n",
      "Name: Survived, dtype: float64 \n",
      "\n"
     ]
    }
   ],
   "source": [
    "# let's look at the Small_Support vs Survived crosstabs...\n",
    "print(pd.crosstab(labeled_df.Small_Support, labeled_df.Survived, margins = True), '\\n')\n",
    "\n",
    "# ...as well as the mean Survived (proportion that survived) grouping by Small_Support\n",
    "print(labeled_df.groupby('Small_Support').Survived.mean(), '\\n')"
   ]
  },
  {
   "cell_type": "markdown",
   "metadata": {},
   "source": [
    "Well, #(F) ~ #(S), but the survival rate isn't great. Stll, probably good enough to keep."
   ]
  },
  {
   "cell_type": "code",
   "execution_count": 15,
   "metadata": {},
   "outputs": [],
   "source": [
    "# drop SibSp and Parch\n",
    "labeled_df.drop(['SibSp', 'Parch'], axis = 1, inplace = True)\n",
    "unlabeled_df.drop(['SibSp', 'Parch'], axis = 1, inplace = True)"
   ]
  },
  {
   "cell_type": "markdown",
   "metadata": {},
   "source": [
    "## Feature: Embarked"
   ]
  },
  {
   "cell_type": "code",
   "execution_count": 16,
   "metadata": {},
   "outputs": [
    {
     "data": {
      "text/html": [
       "<div>\n",
       "<style scoped>\n",
       "    .dataframe tbody tr th:only-of-type {\n",
       "        vertical-align: middle;\n",
       "    }\n",
       "\n",
       "    .dataframe tbody tr th {\n",
       "        vertical-align: top;\n",
       "    }\n",
       "\n",
       "    .dataframe thead th {\n",
       "        text-align: right;\n",
       "    }\n",
       "</style>\n",
       "<table border=\"1\" class=\"dataframe\">\n",
       "  <thead>\n",
       "    <tr style=\"text-align: right;\">\n",
       "      <th></th>\n",
       "      <th>Survived</th>\n",
       "      <th>Name</th>\n",
       "      <th>Age</th>\n",
       "      <th>Ticket</th>\n",
       "      <th>Fare</th>\n",
       "      <th>Cabin</th>\n",
       "      <th>Embarked</th>\n",
       "      <th>Sex_Female</th>\n",
       "      <th>Pclass_1</th>\n",
       "      <th>Pclass_3</th>\n",
       "      <th>Small_Support</th>\n",
       "    </tr>\n",
       "    <tr>\n",
       "      <th>PassengerId</th>\n",
       "      <th></th>\n",
       "      <th></th>\n",
       "      <th></th>\n",
       "      <th></th>\n",
       "      <th></th>\n",
       "      <th></th>\n",
       "      <th></th>\n",
       "      <th></th>\n",
       "      <th></th>\n",
       "      <th></th>\n",
       "      <th></th>\n",
       "    </tr>\n",
       "  </thead>\n",
       "  <tbody>\n",
       "    <tr>\n",
       "      <th>62</th>\n",
       "      <td>1</td>\n",
       "      <td>Icard, Miss. Amelie</td>\n",
       "      <td>38.0</td>\n",
       "      <td>113572</td>\n",
       "      <td>80.0</td>\n",
       "      <td>B28</td>\n",
       "      <td>NaN</td>\n",
       "      <td>1</td>\n",
       "      <td>1</td>\n",
       "      <td>0</td>\n",
       "      <td>0</td>\n",
       "    </tr>\n",
       "    <tr>\n",
       "      <th>830</th>\n",
       "      <td>1</td>\n",
       "      <td>Stone, Mrs. George Nelson (Martha Evelyn)</td>\n",
       "      <td>62.0</td>\n",
       "      <td>113572</td>\n",
       "      <td>80.0</td>\n",
       "      <td>B28</td>\n",
       "      <td>NaN</td>\n",
       "      <td>1</td>\n",
       "      <td>1</td>\n",
       "      <td>0</td>\n",
       "      <td>0</td>\n",
       "    </tr>\n",
       "  </tbody>\n",
       "</table>\n",
       "</div>"
      ],
      "text/plain": [
       "             Survived                                       Name   Age  \\\n",
       "PassengerId                                                              \n",
       "62                  1                        Icard, Miss. Amelie  38.0   \n",
       "830                 1  Stone, Mrs. George Nelson (Martha Evelyn)  62.0   \n",
       "\n",
       "             Ticket  Fare Cabin Embarked  Sex_Female  Pclass_1  Pclass_3  \\\n",
       "PassengerId                                                                \n",
       "62           113572  80.0   B28      NaN           1         1         0   \n",
       "830          113572  80.0   B28      NaN           1         1         0   \n",
       "\n",
       "             Small_Support  \n",
       "PassengerId                 \n",
       "62                       0  \n",
       "830                      0  "
      ]
     },
     "execution_count": 16,
     "metadata": {},
     "output_type": "execute_result"
    }
   ],
   "source": [
    "# we are only missing two values for Embarked, so let's take a look\n",
    "labeled_df[labeled_df.Embarked.isnull()]"
   ]
  },
  {
   "cell_type": "markdown",
   "metadata": {},
   "source": [
    "Clearly these two were traveling together and had no other family on board, perhaps an elderly woman with her handmaid? In any case, I'm going to assume they have the same value of Embarked.\n",
    "\n",
    "The most reasonable guess is probably the mode of Embarked. However, of all the other features, it seems like Pclass might be associated with Embarked, so let's also look at the mode of Embarked for the Pclass = 1 group."
   ]
  },
  {
   "cell_type": "code",
   "execution_count": 17,
   "metadata": {},
   "outputs": [
    {
     "name": "stdout",
     "output_type": "stream",
     "text": [
      "Mode of Embarked:\n",
      "0    S\n",
      "dtype: object\n",
      "\n",
      "Distribution of Embarked for Pclass = 1:\n",
      "S    127\n",
      "C     85\n",
      "Q      2\n",
      "Name: Embarked, dtype: int64\n"
     ]
    }
   ],
   "source": [
    "# mode of Embarked\n",
    "print('Mode of Embarked:')\n",
    "print(labeled_df.Embarked.mode())\n",
    "\n",
    "# they were in first class (Pclass = 1), so let's see the distribution of Embarked for Pclass = 1\n",
    "print('\\nDistribution of Embarked for Pclass = 1:')\n",
    "print(labeled_df[labeled_df.Pclass_1 == 1].Embarked.value_counts())"
   ]
  },
  {
   "cell_type": "markdown",
   "metadata": {},
   "source": [
    "That settles it: we'll assume they embarked from S, then one-hot encode."
   ]
  },
  {
   "cell_type": "code",
   "execution_count": 18,
   "metadata": {},
   "outputs": [],
   "source": [
    "# replace nulls with S, the mode of Embarked\n",
    "labeled_df.Embarked.fillna('S', inplace = True)\n",
    "unlabeled_df.Embarked.fillna('S', inplace = True)"
   ]
  },
  {
   "cell_type": "code",
   "execution_count": 20,
   "metadata": {},
   "outputs": [],
   "source": [
    "# one-hot encode\n",
    "labeled_df = pd.get_dummies(labeled_df, columns = ['Embarked'])\n",
    "unlabeled_df = pd.get_dummies(unlabeled_df, columns = ['Embarked'])"
   ]
  },
  {
   "cell_type": "code",
   "execution_count": 21,
   "metadata": {},
   "outputs": [
    {
     "name": "stdout",
     "output_type": "stream",
     "text": [
      "Survived      0    1\n",
      "Embarked_C          \n",
      "0           474  249\n",
      "1            75   93 \n",
      "\n",
      "Embarked_C\n",
      "0    0.344398\n",
      "1    0.553571\n",
      "Name: Survived, dtype: float64\n"
     ]
    }
   ],
   "source": [
    "# let's look at the Embarked_C vs Survived crosstabs...\n",
    "print(pd.crosstab(labeled_df.Embarked_C, labeled_df.Survived), '\\n')\n",
    "\n",
    "# ...as well as the mean Survived (proportion that survived) grouping by Embarked_C\n",
    "print(labeled_df.groupby('Embarked_C').Survived.mean())"
   ]
  },
  {
   "cell_type": "code",
   "execution_count": 22,
   "metadata": {},
   "outputs": [
    {
     "name": "stdout",
     "output_type": "stream",
     "text": [
      "Survived      0    1\n",
      "Embarked_Q          \n",
      "0           502  312\n",
      "1            47   30 \n",
      "\n",
      "Embarked_Q\n",
      "0    0.383292\n",
      "1    0.389610\n",
      "Name: Survived, dtype: float64\n"
     ]
    }
   ],
   "source": [
    "# let's look at the Embarked_Q vs Survived crosstabs...\n",
    "print(pd.crosstab(labeled_df.Embarked_Q, labeled_df.Survived), '\\n')\n",
    "\n",
    "# ...as well as the mean Survived (proportion that survived) grouping by Embarked_Q\n",
    "print(labeled_df.groupby('Embarked_Q').Survived.mean())"
   ]
  },
  {
   "cell_type": "code",
   "execution_count": 23,
   "metadata": {},
   "outputs": [
    {
     "name": "stdout",
     "output_type": "stream",
     "text": [
      "Survived      0    1\n",
      "Embarked_S          \n",
      "0           122  123\n",
      "1           427  219 \n",
      "\n",
      "Embarked_S\n",
      "0    0.502041\n",
      "1    0.339009\n",
      "Name: Survived, dtype: float64\n"
     ]
    }
   ],
   "source": [
    "# let's look at the Embarked_S vs Survived crosstabs...\n",
    "print(pd.crosstab(labeled_df.Embarked_S, labeled_df.Survived), '\\n')\n",
    "\n",
    "# ...as well as the mean Survived (proportion that survived) grouping by Embarked_S\n",
    "print(labeled_df.groupby('Embarked_S').Survived.mean())"
   ]
  },
  {
   "cell_type": "markdown",
   "metadata": {},
   "source": [
    "Embarked_Q is clearly worthless: the probability of survival, whether Embarked_Q is 0 or 1, is basically the same as the entire passenger set.\n",
    "\n",
    "Embarked_S is not much better: poor surival rate if Embarked_S = 1, 50-50 chance if Embarked_S = 0.\n",
    "\n",
    "Embarked_C is weakly associated with survival. I guess I'll keep it, though I doubt it will help much."
   ]
  },
  {
   "cell_type": "code",
   "execution_count": 24,
   "metadata": {},
   "outputs": [],
   "source": [
    "# delete Embarked_Q and Embarked_S\n",
    "labeled_df.drop(['Embarked_Q', 'Embarked_S'], axis = 1, inplace = True)\n",
    "unlabeled_df.drop(['Embarked_Q', 'Embarked_S'], axis = 1, inplace = True)"
   ]
  },
  {
   "cell_type": "markdown",
   "metadata": {},
   "source": [
    "## Feature: Ticket"
   ]
  },
  {
   "cell_type": "code",
   "execution_count": 25,
   "metadata": {},
   "outputs": [
    {
     "data": {
      "text/plain": [
       "681"
      ]
     },
     "execution_count": 25,
     "metadata": {},
     "output_type": "execute_result"
    }
   ],
   "source": [
    "# how many distinct tickets are there?\n",
    "labeled_df.Ticket.nunique()"
   ]
  },
  {
   "cell_type": "code",
   "execution_count": 26,
   "metadata": {},
   "outputs": [
    {
     "data": {
      "text/plain": [
       "PassengerId\n",
       "1            A/5 21171\n",
       "2             PC 17599\n",
       "3     STON/O2. 3101282\n",
       "4               113803\n",
       "5               373450\n",
       "6               330877\n",
       "7                17463\n",
       "8               349909\n",
       "9               347742\n",
       "10              237736\n",
       "Name: Ticket, dtype: object"
      ]
     },
     "execution_count": 26,
     "metadata": {},
     "output_type": "execute_result"
    }
   ],
   "source": [
    "labeled_df.Ticket.head(10)"
   ]
  },
  {
   "cell_type": "markdown",
   "metadata": {},
   "source": [
    "I have serious doubts that we can extract any information from Ticket that will predict Survived, so I'm going to just drop this column."
   ]
  },
  {
   "cell_type": "code",
   "execution_count": 27,
   "metadata": {},
   "outputs": [],
   "source": [
    "labeled_df.drop(['Ticket'], axis = 1, inplace = True)\n",
    "unlabeled_df.drop(['Ticket'], axis = 1, inplace = True)"
   ]
  },
  {
   "cell_type": "markdown",
   "metadata": {},
   "source": [
    "## Feature: Cabin"
   ]
  },
  {
   "cell_type": "code",
   "execution_count": 28,
   "metadata": {},
   "outputs": [
    {
     "name": "stdout",
     "output_type": "stream",
     "text": [
      "Cabins in labeled set:\n",
      "['A10' 'A14' 'A16' 'A19' 'A20' 'A23' 'A24' 'A26' 'A31' 'A32' 'A34' 'A36'\n",
      " 'A5' 'A6' 'A7' 'B101' 'B102' 'B18' 'B19' 'B20' 'B22' 'B28' 'B3' 'B30'\n",
      " 'B35' 'B37' 'B38' 'B39' 'B4' 'B41' 'B42' 'B49' 'B5' 'B50' 'B51 B53 B55'\n",
      " 'B57 B59 B63 B66' 'B58 B60' 'B69' 'B71' 'B73' 'B77' 'B78' 'B79' 'B80'\n",
      " 'B82 B84' 'B86' 'B94' 'B96 B98' 'C101' 'C103' 'C104' 'C106' 'C110' 'C111'\n",
      " 'C118' 'C123' 'C124' 'C125' 'C126' 'C128' 'C148' 'C2' 'C22 C26'\n",
      " 'C23 C25 C27' 'C30' 'C32' 'C45' 'C46' 'C47' 'C49' 'C50' 'C52' 'C54'\n",
      " 'C62 C64' 'C65' 'C68' 'C7' 'C70' 'C78' 'C82' 'C83' 'C85' 'C86' 'C87'\n",
      " 'C90' 'C91' 'C92' 'C93' 'C95' 'C99' 'D' 'D10 D12' 'D11' 'D15' 'D17' 'D19'\n",
      " 'D20' 'D21' 'D26' 'D28' 'D30' 'D33' 'D35' 'D36' 'D37' 'D45' 'D46' 'D47'\n",
      " 'D48' 'D49' 'D50' 'D56' 'D6' 'D7' 'D9' 'E10' 'E101' 'E12' 'E121' 'E17'\n",
      " 'E24' 'E25' 'E31' 'E33' 'E34' 'E36' 'E38' 'E40' 'E44' 'E46' 'E49' 'E50'\n",
      " 'E58' 'E63' 'E67' 'E68' 'E77' 'E8' 'F E69' 'F G63' 'F G73' 'F2' 'F33'\n",
      " 'F38' 'F4' 'G6' 'T' nan]\n",
      "\n",
      "Cabins in unlabeled set:\n",
      "['A11' 'A18' 'A21' 'A29' 'A34' 'A9' 'B10' 'B11' 'B24' 'B26' 'B36' 'B41'\n",
      " 'B45' 'B51 B53 B55' 'B52 B54 B56' 'B57 B59 B63 B66' 'B58 B60' 'B61' 'B69'\n",
      " 'B71' 'B78' 'C101' 'C105' 'C106' 'C116' 'C130' 'C132' 'C22 C26'\n",
      " 'C23 C25 C27' 'C28' 'C31' 'C32' 'C39' 'C46' 'C51' 'C53' 'C54' 'C55 C57'\n",
      " 'C6' 'C62 C64' 'C7' 'C78' 'C80' 'C85' 'C86' 'C89' 'C97' 'D' 'D10 D12'\n",
      " 'D15' 'D19' 'D21' 'D22' 'D28' 'D30' 'D34' 'D37' 'D38' 'D40' 'D43' 'E31'\n",
      " 'E34' 'E39 E41' 'E45' 'E46' 'E50' 'E52' 'E60' 'F' 'F E46' 'F E57' 'F G63'\n",
      " 'F2' 'F33' 'F4' 'G6' nan]\n"
     ]
    }
   ],
   "source": [
    "print('Cabins in labeled set:')\n",
    "print(labeled_df.sort_values(by = 'Cabin')['Cabin'].unique())\n",
    "print('\\nCabins in unlabeled set:')\n",
    "print(unlabeled_df.sort_values(by = 'Cabin')['Cabin'].unique())"
   ]
  },
  {
   "cell_type": "markdown",
   "metadata": {},
   "source": [
    "It looks like we have a letter (probably the deck) followed by a number (probably the room). I doubt the room number is useful, but maybe the deck letter will be. Let's extract the deck letter (and store it in the variable Deck), and replace NaN with U (for unknown)."
   ]
  },
  {
   "cell_type": "code",
   "execution_count": 29,
   "metadata": {},
   "outputs": [],
   "source": [
    "def get_deck(cabin):\n",
    "    return np.where(pd.notnull(cabin), str(cabin)[0].upper(), 'U')\n",
    "\n",
    "labeled_df['Deck'] = labeled_df['Cabin'].map(get_deck)\n",
    "unlabeled_df['Deck'] = unlabeled_df['Cabin'].map(get_deck)"
   ]
  },
  {
   "cell_type": "code",
   "execution_count": 30,
   "metadata": {},
   "outputs": [
    {
     "name": "stdout",
     "output_type": "stream",
     "text": [
      "Survived    0    1\n",
      "Deck              \n",
      "A           8    7\n",
      "B          12   35\n",
      "C          24   35\n",
      "D           8   25\n",
      "E           8   24\n",
      "F           5    8\n",
      "G           2    2\n",
      "T           1    0\n",
      "U         481  206 \n",
      "\n",
      "Deck\n",
      "A    0.466667\n",
      "B    0.744681\n",
      "C    0.593220\n",
      "D    0.757576\n",
      "E    0.750000\n",
      "F    0.615385\n",
      "G    0.500000\n",
      "T    0.000000\n",
      "U    0.299854\n",
      "Name: Survived, dtype: float64\n"
     ]
    }
   ],
   "source": [
    "# now let's look at the Deck vs Survived crosstab...\n",
    "print(pd.crosstab(labeled_df.Deck, labeled_df.Survived), '\\n')\n",
    "\n",
    "# ...as well as the mean Survived (proportion that survived) grouping by Deck\n",
    "print(labeled_df.groupby('Deck').Survived.mean())"
   ]
  },
  {
   "cell_type": "markdown",
   "metadata": {},
   "source": [
    "I'll skip the one-hot encoding this time and do the encoding myself based on the following observation: passengers in Decks B through F have a good survival rate, whereas Decks A, G, T, and Unknown have poor survival rate."
   ]
  },
  {
   "cell_type": "code",
   "execution_count": 31,
   "metadata": {},
   "outputs": [],
   "source": [
    "def get_deck_advantage(deck):\n",
    "    bad_decks = [\"A\", \"G\", \"T\", \"U\"]\n",
    "    return 0 if deck in bad_decks else 1\n",
    "\n",
    "labeled_df['Deck_Advantage'] = labeled_df['Deck'].map(get_deck_advantage)\n",
    "unlabeled_df['Deck_Advantage'] = unlabeled_df['Deck'].map(get_deck_advantage)"
   ]
  },
  {
   "cell_type": "code",
   "execution_count": 32,
   "metadata": {},
   "outputs": [
    {
     "name": "stdout",
     "output_type": "stream",
     "text": [
      "Survived          0    1\n",
      "Deck_Advantage          \n",
      "0               492  215\n",
      "1                57  127 \n",
      "\n",
      "Deck_Advantage\n",
      "0    0.304102\n",
      "1    0.690217\n",
      "Name: Survived, dtype: float64\n"
     ]
    }
   ],
   "source": [
    "# now let's look at the Deck_Advantage vs Survived crosstab...\n",
    "print(pd.crosstab(labeled_df.Deck_Advantage, labeled_df.Survived), '\\n')\n",
    "\n",
    "# ...as well as the mean Survived (proportion that survived) grouping by Deck_Advantage\n",
    "print(labeled_df.groupby('Deck_Advantage').Survived.mean())"
   ]
  },
  {
   "cell_type": "markdown",
   "metadata": {},
   "source": [
    "Well, #(F) is small, but surivaly rate is pretty good. Let's keep it."
   ]
  },
  {
   "cell_type": "code",
   "execution_count": 33,
   "metadata": {},
   "outputs": [],
   "source": [
    "# drop Cabin and Deck columns\n",
    "labeled_df.drop(['Cabin', 'Deck'], axis = 1, inplace = True)\n",
    "unlabeled_df.drop(['Cabin', 'Deck'], axis = 1, inplace = True)"
   ]
  },
  {
   "cell_type": "markdown",
   "metadata": {},
   "source": [
    "## Feature: Name (and filling in missing Age values)"
   ]
  },
  {
   "cell_type": "code",
   "execution_count": 34,
   "metadata": {},
   "outputs": [
    {
     "data": {
      "text/plain": [
       "PassengerId\n",
       "1                               Braund, Mr. Owen Harris\n",
       "2     Cumings, Mrs. John Bradley (Florence Briggs Th...\n",
       "3                                Heikkinen, Miss. Laina\n",
       "4          Futrelle, Mrs. Jacques Heath (Lily May Peel)\n",
       "5                              Allen, Mr. William Henry\n",
       "6                                      Moran, Mr. James\n",
       "7                               McCarthy, Mr. Timothy J\n",
       "8                        Palsson, Master. Gosta Leonard\n",
       "9     Johnson, Mrs. Oscar W (Elisabeth Vilhelmina Berg)\n",
       "10                  Nasser, Mrs. Nicholas (Adele Achem)\n",
       "Name: Name, dtype: object"
      ]
     },
     "execution_count": 34,
     "metadata": {},
     "output_type": "execute_result"
    }
   ],
   "source": [
    "# take a look at Name format\n",
    "labeled_df.Name.head(10)"
   ]
  },
  {
   "cell_type": "markdown",
   "metadata": {},
   "source": [
    "It looks like each passenger has a title, which might give us some predictive power. With that said, a passenger's name is unlikely to be helpful, so let's extract the title and discard the name."
   ]
  },
  {
   "cell_type": "code",
   "execution_count": 35,
   "metadata": {},
   "outputs": [
    {
     "name": "stdout",
     "output_type": "stream",
     "text": [
      "Titles in labeled set:\n",
      "mr              517\n",
      "miss            182\n",
      "mrs             125\n",
      "master           40\n",
      "dr                7\n",
      "rev               6\n",
      "mlle              2\n",
      "major             2\n",
      "col               2\n",
      "lady              1\n",
      "jonkheer          1\n",
      "ms                1\n",
      "mme               1\n",
      "capt              1\n",
      "sir               1\n",
      "don               1\n",
      "the countess      1\n",
      "Name: Name, dtype: int64\n",
      "\n",
      "Titles in unlabeled set:\n",
      "mr        240\n",
      "miss       78\n",
      "mrs        72\n",
      "master     21\n",
      "rev         2\n",
      "col         2\n",
      "ms          1\n",
      "dr          1\n",
      "dona        1\n",
      "Name: Name, dtype: int64\n"
     ]
    }
   ],
   "source": [
    "def get_title(name):\n",
    "    first_name_with_title = name.split(',')[1]\n",
    "    title = first_name_with_title.split('.')[0]\n",
    "    title = title.strip().lower()\n",
    "    return title\n",
    "\n",
    "# how many of each title?\n",
    "print('Titles in labeled set:')\n",
    "print(labeled_df.Name.map(get_title).value_counts())\n",
    "print('\\nTitles in unlabeled set:')\n",
    "print(unlabeled_df.Name.map(get_title).value_counts())"
   ]
  },
  {
   "cell_type": "code",
   "execution_count": 36,
   "metadata": {},
   "outputs": [],
   "source": [
    "# create Title column\n",
    "labeled_df['Title'] = labeled_df.Name.map(get_title)\n",
    "unlabeled_df['Title'] = unlabeled_df.Name.map(get_title)"
   ]
  },
  {
   "cell_type": "markdown",
   "metadata": {},
   "source": [
    "Before we do anything else with Title, let's use it to fill in missing Age values. The idea is that a passenger's title might indicate age (e.g., master is likely to be younger than a mr).\n",
    "\n",
    "We want to calculate the median Age by Title, then write a function to replace NaN with the appropriate median value. So let's see which values of Title we need to worry about."
   ]
  },
  {
   "cell_type": "code",
   "execution_count": 37,
   "metadata": {},
   "outputs": [
    {
     "name": "stdout",
     "output_type": "stream",
     "text": [
      "Titles for labeled passengers with missing Age: ['mr' 'mrs' 'miss' 'master' 'dr']\n",
      "Titles for unlabeled passengers with missing Age: ['mr' 'mrs' 'miss' 'ms' 'master']\n"
     ]
    }
   ],
   "source": [
    "df = labeled_df[labeled_df.Age.isnull()]\n",
    "print('Titles for labeled passengers with missing Age:', df.Title.unique())\n",
    "\n",
    "df = unlabeled_df[unlabeled_df.Age.isnull()]\n",
    "print('Titles for unlabeled passengers with missing Age:', df.Title.unique())"
   ]
  },
  {
   "cell_type": "markdown",
   "metadata": {},
   "source": [
    "Fortunately there aren't many, so I'll just write a simple function to handle this. I'm sure there is a nicer way to do this."
   ]
  },
  {
   "cell_type": "code",
   "execution_count": 38,
   "metadata": {},
   "outputs": [
    {
     "data": {
      "text/plain": [
       "Title\n",
       "capt            70.0\n",
       "col             58.0\n",
       "don             40.0\n",
       "dr              46.5\n",
       "jonkheer        38.0\n",
       "lady            48.0\n",
       "major           48.5\n",
       "master           3.5\n",
       "miss            21.0\n",
       "mlle            24.0\n",
       "mme             24.0\n",
       "mr              30.0\n",
       "mrs             35.0\n",
       "ms              28.0\n",
       "rev             46.5\n",
       "sir             49.0\n",
       "the countess    33.0\n",
       "Name: Age, dtype: float64"
      ]
     },
     "execution_count": 38,
     "metadata": {},
     "output_type": "execute_result"
    }
   ],
   "source": [
    "# create groups by Title and print median Age\n",
    "labeled_df.groupby('Title').Age.median()"
   ]
  },
  {
   "cell_type": "code",
   "execution_count": 39,
   "metadata": {},
   "outputs": [],
   "source": [
    "def get_age(age, title):\n",
    "    title_age_dict = {'mr' : 30.0, 'mrs' : 35.0, 'miss' : 21.0, 'master' : 3.5, 'dr' : 46.5, 'ms' : 28.0}\n",
    "    return title_age_dict[title] if isnan(age) else age"
   ]
  },
  {
   "cell_type": "code",
   "execution_count": 40,
   "metadata": {},
   "outputs": [],
   "source": [
    "# replace NaN in Age with corresponding group Age median\n",
    "labeled_df['Age'] = np.vectorize(get_age)(labeled_df['Age'], labeled_df['Title'])\n",
    "unlabeled_df['Age'] = np.vectorize(get_age)(unlabeled_df['Age'], unlabeled_df['Title'])"
   ]
  },
  {
   "cell_type": "markdown",
   "metadata": {},
   "source": [
    "Now back to Title. We have too many values so we should try to group some of them together."
   ]
  },
  {
   "cell_type": "code",
   "execution_count": 41,
   "metadata": {},
   "outputs": [
    {
     "name": "stdout",
     "output_type": "stream",
     "text": [
      "Survived        0    1\n",
      "Title                 \n",
      "capt            1    0\n",
      "col             1    1\n",
      "don             1    0\n",
      "dr              4    3\n",
      "jonkheer        1    0\n",
      "lady            0    1\n",
      "major           1    1\n",
      "master         17   23\n",
      "miss           55  127\n",
      "mlle            0    2\n",
      "mme             0    1\n",
      "mr            436   81\n",
      "mrs            26   99\n",
      "ms              0    1\n",
      "rev             6    0\n",
      "sir             0    1\n",
      "the countess    0    1 \n",
      "\n",
      "Title\n",
      "capt            0.000000\n",
      "col             0.500000\n",
      "don             0.000000\n",
      "dr              0.428571\n",
      "jonkheer        0.000000\n",
      "lady            1.000000\n",
      "major           0.500000\n",
      "master          0.575000\n",
      "miss            0.697802\n",
      "mlle            1.000000\n",
      "mme             1.000000\n",
      "mr              0.156673\n",
      "mrs             0.792000\n",
      "ms              1.000000\n",
      "rev             0.000000\n",
      "sir             1.000000\n",
      "the countess    1.000000\n",
      "Name: Survived, dtype: float64\n"
     ]
    }
   ],
   "source": [
    "# let's look at the Title vs Survived crosstab...\n",
    "print(pd.crosstab(labeled_df.Title, labeled_df.Survived), '\\n')\n",
    "\n",
    "# ...as well as the mean Survived (proportion that survived) grouping by Title\n",
    "print(labeled_df.groupby('Title').Survived.mean())"
   ]
  },
  {
   "cell_type": "markdown",
   "metadata": {},
   "source": [
    "Note that in 1912, Title would be indicate Sex, so I want to try to group these in such a way that we have some further stratification. Some titles indicate Age (e.g., Master is for young boys that aren't yet ready to be called Mr), others indicate royalty (e.g., Countess), etc.\n",
    "\n",
    "I don't really have a lot of faith that Title adds anything, but I'll keep it for now with the following groups:\n",
    "\n",
    "Elite: jonkheer, lady, sir, the countess, don, dona, capt, col, major, dr, rev \n",
    "\n",
    "Mr: mr\n",
    "\n",
    "Mrs: mme, mrs, ms\n",
    "\n",
    "Miss: miss, mlle\n",
    "\n",
    "Master: master\n",
    "\n",
    "Note: I wanted to further stratify Elite (e.g., Royal vs Professional), but this group is very small as it is. So it's basically an \"other\" category, which we will end up dropping anyway because of multicollinearity."
   ]
  },
  {
   "cell_type": "code",
   "execution_count": 42,
   "metadata": {},
   "outputs": [
    {
     "data": {
      "text/plain": [
       "Mr        517\n",
       "Miss      184\n",
       "Mrs       127\n",
       "Master     40\n",
       "Elite      23\n",
       "Name: Title, dtype: int64"
      ]
     },
     "execution_count": 42,
     "metadata": {},
     "output_type": "execute_result"
    }
   ],
   "source": [
    "def get_title_group(title):\n",
    "    title_group = {\n",
    "        'capt' : 'Elite',\n",
    "        'col' : 'Elite',\n",
    "        'major' : 'Elite',\n",
    "        'dr' : 'Elite',\n",
    "        'jonkheer' : 'Elite',\n",
    "        'lady' : 'Elite',\n",
    "        'sir' : 'Elite',\n",
    "        'the countess' : 'Elite',\n",
    "        'don' : 'Elite',\n",
    "        'dona' : 'Elite',\n",
    "        'rev' : 'Elite',\n",
    "        'mr' : 'Mr',\n",
    "        'mme' : 'Mrs',\n",
    "        'mrs' : 'Mrs',\n",
    "        'ms' : 'Mrs',\n",
    "        'miss' : 'Miss',\n",
    "        'mlle' : 'Miss',\n",
    "        'master' : 'Master'}\n",
    "    return title_group[title]\n",
    "\n",
    "# how many in each title group?\n",
    "labeled_df.Title.map(get_title_group).value_counts()"
   ]
  },
  {
   "cell_type": "code",
   "execution_count": 43,
   "metadata": {},
   "outputs": [],
   "source": [
    "# create Status column (Status is short than Title_Group)\n",
    "labeled_df['Status'] = labeled_df.Title.map(get_title_group)\n",
    "unlabeled_df['Status'] = unlabeled_df.Title.map(get_title_group)"
   ]
  },
  {
   "cell_type": "code",
   "execution_count": 44,
   "metadata": {},
   "outputs": [
    {
     "name": "stdout",
     "output_type": "stream",
     "text": [
      "Survived    0    1  All\n",
      "Status                 \n",
      "Elite      15    8   23\n",
      "Master     17   23   40\n",
      "Miss       55  129  184\n",
      "Mr        436   81  517\n",
      "Mrs        26  101  127\n",
      "All       549  342  891 \n",
      "\n",
      "Status\n",
      "Elite     0.347826\n",
      "Master    0.575000\n",
      "Miss      0.701087\n",
      "Mr        0.156673\n",
      "Mrs       0.795276\n",
      "Name: Survived, dtype: float64\n"
     ]
    }
   ],
   "source": [
    "# let's look at the Status vs Survived crosstab...\n",
    "print(pd.crosstab(labeled_df.Status, labeled_df.Survived, margins = True), '\\n')\n",
    "\n",
    "# ...as well as the mean Survived (proportion that survived) grouping by Status\n",
    "print(labeled_df.groupby('Status').Survived.mean())"
   ]
  },
  {
   "cell_type": "markdown",
   "metadata": {},
   "source": [
    "OK, good enough, so let's drop Name and Title, then one-hot encode Status."
   ]
  },
  {
   "cell_type": "code",
   "execution_count": 45,
   "metadata": {},
   "outputs": [
    {
     "name": "stdout",
     "output_type": "stream",
     "text": [
      "['Mr' 'Mrs' 'Miss' 'Master' 'Elite']\n",
      "['Mr' 'Mrs' 'Miss' 'Master' 'Elite']\n"
     ]
    }
   ],
   "source": [
    "# make sure we'll have the same set of columns after one-hot encoding\n",
    "print(labeled_df.Status.unique())\n",
    "print(unlabeled_df.Status.unique())"
   ]
  },
  {
   "cell_type": "code",
   "execution_count": 46,
   "metadata": {},
   "outputs": [],
   "source": [
    "# one-hot encode\n",
    "labeled_df = pd.get_dummies(labeled_df, columns = ['Status'])\n",
    "unlabeled_df = pd.get_dummies(unlabeled_df, columns = ['Status'])\n",
    "\n",
    "# drop Name and Title\n",
    "labeled_df.drop(['Name', 'Title'], axis = 1, inplace = True)\n",
    "unlabeled_df.drop(['Name', 'Title'], axis = 1, inplace = True)"
   ]
  },
  {
   "cell_type": "code",
   "execution_count": 47,
   "metadata": {},
   "outputs": [
    {
     "name": "stdout",
     "output_type": "stream",
     "text": [
      "Survived     0    1\n",
      "Status_Mr          \n",
      "0          113  261\n",
      "1          436   81 \n",
      "\n",
      "Status_Mr\n",
      "0    0.697861\n",
      "1    0.156673\n",
      "Name: Survived, dtype: float64\n"
     ]
    }
   ],
   "source": [
    "# let's look at the Status_Mr vs Survived crosstabs...\n",
    "print(pd.crosstab(labeled_df.Status_Mr, labeled_df.Survived), '\\n')\n",
    "\n",
    "# ...as well as the mean Survived (proportion that survived) grouping by Status_Mr\n",
    "print(labeled_df.groupby('Status_Mr').Survived.mean())"
   ]
  },
  {
   "cell_type": "code",
   "execution_count": 48,
   "metadata": {},
   "outputs": [
    {
     "name": "stdout",
     "output_type": "stream",
     "text": [
      "Survived      0    1\n",
      "Status_Mrs          \n",
      "0           523  241\n",
      "1            26  101 \n",
      "\n",
      "Status_Mrs\n",
      "0    0.315445\n",
      "1    0.795276\n",
      "Name: Survived, dtype: float64\n"
     ]
    }
   ],
   "source": [
    "# let's look at the Status_Mrs vs Survived crosstabs...\n",
    "print(pd.crosstab(labeled_df.Status_Mrs, labeled_df.Survived), '\\n')\n",
    "\n",
    "# ...as well as the mean Survived (proportion that survived) grouping by Status_Mrs\n",
    "print(labeled_df.groupby('Status_Mrs').Survived.mean())"
   ]
  },
  {
   "cell_type": "code",
   "execution_count": 49,
   "metadata": {},
   "outputs": [
    {
     "name": "stdout",
     "output_type": "stream",
     "text": [
      "Survived       0    1\n",
      "Status_Miss          \n",
      "0            494  213\n",
      "1             55  129 \n",
      "\n",
      "Status_Miss\n",
      "0    0.301273\n",
      "1    0.701087\n",
      "Name: Survived, dtype: float64\n"
     ]
    }
   ],
   "source": [
    "# let's look at the Status_Miss vs Survived crosstabs...\n",
    "print(pd.crosstab(labeled_df.Status_Miss, labeled_df.Survived), '\\n')\n",
    "\n",
    "# ...as well as the mean Survived (proportion that survived) grouping by Status_Miss\n",
    "print(labeled_df.groupby('Status_Miss').Survived.mean())"
   ]
  },
  {
   "cell_type": "code",
   "execution_count": 50,
   "metadata": {},
   "outputs": [
    {
     "name": "stdout",
     "output_type": "stream",
     "text": [
      "Survived         0    1\n",
      "Status_Master          \n",
      "0              532  319\n",
      "1               17   23 \n",
      "\n",
      "Status_Master\n",
      "0    0.374853\n",
      "1    0.575000\n",
      "Name: Survived, dtype: float64\n"
     ]
    }
   ],
   "source": [
    "# let's look at the Status_Master vs Survived crosstabs...\n",
    "print(pd.crosstab(labeled_df.Status_Master, labeled_df.Survived), '\\n')\n",
    "\n",
    "# ...as well as the mean Survived (proportion that survived) grouping by Status_Master\n",
    "print(labeled_df.groupby('Status_Master').Survived.mean())"
   ]
  },
  {
   "cell_type": "code",
   "execution_count": 51,
   "metadata": {},
   "outputs": [
    {
     "name": "stdout",
     "output_type": "stream",
     "text": [
      "Survived        0    1\n",
      "Status_Elite          \n",
      "0             534  334\n",
      "1              15    8 \n",
      "\n",
      "Status_Elite\n",
      "0    0.384793\n",
      "1    0.347826\n",
      "Name: Survived, dtype: float64\n"
     ]
    }
   ],
   "source": [
    "# let's look at the Status_Elite vs Survived crosstabs...\n",
    "print(pd.crosstab(labeled_df.Status_Elite, labeled_df.Survived), '\\n')\n",
    "\n",
    "# ...as well as the mean Survived (proportion that survived) grouping by Status_Elite\n",
    "print(labeled_df.groupby('Status_Elite').Survived.mean())"
   ]
  },
  {
   "cell_type": "markdown",
   "metadata": {},
   "source": [
    "As mentioned above, I'm not sure about these at all. Status_Mrs and Status_Miss are very similar to Sex_Female. Given that this is in 1912, I'm sure the overlap here is huge.\n",
    "\n",
    "The distribution for Status_Master is different from Status_Mr, but Status_Master is a small group and doesn't have a great survival rate, while Status_Mr has a distribution that is very similar to !Sex_Female.\n",
    "\n",
    "Finally, apparently being elite (how I've defined it) gives no advantage to survival.\n",
    "\n",
    "I think I will drop all these columns after all!"
   ]
  },
  {
   "cell_type": "code",
   "execution_count": 52,
   "metadata": {},
   "outputs": [],
   "source": [
    "# drop Name and Title\n",
    "drop_cols = ['Status_Mr', 'Status_Mrs', 'Status_Miss', 'Status_Master', 'Status_Elite']\n",
    "labeled_df.drop(drop_cols, axis = 1, inplace = True)\n",
    "unlabeled_df.drop(drop_cols, axis = 1, inplace = True)"
   ]
  },
  {
   "cell_type": "markdown",
   "metadata": {},
   "source": [
    "## Feature: Fare"
   ]
  },
  {
   "cell_type": "code",
   "execution_count": 53,
   "metadata": {},
   "outputs": [
    {
     "data": {
      "text/html": [
       "<div>\n",
       "<style scoped>\n",
       "    .dataframe tbody tr th:only-of-type {\n",
       "        vertical-align: middle;\n",
       "    }\n",
       "\n",
       "    .dataframe tbody tr th {\n",
       "        vertical-align: top;\n",
       "    }\n",
       "\n",
       "    .dataframe thead th {\n",
       "        text-align: right;\n",
       "    }\n",
       "</style>\n",
       "<table border=\"1\" class=\"dataframe\">\n",
       "  <thead>\n",
       "    <tr style=\"text-align: right;\">\n",
       "      <th></th>\n",
       "      <th>Age</th>\n",
       "      <th>Fare</th>\n",
       "      <th>Sex_Female</th>\n",
       "      <th>Pclass_1</th>\n",
       "      <th>Pclass_3</th>\n",
       "      <th>Small_Support</th>\n",
       "      <th>Embarked_C</th>\n",
       "      <th>Deck_Advantage</th>\n",
       "    </tr>\n",
       "    <tr>\n",
       "      <th>PassengerId</th>\n",
       "      <th></th>\n",
       "      <th></th>\n",
       "      <th></th>\n",
       "      <th></th>\n",
       "      <th></th>\n",
       "      <th></th>\n",
       "      <th></th>\n",
       "      <th></th>\n",
       "    </tr>\n",
       "  </thead>\n",
       "  <tbody>\n",
       "    <tr>\n",
       "      <th>1044</th>\n",
       "      <td>60.5</td>\n",
       "      <td>NaN</td>\n",
       "      <td>0</td>\n",
       "      <td>0</td>\n",
       "      <td>1</td>\n",
       "      <td>0</td>\n",
       "      <td>0</td>\n",
       "      <td>0</td>\n",
       "    </tr>\n",
       "  </tbody>\n",
       "</table>\n",
       "</div>"
      ],
      "text/plain": [
       "              Age  Fare  Sex_Female  Pclass_1  Pclass_3  Small_Support  \\\n",
       "PassengerId                                                              \n",
       "1044         60.5   NaN           0         0         1              0   \n",
       "\n",
       "             Embarked_C  Deck_Advantage  \n",
       "PassengerId                              \n",
       "1044                  0               0  "
      ]
     },
     "execution_count": 53,
     "metadata": {},
     "output_type": "execute_result"
    }
   ],
   "source": [
    "# we are only missing one value of Fare in the unlabeled data\n",
    "unlabeled_df[unlabeled_df.Fare.isnull()]"
   ]
  },
  {
   "cell_type": "code",
   "execution_count": 54,
   "metadata": {},
   "outputs": [],
   "source": [
    "# this passenger is male and in Pclass_3, so let's impute with the median Fare value for this group\n",
    "m = labeled_df[(labeled_df.Sex_Female == 0) & (labeled_df.Pclass_3 == 1)].Fare.median()\n",
    "unlabeled_df.Fare.fillna(m, inplace = True)"
   ]
  },
  {
   "cell_type": "markdown",
   "metadata": {},
   "source": [
    "Fare is a continuous variable, so we should look at its distribution and consider rescaling and/or binning."
   ]
  },
  {
   "cell_type": "code",
   "execution_count": 55,
   "metadata": {},
   "outputs": [
    {
     "data": {
      "text/plain": [
       "count    891.000000\n",
       "mean      32.204208\n",
       "std       49.693429\n",
       "min        0.000000\n",
       "25%        7.910400\n",
       "50%       14.454200\n",
       "75%       31.000000\n",
       "max      512.329200\n",
       "Name: Fare, dtype: float64"
      ]
     },
     "execution_count": 55,
     "metadata": {},
     "output_type": "execute_result"
    }
   ],
   "source": [
    "# summary statistics\n",
    "labeled_df.Fare.describe()"
   ]
  },
  {
   "cell_type": "code",
   "execution_count": 56,
   "metadata": {},
   "outputs": [
    {
     "data": {
      "image/png": "[encoded data removed]",
      "text/plain": [
       "<Figure size 1080x216 with 2 Axes>"
      ]
     },
     "metadata": {},
     "output_type": "display_data"
    }
   ],
   "source": [
    "# histogram and boxplot\n",
    "f, (ax1, ax2) = plt.subplots(1, 2, figsize = (15, 3))\n",
    "\n",
    "ax1.hist(labeled_df.Fare, bins = 20)\n",
    "ax1.set_title('Histogram for Fare')\n",
    "ax1.set_xlabel('Fare')\n",
    "ax1.set_ylabel('Counts')\n",
    "\n",
    "ax2.boxplot(labeled_df.Fare, vert = False)\n",
    "ax2.set_title('Boxplot for Fare')\n",
    "ax2.set_xlabel('Fare')\n",
    "\n",
    "plt.show()"
   ]
  },
  {
   "cell_type": "markdown",
   "metadata": {},
   "source": [
    "Lots of outliers, so let's bin Fare using percentiles."
   ]
  },
  {
   "cell_type": "code",
   "execution_count": 58,
   "metadata": {},
   "outputs": [],
   "source": [
    "# let's cut Fare up into thirds\n",
    "num_of_bins = 3\n",
    "labeled_df['Fare_Bin'] = pd.qcut(labeled_df.Fare, num_of_bins, labels = range(num_of_bins))"
   ]
  },
  {
   "cell_type": "code",
   "execution_count": 59,
   "metadata": {},
   "outputs": [
    {
     "name": "stdout",
     "output_type": "stream",
     "text": [
      "Survived    0    1  All\n",
      "Fare_Bin               \n",
      "0         247   61  308\n",
      "2         172  116  288\n",
      "1         130  165  295\n",
      "All       549  342  891 \n",
      "\n",
      "Fare_Bin\n",
      "0    0.198052\n",
      "1    0.402778\n",
      "2    0.559322\n",
      "Name: Survived, dtype: float64\n"
     ]
    }
   ],
   "source": [
    "# let's look at the Fare_Bin vs Survived crosstab...\n",
    "ct = pd.crosstab(labeled_df.Fare_Bin, labeled_df.Survived, margins = True)\n",
    "print(ct, '\\n')\n",
    "\n",
    "# ...as well as the mean Survived (proportion that survived) grouping by Fare_Bin\n",
    "print(labeled_df.groupby('Fare_Bin').Survived.mean())"
   ]
  },
  {
   "cell_type": "markdown",
   "metadata": {},
   "source": [
    "These bins have somewate distinct survival rates (one is poor, one that is similar to the entire passeger set, and one is a bit better than 50-50), and we don't want to greatly increase the number of features, so let's stick with thirds."
   ]
  },
  {
   "cell_type": "code",
   "execution_count": 60,
   "metadata": {},
   "outputs": [],
   "source": [
    "# function to convert Fare into bins (need for unlabeled data)\n",
    "c1 = np.percentile(labeled_df.Fare, 33)\n",
    "c2 = np.percentile(labeled_df.Fare, 66)\n",
    "\n",
    "def get_fare_bin(fare):\n",
    "    if fare < c1:\n",
    "        return 0\n",
    "    elif fare < c2:\n",
    "        return 1\n",
    "    else:\n",
    "        return 2"
   ]
  },
  {
   "cell_type": "code",
   "execution_count": 61,
   "metadata": {},
   "outputs": [],
   "source": [
    "# using one- and two-third cuts from labeled data, create Fare_Bin in unlabeled data\n",
    "unlabeled_df['Fare_Bin'] = unlabeled_df.Fare.map(get_fare_bin)\n",
    "\n",
    "# one-hot encode\n",
    "labeled_df = pd.get_dummies(labeled_df, columns = ['Fare_Bin'])\n",
    "unlabeled_df = pd.get_dummies(unlabeled_df, columns = ['Fare_Bin'])"
   ]
  },
  {
   "cell_type": "code",
   "execution_count": 62,
   "metadata": {},
   "outputs": [
    {
     "name": "stdout",
     "output_type": "stream",
     "text": [
      "Survived      0    1\n",
      "Fare_Bin_0          \n",
      "0           302  281\n",
      "1           247   61 \n",
      "\n",
      "Fare_Bin_0\n",
      "0    0.481990\n",
      "1    0.198052\n",
      "Name: Survived, dtype: float64\n"
     ]
    }
   ],
   "source": [
    "# let's look at the Fare_Bin_0 vs Survived crosstabs...\n",
    "print(pd.crosstab(labeled_df.Fare_Bin_0, labeled_df.Survived), '\\n')\n",
    "\n",
    "# ...as well as the mean Survived (proportion that survived) grouping by Fare_Bin_0\n",
    "print(labeled_df.groupby('Fare_Bin_0').Survived.mean())"
   ]
  },
  {
   "cell_type": "code",
   "execution_count": 63,
   "metadata": {},
   "outputs": [
    {
     "name": "stdout",
     "output_type": "stream",
     "text": [
      "Survived      0    1\n",
      "Fare_Bin_1          \n",
      "0           377  226\n",
      "1           172  116 \n",
      "\n",
      "Fare_Bin_1\n",
      "0    0.374793\n",
      "1    0.402778\n",
      "Name: Survived, dtype: float64\n"
     ]
    }
   ],
   "source": [
    "# let's look at the Fare_Bin_1 vs Survived crosstabs...\n",
    "print(pd.crosstab(labeled_df.Fare_Bin_1, labeled_df.Survived), '\\n')\n",
    "\n",
    "# ...as well as the mean Survived (proportion that survived) grouping by Fare_Bin_1\n",
    "print(labeled_df.groupby('Fare_Bin_1').Survived.mean())"
   ]
  },
  {
   "cell_type": "code",
   "execution_count": 64,
   "metadata": {},
   "outputs": [
    {
     "name": "stdout",
     "output_type": "stream",
     "text": [
      "Survived      0    1\n",
      "Fare_Bin_2          \n",
      "0           419  177\n",
      "1           130  165 \n",
      "\n",
      "Fare_Bin_2\n",
      "0    0.296980\n",
      "1    0.559322\n",
      "Name: Survived, dtype: float64\n"
     ]
    }
   ],
   "source": [
    "# let's look at the Fare_Bin_2 vs Survived crosstabs...\n",
    "print(pd.crosstab(labeled_df.Fare_Bin_2, labeled_df.Survived), '\\n')\n",
    "\n",
    "# ...as well as the mean Survived (proportion that survived) grouping by Fare_Bin_2\n",
    "print(labeled_df.groupby('Fare_Bin_2').Survived.mean())"
   ]
  },
  {
   "cell_type": "markdown",
   "metadata": {},
   "source": [
    "Another not-great feature. Fare_Bin_0 is strongly associated with non-survival, but Fare_Bin_2 is only weakly associated with survival. Fare_Bin_1 can be dropped since we get to drop one anyway."
   ]
  },
  {
   "cell_type": "code",
   "execution_count": 65,
   "metadata": {},
   "outputs": [],
   "source": [
    "# can drop Fare and Fare_Bin_1\n",
    "labeled_df.drop(['Fare', 'Fare_Bin_1'], axis = 1, inplace = True)\n",
    "unlabeled_df.drop(['Fare', 'Fare_Bin_1'], axis = 1, inplace = True)"
   ]
  },
  {
   "cell_type": "markdown",
   "metadata": {},
   "source": [
    "## Feature: Age\n",
    "\n",
    "Fare is a continuous variable, so we should look at its distribution and consider rescaling and/or binning."
   ]
  },
  {
   "cell_type": "code",
   "execution_count": 66,
   "metadata": {},
   "outputs": [
    {
     "data": {
      "text/plain": [
       "count    891.000000\n",
       "mean      29.390202\n",
       "std       13.265322\n",
       "min        0.420000\n",
       "25%       21.000000\n",
       "50%       30.000000\n",
       "75%       35.000000\n",
       "max       80.000000\n",
       "Name: Age, dtype: float64"
      ]
     },
     "execution_count": 66,
     "metadata": {},
     "output_type": "execute_result"
    }
   ],
   "source": [
    "# summary statistics\n",
    "labeled_df.Age.describe()"
   ]
  },
  {
   "cell_type": "code",
   "execution_count": 67,
   "metadata": {},
   "outputs": [
    {
     "data": {
      "image/png": "[encoded data removed]",
      "text/plain": [
       "<Figure size 1080x720 with 4 Axes>"
      ]
     },
     "metadata": {},
     "output_type": "display_data"
    }
   ],
   "source": [
    "# histogram and boxplot\n",
    "f, ((ax1, ax2), (ax3, ax4)) = plt.subplots(2, 2, figsize = (15, 10))\n",
    "\n",
    "ax1.hist(labeled_df[labeled_df.Sex_Female == 1].Age, bins = 20, color = 'pink')\n",
    "ax1.set_title('Histogram for Female Age')\n",
    "ax1.set_xlabel('Age')\n",
    "ax1.set_ylabel('Counts')\n",
    "\n",
    "ax2.boxplot(labeled_df[labeled_df.Sex_Female == 1].Age, vert = False)\n",
    "ax2.set_title('Boxplot for Female Age')\n",
    "ax2.set_xlabel('Age')\n",
    "\n",
    "ax3.hist(labeled_df[labeled_df.Sex_Female == 0].Age, bins = 20, color = 'skyblue')\n",
    "ax3.set_title('Histogram for Male Age')\n",
    "ax3.set_xlabel('Age')\n",
    "ax3.set_ylabel('Counts')\n",
    "\n",
    "ax4.boxplot(labeled_df[labeled_df.Sex_Female == 0].Age, vert = False)\n",
    "ax4.set_title('Boxplot for Male Age')\n",
    "ax4.set_xlabel('Age')\n",
    "\n",
    "plt.show()"
   ]
  },
  {
   "cell_type": "markdown",
   "metadata": {},
   "source": [
    "Not as bad as Fare, but we still have some outliers. I'm going to assume that beyond a certain age, a passenger's age doesn't really determine survival; and that below that cut-off, the passenger is young enough that someone would be helping him or her survive."
   ]
  },
  {
   "cell_type": "code",
   "execution_count": 68,
   "metadata": {},
   "outputs": [
    {
     "name": "stdout",
     "output_type": "stream",
     "text": [
      "1   1.0\n",
      "2   0.8571428571428571\n",
      "3   0.625\n",
      "4   0.6470588235294118\n",
      "5   0.6590909090909091\n",
      "6   0.6875\n",
      "7   0.6862745098039216\n",
      "8   0.6666666666666666\n",
      "9   0.6551724137931034\n",
      "10   0.6060606060606061\n",
      "11   0.5882352941176471\n",
      "12   0.5694444444444444\n",
      "13   0.5753424657534246\n",
      "14   0.5866666666666667\n",
      "15   0.573170731707317\n",
      "16   0.5862068965517241\n",
      "17   0.5480769230769231\n",
      "18   0.5384615384615384\n",
      "19   0.5034965034965035\n",
      "20   0.48214285714285715\n",
      "21   0.45652173913043476\n",
      "22   0.45491803278688525\n",
      "23   0.45018450184501846\n",
      "24   0.4425087108013937\n",
      "25   0.44654088050314467\n",
      "26   0.4340175953079179\n",
      "27   0.42896935933147634\n",
      "28   0.4376657824933687\n",
      "29   0.42574257425742573\n",
      "30   0.42452830188679247\n",
      "31   0.35789473684210527\n",
      "32   0.36115843270868825\n",
      "33   0.3657331136738056\n",
      "34   0.3665594855305466\n",
      "35   0.3667711598746082\n",
      "36   0.3848439821693908\n",
      "37   0.3879310344827586\n",
      "38   0.38603988603988604\n",
      "39   0.3870967741935484\n",
      "40   0.38651994497936726\n",
      "41   0.3867924528301887\n",
      "42   0.38636363636363635\n",
      "43   0.3876478318002628\n",
      "44   0.38642297650130547\n",
      "45   0.3858064516129032\n",
      "46   0.385297845373891\n",
      "47   0.3833543505674653\n",
      "48   0.3802992518703242\n",
      "49   0.3834771886559803\n",
      "50   0.38555691554467564\n",
      "51   0.38694074969770254\n",
      "52   0.38609112709832133\n",
      "53   0.3869047619047619\n",
      "54   0.3876337693222354\n",
      "55   0.3875147232037691\n",
      "56   0.3873239436619718\n",
      "57   0.3878504672897196\n",
      "58   0.38694638694638694\n",
      "59   0.388180764774044\n",
      "60   0.3872832369942196\n",
      "61   0.3878020713463751\n",
      "62   0.38646788990825687\n",
      "63   0.386986301369863\n",
      "64   0.38838268792710706\n",
      "65   0.3875\n",
      "66   0.38618346545866367\n",
      "67   0.38574660633484165\n",
      "68   0.38574660633484165\n",
      "69   0.38574660633484165\n",
      "70   0.38574660633484165\n",
      "71   0.38444193912063135\n",
      "72   0.38357705286839144\n",
      "73   0.38357705286839144\n",
      "74   0.38357705286839144\n",
      "75   0.3831460674157303\n",
      "76   0.3831460674157303\n",
      "77   0.3831460674157303\n",
      "78   0.3831460674157303\n",
      "79   0.3831460674157303\n",
      "80   0.3831460674157303\n"
     ]
    }
   ],
   "source": [
    "# look at the proportion of passengers of Age < i that survived\n",
    "# for i from 1..Age.max()\n",
    "for i in range(1, 1 + int(labeled_df.Age.max())):\n",
    "    print(i, \" \", labeled_df[labeled_df.Age < i].Survived.mean())"
   ]
  },
  {
   "cell_type": "markdown",
   "metadata": {},
   "source": [
    "It looks like if a passenger is younger than 10 years old, there is about a 0.66 chance of survival. I'll create a new column called Helpless."
   ]
  },
  {
   "cell_type": "code",
   "execution_count": 69,
   "metadata": {},
   "outputs": [],
   "source": [
    "# replace Age with a category that takes 1 if Age < 10; 0 otherwise (including nulls, since unlikely Age < 10)\n",
    "def is_helpless(x):\n",
    "    return 0 if (x >= 10.0 or pd.isna(x)) else 1\n",
    "\n",
    "# create the new column\n",
    "labeled_df['Helpless'] = labeled_df.Age.map(lambda x : is_helpless(x))\n",
    "unlabeled_df['Helpless'] = unlabeled_df.Age.map(lambda x : is_helpless(x))"
   ]
  },
  {
   "cell_type": "code",
   "execution_count": 70,
   "metadata": {},
   "outputs": [
    {
     "name": "stdout",
     "output_type": "stream",
     "text": [
      "Survived    0    1  All\n",
      "Helpless               \n",
      "0         523  302  825\n",
      "1          26   40   66\n",
      "All       549  342  891 \n",
      "\n",
      "Helpless\n",
      "0    0.366061\n",
      "1    0.606061\n",
      "Name: Survived, dtype: float64\n"
     ]
    }
   ],
   "source": [
    "# let's look at the Helpless vs Survived crosstabs...\n",
    "print(pd.crosstab(labeled_df.Helpless, labeled_df.Survived, margins = True), '\\n')\n",
    "\n",
    "# ...as well as the mean Survived (proportion that survived) grouping by Helpless\n",
    "print(labeled_df.groupby('Helpless').Survived.mean())"
   ]
  },
  {
   "cell_type": "markdown",
   "metadata": {},
   "source": [
    "Helpless is a small group and the survival rate isn't great, but maybe it can help out a little bit."
   ]
  },
  {
   "cell_type": "code",
   "execution_count": 71,
   "metadata": {},
   "outputs": [],
   "source": [
    "# can drop Age\n",
    "labeled_df.drop(['Age'], axis = 1, inplace = True)\n",
    "unlabeled_df.drop(['Age'], axis = 1, inplace = True)"
   ]
  },
  {
   "cell_type": "markdown",
   "metadata": {},
   "source": [
    "## Final Check"
   ]
  },
  {
   "cell_type": "code",
   "execution_count": 72,
   "metadata": {},
   "outputs": [
    {
     "name": "stdout",
     "output_type": "stream",
     "text": [
      "False \n",
      "\n",
      "False\n"
     ]
    }
   ],
   "source": [
    "# check if any nulls remain\n",
    "print(labeled_df.isnull().any().any(), '\\n')\n",
    "print(unlabeled_df.isnull().any().any())"
   ]
  },
  {
   "cell_type": "code",
   "execution_count": 73,
   "metadata": {},
   "outputs": [
    {
     "name": "stdout",
     "output_type": "stream",
     "text": [
      "<class 'pandas.core.frame.DataFrame'>\n",
      "Int64Index: 891 entries, 1 to 891\n",
      "Data columns (total 10 columns):\n",
      "Survived          891 non-null int64\n",
      "Sex_Female        891 non-null int64\n",
      "Pclass_1          891 non-null uint8\n",
      "Pclass_3          891 non-null uint8\n",
      "Small_Support     891 non-null int64\n",
      "Embarked_C        891 non-null uint8\n",
      "Deck_Advantage    891 non-null int64\n",
      "Fare_Bin_0        891 non-null uint8\n",
      "Fare_Bin_2        891 non-null uint8\n",
      "Helpless          891 non-null int64\n",
      "dtypes: int64(5), uint8(5)\n",
      "memory usage: 46.1 KB\n",
      "None \n",
      "\n",
      "<class 'pandas.core.frame.DataFrame'>\n",
      "Int64Index: 418 entries, 892 to 1309\n",
      "Data columns (total 9 columns):\n",
      "Sex_Female        418 non-null int64\n",
      "Pclass_1          418 non-null uint8\n",
      "Pclass_3          418 non-null uint8\n",
      "Small_Support     418 non-null int64\n",
      "Embarked_C        418 non-null uint8\n",
      "Deck_Advantage    418 non-null int64\n",
      "Fare_Bin_0        418 non-null uint8\n",
      "Fare_Bin_2        418 non-null uint8\n",
      "Helpless          418 non-null int64\n",
      "dtypes: int64(4), uint8(5)\n",
      "memory usage: 18.4 KB\n",
      "None\n"
     ]
    }
   ],
   "source": [
    "# all columns should be numeric\n",
    "print(labeled_df.info(), '\\n')\n",
    "print(unlabeled_df.info())"
   ]
  },
  {
   "cell_type": "code",
   "execution_count": 74,
   "metadata": {},
   "outputs": [],
   "source": [
    "# sort columns alphabetically then put Survived as the first column\n",
    "columns = [column for column in labeled_df.columns if column != 'Survived']\n",
    "columns = ['Survived'] + sorted(columns)\n",
    "labeled_df = labeled_df[columns]\n",
    "\n",
    "columns = unlabeled_df.columns\n",
    "columns = sorted(columns)\n",
    "unlabeled_df = unlabeled_df[columns]"
   ]
  },
  {
   "cell_type": "code",
   "execution_count": 75,
   "metadata": {},
   "outputs": [
    {
     "name": "stdout",
     "output_type": "stream",
     "text": [
      "Index(['Survived', 'Deck_Advantage', 'Embarked_C', 'Fare_Bin_0', 'Fare_Bin_2',\n",
      "       'Helpless', 'Pclass_1', 'Pclass_3', 'Sex_Female', 'Small_Support'],\n",
      "      dtype='object') \n",
      "\n",
      "Index(['Deck_Advantage', 'Embarked_C', 'Fare_Bin_0', 'Fare_Bin_2', 'Helpless',\n",
      "       'Pclass_1', 'Pclass_3', 'Sex_Female', 'Small_Support'],\n",
      "      dtype='object')\n"
     ]
    }
   ],
   "source": [
    "# all check the column sort\n",
    "print(labeled_df.columns, '\\n')\n",
    "print(unlabeled_df.columns)"
   ]
  },
  {
   "cell_type": "code",
   "execution_count": 76,
   "metadata": {},
   "outputs": [
    {
     "data": {
      "text/html": [
       "<style  type=\"text/css\" >\n",
       "    #T_d0f5c2be_aa37_11e8_a67d_28cfe94f7bc5row0_col0 {\n",
       "            background-color:  #023858;\n",
       "        }    #T_d0f5c2be_aa37_11e8_a67d_28cfe94f7bc5row0_col1 {\n",
       "            background-color:  #5a9ec9;\n",
       "        }    #T_d0f5c2be_aa37_11e8_a67d_28cfe94f7bc5row0_col2 {\n",
       "            background-color:  #c6cce3;\n",
       "        }    #T_d0f5c2be_aa37_11e8_a67d_28cfe94f7bc5row0_col3 {\n",
       "            background-color:  #e6e2ef;\n",
       "        }    #T_d0f5c2be_aa37_11e8_a67d_28cfe94f7bc5row0_col4 {\n",
       "            background-color:  #6da6cd;\n",
       "        }    #T_d0f5c2be_aa37_11e8_a67d_28cfe94f7bc5row0_col5 {\n",
       "            background-color:  #c9cee4;\n",
       "        }    #T_d0f5c2be_aa37_11e8_a67d_28cfe94f7bc5row0_col6 {\n",
       "            background-color:  #569dc8;\n",
       "        }    #T_d0f5c2be_aa37_11e8_a67d_28cfe94f7bc5row0_col7 {\n",
       "            background-color:  #dfddec;\n",
       "        }    #T_d0f5c2be_aa37_11e8_a67d_28cfe94f7bc5row0_col8 {\n",
       "            background-color:  #308cbe;\n",
       "        }    #T_d0f5c2be_aa37_11e8_a67d_28cfe94f7bc5row0_col9 {\n",
       "            background-color:  #79abd0;\n",
       "        }    #T_d0f5c2be_aa37_11e8_a67d_28cfe94f7bc5row1_col0 {\n",
       "            background-color:  #79abd0;\n",
       "        }    #T_d0f5c2be_aa37_11e8_a67d_28cfe94f7bc5row1_col1 {\n",
       "            background-color:  #023858;\n",
       "        }    #T_d0f5c2be_aa37_11e8_a67d_28cfe94f7bc5row1_col2 {\n",
       "            background-color:  #c0c9e2;\n",
       "        }    #T_d0f5c2be_aa37_11e8_a67d_28cfe94f7bc5row1_col3 {\n",
       "            background-color:  #ede7f2;\n",
       "        }    #T_d0f5c2be_aa37_11e8_a67d_28cfe94f7bc5row1_col4 {\n",
       "            background-color:  #1379b5;\n",
       "        }    #T_d0f5c2be_aa37_11e8_a67d_28cfe94f7bc5row1_col5 {\n",
       "            background-color:  #efe9f3;\n",
       "        }    #T_d0f5c2be_aa37_11e8_a67d_28cfe94f7bc5row1_col6 {\n",
       "            background-color:  #045f95;\n",
       "        }    #T_d0f5c2be_aa37_11e8_a67d_28cfe94f7bc5row1_col7 {\n",
       "            background-color:  #f5eff6;\n",
       "        }    #T_d0f5c2be_aa37_11e8_a67d_28cfe94f7bc5row1_col8 {\n",
       "            background-color:  #b3c3de;\n",
       "        }    #T_d0f5c2be_aa37_11e8_a67d_28cfe94f7bc5row1_col9 {\n",
       "            background-color:  #8bb2d4;\n",
       "        }    #T_d0f5c2be_aa37_11e8_a67d_28cfe94f7bc5row2_col0 {\n",
       "            background-color:  #a8bedc;\n",
       "        }    #T_d0f5c2be_aa37_11e8_a67d_28cfe94f7bc5row2_col1 {\n",
       "            background-color:  #80aed2;\n",
       "        }    #T_d0f5c2be_aa37_11e8_a67d_28cfe94f7bc5row2_col2 {\n",
       "            background-color:  #023858;\n",
       "        }    #T_d0f5c2be_aa37_11e8_a67d_28cfe94f7bc5row2_col3 {\n",
       "            background-color:  #d0d1e6;\n",
       "        }    #T_d0f5c2be_aa37_11e8_a67d_28cfe94f7bc5row2_col4 {\n",
       "            background-color:  #76aad0;\n",
       "        }    #T_d0f5c2be_aa37_11e8_a67d_28cfe94f7bc5row2_col5 {\n",
       "            background-color:  #e7e3f0;\n",
       "        }    #T_d0f5c2be_aa37_11e8_a67d_28cfe94f7bc5row2_col6 {\n",
       "            background-color:  #529bc7;\n",
       "        }    #T_d0f5c2be_aa37_11e8_a67d_28cfe94f7bc5row2_col7 {\n",
       "            background-color:  #c2cbe2;\n",
       "        }    #T_d0f5c2be_aa37_11e8_a67d_28cfe94f7bc5row2_col8 {\n",
       "            background-color:  #c6cce3;\n",
       "        }    #T_d0f5c2be_aa37_11e8_a67d_28cfe94f7bc5row2_col9 {\n",
       "            background-color:  #9cb9d9;\n",
       "        }    #T_d0f5c2be_aa37_11e8_a67d_28cfe94f7bc5row3_col0 {\n",
       "            background-color:  #faf3f9;\n",
       "        }    #T_d0f5c2be_aa37_11e8_a67d_28cfe94f7bc5row3_col1 {\n",
       "            background-color:  #ebe6f2;\n",
       "        }    #T_d0f5c2be_aa37_11e8_a67d_28cfe94f7bc5row3_col2 {\n",
       "            background-color:  #fdf5fa;\n",
       "        }    #T_d0f5c2be_aa37_11e8_a67d_28cfe94f7bc5row3_col3 {\n",
       "            background-color:  #023858;\n",
       "        }    #T_d0f5c2be_aa37_11e8_a67d_28cfe94f7bc5row3_col4 {\n",
       "            background-color:  #fdf5fa;\n",
       "        }    #T_d0f5c2be_aa37_11e8_a67d_28cfe94f7bc5row3_col5 {\n",
       "            background-color:  #fff7fb;\n",
       "        }    #T_d0f5c2be_aa37_11e8_a67d_28cfe94f7bc5row3_col6 {\n",
       "            background-color:  #e6e2ef;\n",
       "        }    #T_d0f5c2be_aa37_11e8_a67d_28cfe94f7bc5row3_col7 {\n",
       "            background-color:  #056faf;\n",
       "        }    #T_d0f5c2be_aa37_11e8_a67d_28cfe94f7bc5row3_col8 {\n",
       "            background-color:  #fff7fb;\n",
       "        }    #T_d0f5c2be_aa37_11e8_a67d_28cfe94f7bc5row3_col9 {\n",
       "            background-color:  #fff7fb;\n",
       "        }    #T_d0f5c2be_aa37_11e8_a67d_28cfe94f7bc5row4_col0 {\n",
       "            background-color:  #8eb3d5;\n",
       "        }    #T_d0f5c2be_aa37_11e8_a67d_28cfe94f7bc5row4_col1 {\n",
       "            background-color:  #157ab5;\n",
       "        }    #T_d0f5c2be_aa37_11e8_a67d_28cfe94f7bc5row4_col2 {\n",
       "            background-color:  #b5c4df;\n",
       "        }    #T_d0f5c2be_aa37_11e8_a67d_28cfe94f7bc5row4_col3 {\n",
       "            background-color:  #fff7fb;\n",
       "        }    #T_d0f5c2be_aa37_11e8_a67d_28cfe94f7bc5row4_col4 {\n",
       "            background-color:  #023858;\n",
       "        }    #T_d0f5c2be_aa37_11e8_a67d_28cfe94f7bc5row4_col5 {\n",
       "            background-color:  #ced0e6;\n",
       "        }    #T_d0f5c2be_aa37_11e8_a67d_28cfe94f7bc5row4_col6 {\n",
       "            background-color:  #046097;\n",
       "        }    #T_d0f5c2be_aa37_11e8_a67d_28cfe94f7bc5row4_col7 {\n",
       "            background-color:  #f6eff7;\n",
       "        }    #T_d0f5c2be_aa37_11e8_a67d_28cfe94f7bc5row4_col8 {\n",
       "            background-color:  #b9c6e0;\n",
       "        }    #T_d0f5c2be_aa37_11e8_a67d_28cfe94f7bc5row4_col9 {\n",
       "            background-color:  #8eb3d5;\n",
       "        }    #T_d0f5c2be_aa37_11e8_a67d_28cfe94f7bc5row5_col0 {\n",
       "            background-color:  #b1c2de;\n",
       "        }    #T_d0f5c2be_aa37_11e8_a67d_28cfe94f7bc5row5_col1 {\n",
       "            background-color:  #c1cae2;\n",
       "        }    #T_d0f5c2be_aa37_11e8_a67d_28cfe94f7bc5row5_col2 {\n",
       "            background-color:  #ede8f3;\n",
       "        }    #T_d0f5c2be_aa37_11e8_a67d_28cfe94f7bc5row5_col3 {\n",
       "            background-color:  #d9d8ea;\n",
       "        }    #T_d0f5c2be_aa37_11e8_a67d_28cfe94f7bc5row5_col4 {\n",
       "            background-color:  #94b6d7;\n",
       "        }    #T_d0f5c2be_aa37_11e8_a67d_28cfe94f7bc5row5_col5 {\n",
       "            background-color:  #023858;\n",
       "        }    #T_d0f5c2be_aa37_11e8_a67d_28cfe94f7bc5row5_col6 {\n",
       "            background-color:  #bdc8e1;\n",
       "        }    #T_d0f5c2be_aa37_11e8_a67d_28cfe94f7bc5row5_col7 {\n",
       "            background-color:  #8eb3d5;\n",
       "        }    #T_d0f5c2be_aa37_11e8_a67d_28cfe94f7bc5row5_col8 {\n",
       "            background-color:  #cdd0e5;\n",
       "        }    #T_d0f5c2be_aa37_11e8_a67d_28cfe94f7bc5row5_col9 {\n",
       "            background-color:  #99b8d8;\n",
       "        }    #T_d0f5c2be_aa37_11e8_a67d_28cfe94f7bc5row6_col0 {\n",
       "            background-color:  #84b0d3;\n",
       "        }    #T_d0f5c2be_aa37_11e8_a67d_28cfe94f7bc5row6_col1 {\n",
       "            background-color:  #046198;\n",
       "        }    #T_d0f5c2be_aa37_11e8_a67d_28cfe94f7bc5row6_col2 {\n",
       "            background-color:  #a1bbda;\n",
       "        }    #T_d0f5c2be_aa37_11e8_a67d_28cfe94f7bc5row6_col3 {\n",
       "            background-color:  #f2ecf5;\n",
       "        }    #T_d0f5c2be_aa37_11e8_a67d_28cfe94f7bc5row6_col4 {\n",
       "            background-color:  #046299;\n",
       "        }    #T_d0f5c2be_aa37_11e8_a67d_28cfe94f7bc5row6_col5 {\n",
       "            background-color:  #f7f0f7;\n",
       "        }    #T_d0f5c2be_aa37_11e8_a67d_28cfe94f7bc5row6_col6 {\n",
       "            background-color:  #023858;\n",
       "        }    #T_d0f5c2be_aa37_11e8_a67d_28cfe94f7bc5row6_col7 {\n",
       "            background-color:  #fff7fb;\n",
       "        }    #T_d0f5c2be_aa37_11e8_a67d_28cfe94f7bc5row6_col8 {\n",
       "            background-color:  #c2cbe2;\n",
       "        }    #T_d0f5c2be_aa37_11e8_a67d_28cfe94f7bc5row6_col9 {\n",
       "            background-color:  #99b8d8;\n",
       "        }    #T_d0f5c2be_aa37_11e8_a67d_28cfe94f7bc5row7_col0 {\n",
       "            background-color:  #fff7fb;\n",
       "        }    #T_d0f5c2be_aa37_11e8_a67d_28cfe94f7bc5row7_col1 {\n",
       "            background-color:  #fff7fb;\n",
       "        }    #T_d0f5c2be_aa37_11e8_a67d_28cfe94f7bc5row7_col2 {\n",
       "            background-color:  #fff7fb;\n",
       "        }    #T_d0f5c2be_aa37_11e8_a67d_28cfe94f7bc5row7_col3 {\n",
       "            background-color:  #0a73b2;\n",
       "        }    #T_d0f5c2be_aa37_11e8_a67d_28cfe94f7bc5row7_col4 {\n",
       "            background-color:  #fff7fb;\n",
       "        }    #T_d0f5c2be_aa37_11e8_a67d_28cfe94f7bc5row7_col5 {\n",
       "            background-color:  #d4d4e8;\n",
       "        }    #T_d0f5c2be_aa37_11e8_a67d_28cfe94f7bc5row7_col6 {\n",
       "            background-color:  #fff7fb;\n",
       "        }    #T_d0f5c2be_aa37_11e8_a67d_28cfe94f7bc5row7_col7 {\n",
       "            background-color:  #023858;\n",
       "        }    #T_d0f5c2be_aa37_11e8_a67d_28cfe94f7bc5row7_col8 {\n",
       "            background-color:  #f0eaf4;\n",
       "        }    #T_d0f5c2be_aa37_11e8_a67d_28cfe94f7bc5row7_col9 {\n",
       "            background-color:  #ece7f2;\n",
       "        }    #T_d0f5c2be_aa37_11e8_a67d_28cfe94f7bc5row8_col0 {\n",
       "            background-color:  #2a88bc;\n",
       "        }    #T_d0f5c2be_aa37_11e8_a67d_28cfe94f7bc5row8_col1 {\n",
       "            background-color:  #89b1d4;\n",
       "        }    #T_d0f5c2be_aa37_11e8_a67d_28cfe94f7bc5row8_col2 {\n",
       "            background-color:  #dad9ea;\n",
       "        }    #T_d0f5c2be_aa37_11e8_a67d_28cfe94f7bc5row8_col3 {\n",
       "            background-color:  #e5e1ef;\n",
       "        }    #T_d0f5c2be_aa37_11e8_a67d_28cfe94f7bc5row8_col4 {\n",
       "            background-color:  #8eb3d5;\n",
       "        }    #T_d0f5c2be_aa37_11e8_a67d_28cfe94f7bc5row8_col5 {\n",
       "            background-color:  #d9d8ea;\n",
       "        }    #T_d0f5c2be_aa37_11e8_a67d_28cfe94f7bc5row8_col6 {\n",
       "            background-color:  #89b1d4;\n",
       "        }    #T_d0f5c2be_aa37_11e8_a67d_28cfe94f7bc5row8_col7 {\n",
       "            background-color:  #bfc9e1;\n",
       "        }    #T_d0f5c2be_aa37_11e8_a67d_28cfe94f7bc5row8_col8 {\n",
       "            background-color:  #023858;\n",
       "        }    #T_d0f5c2be_aa37_11e8_a67d_28cfe94f7bc5row8_col9 {\n",
       "            background-color:  #7eadd1;\n",
       "        }    #T_d0f5c2be_aa37_11e8_a67d_28cfe94f7bc5row9_col0 {\n",
       "            background-color:  #86b0d3;\n",
       "        }    #T_d0f5c2be_aa37_11e8_a67d_28cfe94f7bc5row9_col1 {\n",
       "            background-color:  #79abd0;\n",
       "        }    #T_d0f5c2be_aa37_11e8_a67d_28cfe94f7bc5row9_col2 {\n",
       "            background-color:  #c9cee4;\n",
       "        }    #T_d0f5c2be_aa37_11e8_a67d_28cfe94f7bc5row9_col3 {\n",
       "            background-color:  #f5eef6;\n",
       "        }    #T_d0f5c2be_aa37_11e8_a67d_28cfe94f7bc5row9_col4 {\n",
       "            background-color:  #7dacd1;\n",
       "        }    #T_d0f5c2be_aa37_11e8_a67d_28cfe94f7bc5row9_col5 {\n",
       "            background-color:  #bfc9e1;\n",
       "        }    #T_d0f5c2be_aa37_11e8_a67d_28cfe94f7bc5row9_col6 {\n",
       "            background-color:  #78abd0;\n",
       "        }    #T_d0f5c2be_aa37_11e8_a67d_28cfe94f7bc5row9_col7 {\n",
       "            background-color:  #d2d2e7;\n",
       "        }    #T_d0f5c2be_aa37_11e8_a67d_28cfe94f7bc5row9_col8 {\n",
       "            background-color:  #96b6d7;\n",
       "        }    #T_d0f5c2be_aa37_11e8_a67d_28cfe94f7bc5row9_col9 {\n",
       "            background-color:  #023858;\n",
       "        }</style>  \n",
       "<table id=\"T_d0f5c2be_aa37_11e8_a67d_28cfe94f7bc5\" > \n",
       "<thead>    <tr> \n",
       "        <th class=\"blank level0\" ></th> \n",
       "        <th class=\"col_heading level0 col0\" >Survived</th> \n",
       "        <th class=\"col_heading level0 col1\" >Deck_Advantage</th> \n",
       "        <th class=\"col_heading level0 col2\" >Embarked_C</th> \n",
       "        <th class=\"col_heading level0 col3\" >Fare_Bin_0</th> \n",
       "        <th class=\"col_heading level0 col4\" >Fare_Bin_2</th> \n",
       "        <th class=\"col_heading level0 col5\" >Helpless</th> \n",
       "        <th class=\"col_heading level0 col6\" >Pclass_1</th> \n",
       "        <th class=\"col_heading level0 col7\" >Pclass_3</th> \n",
       "        <th class=\"col_heading level0 col8\" >Sex_Female</th> \n",
       "        <th class=\"col_heading level0 col9\" >Small_Support</th> \n",
       "    </tr></thead> \n",
       "<tbody>    <tr> \n",
       "        <th id=\"T_d0f5c2be_aa37_11e8_a67d_28cfe94f7bc5level0_row0\" class=\"row_heading level0 row0\" >Survived</th> \n",
       "        <td id=\"T_d0f5c2be_aa37_11e8_a67d_28cfe94f7bc5row0_col0\" class=\"data row0 col0\" >1</td> \n",
       "        <td id=\"T_d0f5c2be_aa37_11e8_a67d_28cfe94f7bc5row0_col1\" class=\"data row0 col1\" >0.321393</td> \n",
       "        <td id=\"T_d0f5c2be_aa37_11e8_a67d_28cfe94f7bc5row0_col2\" class=\"data row0 col2\" >0.16824</td> \n",
       "        <td id=\"T_d0f5c2be_aa37_11e8_a67d_28cfe94f7bc5row0_col3\" class=\"data row0 col3\" >-0.277673</td> \n",
       "        <td id=\"T_d0f5c2be_aa37_11e8_a67d_28cfe94f7bc5row0_col4\" class=\"data row0 col4\" >0.253865</td> \n",
       "        <td id=\"T_d0f5c2be_aa37_11e8_a67d_28cfe94f7bc5row0_col5\" class=\"data row0 col5\" >0.129244</td> \n",
       "        <td id=\"T_d0f5c2be_aa37_11e8_a67d_28cfe94f7bc5row0_col6\" class=\"data row0 col6\" >0.285904</td> \n",
       "        <td id=\"T_d0f5c2be_aa37_11e8_a67d_28cfe94f7bc5row0_col7\" class=\"data row0 col7\" >-0.322308</td> \n",
       "        <td id=\"T_d0f5c2be_aa37_11e8_a67d_28cfe94f7bc5row0_col8\" class=\"data row0 col8\" >0.543351</td> \n",
       "        <td id=\"T_d0f5c2be_aa37_11e8_a67d_28cfe94f7bc5row0_col9\" class=\"data row0 col9\" >0.279855</td> \n",
       "    </tr>    <tr> \n",
       "        <th id=\"T_d0f5c2be_aa37_11e8_a67d_28cfe94f7bc5level0_row1\" class=\"row_heading level0 row1\" >Deck_Advantage</th> \n",
       "        <td id=\"T_d0f5c2be_aa37_11e8_a67d_28cfe94f7bc5row1_col0\" class=\"data row1 col0\" >0.321393</td> \n",
       "        <td id=\"T_d0f5c2be_aa37_11e8_a67d_28cfe94f7bc5row1_col1\" class=\"data row1 col1\" >1</td> \n",
       "        <td id=\"T_d0f5c2be_aa37_11e8_a67d_28cfe94f7bc5row1_col2\" class=\"data row1 col2\" >0.193553</td> \n",
       "        <td id=\"T_d0f5c2be_aa37_11e8_a67d_28cfe94f7bc5row1_col3\" class=\"data row1 col3\" >-0.324163</td> \n",
       "        <td id=\"T_d0f5c2be_aa37_11e8_a67d_28cfe94f7bc5row1_col4\" class=\"data row1 col4\" >0.560161</td> \n",
       "        <td id=\"T_d0f5c2be_aa37_11e8_a67d_28cfe94f7bc5row1_col5\" class=\"data row1 col5\" >-0.0701858</td> \n",
       "        <td id=\"T_d0f5c2be_aa37_11e8_a67d_28cfe94f7bc5row1_col6\" class=\"data row1 col6\" >0.746558</td> \n",
       "        <td id=\"T_d0f5c2be_aa37_11e8_a67d_28cfe94f7bc5row1_col7\" class=\"data row1 col7\" >-0.520616</td> \n",
       "        <td id=\"T_d0f5c2be_aa37_11e8_a67d_28cfe94f7bc5row1_col8\" class=\"data row1 col8\" >0.157606</td> \n",
       "        <td id=\"T_d0f5c2be_aa37_11e8_a67d_28cfe94f7bc5row1_col9\" class=\"data row1 col9\" >0.216776</td> \n",
       "    </tr>    <tr> \n",
       "        <th id=\"T_d0f5c2be_aa37_11e8_a67d_28cfe94f7bc5level0_row2\" class=\"row_heading level0 row2\" >Embarked_C</th> \n",
       "        <td id=\"T_d0f5c2be_aa37_11e8_a67d_28cfe94f7bc5row2_col0\" class=\"data row2 col0\" >0.16824</td> \n",
       "        <td id=\"T_d0f5c2be_aa37_11e8_a67d_28cfe94f7bc5row2_col1\" class=\"data row2 col1\" >0.193553</td> \n",
       "        <td id=\"T_d0f5c2be_aa37_11e8_a67d_28cfe94f7bc5row2_col2\" class=\"data row2 col2\" >1</td> \n",
       "        <td id=\"T_d0f5c2be_aa37_11e8_a67d_28cfe94f7bc5row2_col3\" class=\"data row2 col3\" >-0.133176</td> \n",
       "        <td id=\"T_d0f5c2be_aa37_11e8_a67d_28cfe94f7bc5row2_col4\" class=\"data row2 col4\" >0.22789</td> \n",
       "        <td id=\"T_d0f5c2be_aa37_11e8_a67d_28cfe94f7bc5row2_col5\" class=\"data row2 col5\" >-0.0158254</td> \n",
       "        <td id=\"T_d0f5c2be_aa37_11e8_a67d_28cfe94f7bc5row2_col6\" class=\"data row2 col6\" >0.296423</td> \n",
       "        <td id=\"T_d0f5c2be_aa37_11e8_a67d_28cfe94f7bc5row2_col7\" class=\"data row2 col7\" >-0.153329</td> \n",
       "        <td id=\"T_d0f5c2be_aa37_11e8_a67d_28cfe94f7bc5row2_col8\" class=\"data row2 col8\" >0.0828535</td> \n",
       "        <td id=\"T_d0f5c2be_aa37_11e8_a67d_28cfe94f7bc5row2_col9\" class=\"data row2 col9\" >0.158586</td> \n",
       "    </tr>    <tr> \n",
       "        <th id=\"T_d0f5c2be_aa37_11e8_a67d_28cfe94f7bc5level0_row3\" class=\"row_heading level0 row3\" >Fare_Bin_0</th> \n",
       "        <td id=\"T_d0f5c2be_aa37_11e8_a67d_28cfe94f7bc5row3_col0\" class=\"data row3 col0\" >-0.277673</td> \n",
       "        <td id=\"T_d0f5c2be_aa37_11e8_a67d_28cfe94f7bc5row3_col1\" class=\"data row3 col1\" >-0.324163</td> \n",
       "        <td id=\"T_d0f5c2be_aa37_11e8_a67d_28cfe94f7bc5row3_col2\" class=\"data row3 col2\" >-0.133176</td> \n",
       "        <td id=\"T_d0f5c2be_aa37_11e8_a67d_28cfe94f7bc5row3_col3\" class=\"data row3 col3\" >1</td> \n",
       "        <td id=\"T_d0f5c2be_aa37_11e8_a67d_28cfe94f7bc5row3_col4\" class=\"data row3 col4\" >-0.511363</td> \n",
       "        <td id=\"T_d0f5c2be_aa37_11e8_a67d_28cfe94f7bc5row3_col5\" class=\"data row3 col5\" >-0.196572</td> \n",
       "        <td id=\"T_d0f5c2be_aa37_11e8_a67d_28cfe94f7bc5row3_col6\" class=\"data row3 col6\" >-0.378125</td> \n",
       "        <td id=\"T_d0f5c2be_aa37_11e8_a67d_28cfe94f7bc5row3_col7\" class=\"data row3 col7\" >0.599105</td> \n",
       "        <td id=\"T_d0f5c2be_aa37_11e8_a67d_28cfe94f7bc5row3_col8\" class=\"data row3 col8\" >-0.269436</td> \n",
       "        <td id=\"T_d0f5c2be_aa37_11e8_a67d_28cfe94f7bc5row3_col9\" class=\"data row3 col9\" >-0.406928</td> \n",
       "    </tr>    <tr> \n",
       "        <th id=\"T_d0f5c2be_aa37_11e8_a67d_28cfe94f7bc5level0_row4\" class=\"row_heading level0 row4\" >Fare_Bin_2</th> \n",
       "        <td id=\"T_d0f5c2be_aa37_11e8_a67d_28cfe94f7bc5row4_col0\" class=\"data row4 col0\" >0.253865</td> \n",
       "        <td id=\"T_d0f5c2be_aa37_11e8_a67d_28cfe94f7bc5row4_col1\" class=\"data row4 col1\" >0.560161</td> \n",
       "        <td id=\"T_d0f5c2be_aa37_11e8_a67d_28cfe94f7bc5row4_col2\" class=\"data row4 col2\" >0.22789</td> \n",
       "        <td id=\"T_d0f5c2be_aa37_11e8_a67d_28cfe94f7bc5row4_col3\" class=\"data row4 col3\" >-0.511363</td> \n",
       "        <td id=\"T_d0f5c2be_aa37_11e8_a67d_28cfe94f7bc5row4_col4\" class=\"data row4 col4\" >1</td> \n",
       "        <td id=\"T_d0f5c2be_aa37_11e8_a67d_28cfe94f7bc5row4_col5\" class=\"data row4 col5\" >0.110625</td> \n",
       "        <td id=\"T_d0f5c2be_aa37_11e8_a67d_28cfe94f7bc5row4_col6\" class=\"data row4 col6\" >0.737278</td> \n",
       "        <td id=\"T_d0f5c2be_aa37_11e8_a67d_28cfe94f7bc5row4_col7\" class=\"data row4 col7\" >-0.530138</td> \n",
       "        <td id=\"T_d0f5c2be_aa37_11e8_a67d_28cfe94f7bc5row4_col8\" class=\"data row4 col8\" >0.13498</td> \n",
       "        <td id=\"T_d0f5c2be_aa37_11e8_a67d_28cfe94f7bc5row4_col9\" class=\"data row4 col9\" >0.204872</td> \n",
       "    </tr>    <tr> \n",
       "        <th id=\"T_d0f5c2be_aa37_11e8_a67d_28cfe94f7bc5level0_row5\" class=\"row_heading level0 row5\" >Helpless</th> \n",
       "        <td id=\"T_d0f5c2be_aa37_11e8_a67d_28cfe94f7bc5row5_col0\" class=\"data row5 col0\" >0.129244</td> \n",
       "        <td id=\"T_d0f5c2be_aa37_11e8_a67d_28cfe94f7bc5row5_col1\" class=\"data row5 col1\" >-0.0701858</td> \n",
       "        <td id=\"T_d0f5c2be_aa37_11e8_a67d_28cfe94f7bc5row5_col2\" class=\"data row5 col2\" >-0.0158254</td> \n",
       "        <td id=\"T_d0f5c2be_aa37_11e8_a67d_28cfe94f7bc5row5_col3\" class=\"data row5 col3\" >-0.196572</td> \n",
       "        <td id=\"T_d0f5c2be_aa37_11e8_a67d_28cfe94f7bc5row5_col4\" class=\"data row5 col4\" >0.110625</td> \n",
       "        <td id=\"T_d0f5c2be_aa37_11e8_a67d_28cfe94f7bc5row5_col5\" class=\"data row5 col5\" >1</td> \n",
       "        <td id=\"T_d0f5c2be_aa37_11e8_a67d_28cfe94f7bc5row5_col6\" class=\"data row5 col6\" >-0.13</td> \n",
       "        <td id=\"T_d0f5c2be_aa37_11e8_a67d_28cfe94f7bc5row5_col7\" class=\"data row5 col7\" >0.0829693</td> \n",
       "        <td id=\"T_d0f5c2be_aa37_11e8_a67d_28cfe94f7bc5row5_col8\" class=\"data row5 col8\" >0.0604691</td> \n",
       "        <td id=\"T_d0f5c2be_aa37_11e8_a67d_28cfe94f7bc5row5_col9\" class=\"data row5 col9\" >0.167723</td> \n",
       "    </tr>    <tr> \n",
       "        <th id=\"T_d0f5c2be_aa37_11e8_a67d_28cfe94f7bc5level0_row6\" class=\"row_heading level0 row6\" >Pclass_1</th> \n",
       "        <td id=\"T_d0f5c2be_aa37_11e8_a67d_28cfe94f7bc5row6_col0\" class=\"data row6 col0\" >0.285904</td> \n",
       "        <td id=\"T_d0f5c2be_aa37_11e8_a67d_28cfe94f7bc5row6_col1\" class=\"data row6 col1\" >0.746558</td> \n",
       "        <td id=\"T_d0f5c2be_aa37_11e8_a67d_28cfe94f7bc5row6_col2\" class=\"data row6 col2\" >0.296423</td> \n",
       "        <td id=\"T_d0f5c2be_aa37_11e8_a67d_28cfe94f7bc5row6_col3\" class=\"data row6 col3\" >-0.378125</td> \n",
       "        <td id=\"T_d0f5c2be_aa37_11e8_a67d_28cfe94f7bc5row6_col4\" class=\"data row6 col4\" >0.737278</td> \n",
       "        <td id=\"T_d0f5c2be_aa37_11e8_a67d_28cfe94f7bc5row6_col5\" class=\"data row6 col5\" >-0.13</td> \n",
       "        <td id=\"T_d0f5c2be_aa37_11e8_a67d_28cfe94f7bc5row6_col6\" class=\"data row6 col6\" >1</td> \n",
       "        <td id=\"T_d0f5c2be_aa37_11e8_a67d_28cfe94f7bc5row6_col7\" class=\"data row6 col7\" >-0.626738</td> \n",
       "        <td id=\"T_d0f5c2be_aa37_11e8_a67d_28cfe94f7bc5row6_col8\" class=\"data row6 col8\" >0.0980131</td> \n",
       "        <td id=\"T_d0f5c2be_aa37_11e8_a67d_28cfe94f7bc5row6_col9\" class=\"data row6 col9\" >0.168568</td> \n",
       "    </tr>    <tr> \n",
       "        <th id=\"T_d0f5c2be_aa37_11e8_a67d_28cfe94f7bc5level0_row7\" class=\"row_heading level0 row7\" >Pclass_3</th> \n",
       "        <td id=\"T_d0f5c2be_aa37_11e8_a67d_28cfe94f7bc5row7_col0\" class=\"data row7 col0\" >-0.322308</td> \n",
       "        <td id=\"T_d0f5c2be_aa37_11e8_a67d_28cfe94f7bc5row7_col1\" class=\"data row7 col1\" >-0.520616</td> \n",
       "        <td id=\"T_d0f5c2be_aa37_11e8_a67d_28cfe94f7bc5row7_col2\" class=\"data row7 col2\" >-0.153329</td> \n",
       "        <td id=\"T_d0f5c2be_aa37_11e8_a67d_28cfe94f7bc5row7_col3\" class=\"data row7 col3\" >0.599105</td> \n",
       "        <td id=\"T_d0f5c2be_aa37_11e8_a67d_28cfe94f7bc5row7_col4\" class=\"data row7 col4\" >-0.530138</td> \n",
       "        <td id=\"T_d0f5c2be_aa37_11e8_a67d_28cfe94f7bc5row7_col5\" class=\"data row7 col5\" >0.0829693</td> \n",
       "        <td id=\"T_d0f5c2be_aa37_11e8_a67d_28cfe94f7bc5row7_col6\" class=\"data row7 col6\" >-0.626738</td> \n",
       "        <td id=\"T_d0f5c2be_aa37_11e8_a67d_28cfe94f7bc5row7_col7\" class=\"data row7 col7\" >1</td> \n",
       "        <td id=\"T_d0f5c2be_aa37_11e8_a67d_28cfe94f7bc5row7_col8\" class=\"data row7 col8\" >-0.137143</td> \n",
       "        <td id=\"T_d0f5c2be_aa37_11e8_a67d_28cfe94f7bc5row7_col9\" class=\"data row7 col9\" >-0.230325</td> \n",
       "    </tr>    <tr> \n",
       "        <th id=\"T_d0f5c2be_aa37_11e8_a67d_28cfe94f7bc5level0_row8\" class=\"row_heading level0 row8\" >Sex_Female</th> \n",
       "        <td id=\"T_d0f5c2be_aa37_11e8_a67d_28cfe94f7bc5row8_col0\" class=\"data row8 col0\" >0.543351</td> \n",
       "        <td id=\"T_d0f5c2be_aa37_11e8_a67d_28cfe94f7bc5row8_col1\" class=\"data row8 col1\" >0.157606</td> \n",
       "        <td id=\"T_d0f5c2be_aa37_11e8_a67d_28cfe94f7bc5row8_col2\" class=\"data row8 col2\" >0.0828535</td> \n",
       "        <td id=\"T_d0f5c2be_aa37_11e8_a67d_28cfe94f7bc5row8_col3\" class=\"data row8 col3\" >-0.269436</td> \n",
       "        <td id=\"T_d0f5c2be_aa37_11e8_a67d_28cfe94f7bc5row8_col4\" class=\"data row8 col4\" >0.13498</td> \n",
       "        <td id=\"T_d0f5c2be_aa37_11e8_a67d_28cfe94f7bc5row8_col5\" class=\"data row8 col5\" >0.0604691</td> \n",
       "        <td id=\"T_d0f5c2be_aa37_11e8_a67d_28cfe94f7bc5row8_col6\" class=\"data row8 col6\" >0.0980131</td> \n",
       "        <td id=\"T_d0f5c2be_aa37_11e8_a67d_28cfe94f7bc5row8_col7\" class=\"data row8 col7\" >-0.137143</td> \n",
       "        <td id=\"T_d0f5c2be_aa37_11e8_a67d_28cfe94f7bc5row8_col8\" class=\"data row8 col8\" >1</td> \n",
       "        <td id=\"T_d0f5c2be_aa37_11e8_a67d_28cfe94f7bc5row8_col9\" class=\"data row8 col9\" >0.260747</td> \n",
       "    </tr>    <tr> \n",
       "        <th id=\"T_d0f5c2be_aa37_11e8_a67d_28cfe94f7bc5level0_row9\" class=\"row_heading level0 row9\" >Small_Support</th> \n",
       "        <td id=\"T_d0f5c2be_aa37_11e8_a67d_28cfe94f7bc5row9_col0\" class=\"data row9 col0\" >0.279855</td> \n",
       "        <td id=\"T_d0f5c2be_aa37_11e8_a67d_28cfe94f7bc5row9_col1\" class=\"data row9 col1\" >0.216776</td> \n",
       "        <td id=\"T_d0f5c2be_aa37_11e8_a67d_28cfe94f7bc5row9_col2\" class=\"data row9 col2\" >0.158586</td> \n",
       "        <td id=\"T_d0f5c2be_aa37_11e8_a67d_28cfe94f7bc5row9_col3\" class=\"data row9 col3\" >-0.406928</td> \n",
       "        <td id=\"T_d0f5c2be_aa37_11e8_a67d_28cfe94f7bc5row9_col4\" class=\"data row9 col4\" >0.204872</td> \n",
       "        <td id=\"T_d0f5c2be_aa37_11e8_a67d_28cfe94f7bc5row9_col5\" class=\"data row9 col5\" >0.167723</td> \n",
       "        <td id=\"T_d0f5c2be_aa37_11e8_a67d_28cfe94f7bc5row9_col6\" class=\"data row9 col6\" >0.168568</td> \n",
       "        <td id=\"T_d0f5c2be_aa37_11e8_a67d_28cfe94f7bc5row9_col7\" class=\"data row9 col7\" >-0.230325</td> \n",
       "        <td id=\"T_d0f5c2be_aa37_11e8_a67d_28cfe94f7bc5row9_col8\" class=\"data row9 col8\" >0.260747</td> \n",
       "        <td id=\"T_d0f5c2be_aa37_11e8_a67d_28cfe94f7bc5row9_col9\" class=\"data row9 col9\" >1</td> \n",
       "    </tr></tbody> \n",
       "</table> "
      ],
      "text/plain": [
       "<pandas.io.formats.style.Styler at 0x10b30c240>"
      ]
     },
     "execution_count": 76,
     "metadata": {},
     "output_type": "execute_result"
    }
   ],
   "source": [
    "# a look at correlation matrix\n",
    "corr = labeled_df.corr()\n",
    "corr.style.background_gradient()"
   ]
  },
  {
   "cell_type": "markdown",
   "metadata": {},
   "source": [
    "## Split Labeled Data into Train and Test Sets"
   ]
  },
  {
   "cell_type": "code",
   "execution_count": 77,
   "metadata": {},
   "outputs": [
    {
     "name": "stdout",
     "output_type": "stream",
     "text": [
      "(891, 10)  =  (712, 10)  +  (179, 10)\n",
      "(418, 9)\n"
     ]
    }
   ],
   "source": [
    "# train on 80%, test on 20%\n",
    "# stratify split based on Survived column\n",
    "train_df, test_df = train_test_split(labeled_df,\n",
    "                                     test_size = 0.2,\n",
    "                                     random_state = 42,\n",
    "                                     stratify = labeled_df.Survived)\n",
    "print(labeled_df.shape, \" = \", train_df.shape, \" + \", test_df.shape)\n",
    "print(unlabeled_df.shape)"
   ]
  },
  {
   "cell_type": "code",
   "execution_count": 78,
   "metadata": {},
   "outputs": [
    {
     "name": "stdout",
     "output_type": "stream",
     "text": [
      "0    0.616573\n",
      "1    0.383427\n",
      "Name: Survived, dtype: float64 \n",
      "\n",
      "0    0.614525\n",
      "1    0.385475\n",
      "Name: Survived, dtype: float64\n"
     ]
    }
   ],
   "source": [
    "# make sure stratification is good\n",
    "print(train_df.Survived.value_counts() / len(train_df), '\\n')\n",
    "print(test_df.Survived.value_counts() / len(test_df))"
   ]
  },
  {
   "cell_type": "markdown",
   "metadata": {},
   "source": [
    "## Save Processed Data"
   ]
  },
  {
   "cell_type": "code",
   "execution_count": 79,
   "metadata": {},
   "outputs": [],
   "source": [
    "# define file paths\n",
    "processed_data_path = Path.cwd().parent / 'data' / 'processed'\n",
    "write_train_processed_path = processed_data_path / 'train_processed_cp.csv'\n",
    "write_test_processed_path = processed_data_path / 'test_processed_cp.csv'\n",
    "write_unlabeled_processed_path = processed_data_path / 'unlabeled_processed_cp.csv'"
   ]
  },
  {
   "cell_type": "code",
   "execution_count": 80,
   "metadata": {},
   "outputs": [],
   "source": [
    "# write files\n",
    "train_df.to_csv(write_train_processed_path)\n",
    "test_df.to_csv(write_test_processed_path)\n",
    "unlabeled_df.to_csv(write_unlabeled_processed_path)"
   ]
  },
  {
   "cell_type": "markdown",
   "metadata": {},
   "source": [
    "I should write a processing script like I did for the MNIST digit recognizer. I'll circle back and do that later, promise!"
   ]
  }
 ],
 "metadata": {
  "kernelspec": {
   "display_name": "Python 3",
   "language": "python",
   "name": "python3"
  },
  "language_info": {
   "codemirror_mode": {
    "name": "ipython",
    "version": 3
   },
   "file_extension": ".py",
   "mimetype": "text/x-python",
   "name": "python",
   "nbconvert_exporter": "python",
   "pygments_lexer": "ipython3",
   "version": "3.6.5"
  }
 },
 "nbformat": 4,
 "nbformat_minor": 2
}
