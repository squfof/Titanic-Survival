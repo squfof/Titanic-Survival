{
 "cells": [
  {
   "cell_type": "markdown",
   "metadata": {},
   "source": [
    "# Extracting the Titanic Disaster Data from Kaggle\n",
    "\n",
    "### Install python-dotenv package so we can use the .env file with our Kaggle credentials"
   ]
  },
  {
   "cell_type": "code",
   "execution_count": 1,
   "metadata": {},
   "outputs": [],
   "source": [
    "# uncomment and execute the following line if package not already installed\n",
    "#\n",
    "#!pip install python-dotenv"
   ]
  },
  {
   "cell_type": "markdown",
   "metadata": {},
   "source": [
    "### Import find and load functions from python-dotenv, then use to find the .env file and load environment variables"
   ]
  },
  {
   "cell_type": "code",
   "execution_count": 2,
   "metadata": {},
   "outputs": [
    {
     "data": {
      "text/plain": [
       "True"
      ]
     },
     "execution_count": 2,
     "metadata": {},
     "output_type": "execute_result"
    }
   ],
   "source": [
    "from dotenv import load_dotenv, find_dotenv\n",
    "\n",
    "# find .env automatically by walking up directories until found\n",
    "dotenv_path = find_dotenv()\n",
    "\n",
    "# load up the entries as environment variables; True means success\n",
    "load_dotenv(dotenv_path)"
   ]
  },
  {
   "cell_type": "markdown",
   "metadata": {},
   "source": [
    "### Check Kaggle credentials\n",
    "\n",
    "Obviously these are not my actual credentials; and even if they were, I wouldn't want to display them in this notebook. This is just a code snipet that you can use to check that everything is working correctly up to this point"
   ]
  },
  {
   "cell_type": "code",
   "execution_count": 3,
   "metadata": {},
   "outputs": [
    {
     "name": "stdout",
     "output_type": "stream",
     "text": [
      "username:  your_kaggle_username \n",
      "password:  your_kaggle_password\n"
     ]
    }
   ],
   "source": [
    "# load os package\n",
    "import os\n",
    "\n",
    "# get Kaggle credentials and print to screen\n",
    "KAGGLE_USERNAME = os.environ.get(\"KAGGLE_USERNAME\")\n",
    "KAGGLE_PASSWORD = os.environ.get(\"KAGGLE_PASSWORD\")\n",
    "print('username: ', KAGGLE_USERNAME, '\\npassword: ', KAGGLE_PASSWORD)"
   ]
  },
  {
   "cell_type": "markdown",
   "metadata": {},
   "source": [
    "# Download the training and test data from Kaggle\n",
    "\n",
    "### Load requests library"
   ]
  },
  {
   "cell_type": "code",
   "execution_count": 4,
   "metadata": {},
   "outputs": [],
   "source": [
    "# import useful stuff\n",
    "import requests\n",
    "from requests import session"
   ]
  },
  {
   "cell_type": "markdown",
   "metadata": {},
   "source": [
    "### Download train data and print to screen (DO NOT DO THIS)\n",
    "\n",
    "You probably don't want to print to the screen unless the data set is very small, WHICH IT IS NOT IN THIS CASE, so execute this block only if you are certain that's what you want to do."
   ]
  },
  {
   "cell_type": "code",
   "execution_count": 5,
   "metadata": {},
   "outputs": [],
   "source": [
    "# payload for post\n",
    "#payload = {\n",
    "#    'action' : 'login',\n",
    "#    'username' : os.environ.get(\"KAGGLE_USERNAME\"),\n",
    "#    'password' : os.environ.get(\"KAGGLE_PASSWORD\"),\n",
    "#    'rememberme' : 'false'\n",
    "#}\n",
    "\n",
    "# Kaggle URLS\n",
    "#loginURL = 'https://www.kaggle.com/account/login'\n",
    "#dataURL = 'https://www.kaggle.com/c/titanic/download/train.csv'\n",
    "\n",
    "#with session() as c:\n",
    "#    response = c.get(loginURL).text\n",
    "#    AFToken = response[response.index('antiForgeryToken')+19:response.index('isAnonymous: ')-12]\n",
    "#    print(\"AntiForgeryToken={}\".format(AFToken))\n",
    "#    payload['__RequestVerificationToken']=AFToken\n",
    "#    c.post(loginURL + \"?isModal=true&returnUrl=/\", data=payload)\n",
    "#    response = c.get(dataURL)\n",
    "#    print(response.text)"
   ]
  },
  {
   "cell_type": "markdown",
   "metadata": {},
   "source": [
    "### Script for downloading data from Kaggle"
   ]
  },
  {
   "cell_type": "code",
   "execution_count": 5,
   "metadata": {},
   "outputs": [],
   "source": [
    "# create path to the data subfolder of the src folder\n",
    "# script file name will be 'get_raw_data.py'\n",
    "get_raw_data_script_file = os.path.join(os.path.pardir, 'src', 'data', 'get_raw_data.py')"
   ]
  },
  {
   "cell_type": "markdown",
   "metadata": {},
   "source": [
    "In the next block, write and save the script for future use."
   ]
  },
  {
   "cell_type": "code",
   "execution_count": 6,
   "metadata": {},
   "outputs": [
    {
     "name": "stdout",
     "output_type": "stream",
     "text": [
      "Overwriting ../src/data/get_raw_data.py\n"
     ]
    }
   ],
   "source": [
    "%%writefile $get_raw_data_script_file\n",
    "# -*- coding: utf-8 -*-\n",
    "import os\n",
    "from dotenv import find_dotenv, load_dotenv\n",
    "from requests import session\n",
    "import logging # log intermediate steps that have been completed\n",
    "\n",
    "# payload for post\n",
    "payload = {\n",
    "    'action' : 'login',\n",
    "    'username' : os.environ.get(\"KAGGLE_USERNAME\"),\n",
    "    'password' : os.environ.get(\"KAGGLE_PASSWORD\"),\n",
    "    'rememberme' : 'false'\n",
    "}\n",
    "\n",
    "# download from url and store in file_path\n",
    "def extract_data(login_url, data_url, file_path):\n",
    "    with session() as c:\n",
    "        response = c.get(login_url).text\n",
    "        AFToken = response[response.index('antiForgeryToken')+19:response.index('isAnonymous: ')-12]\n",
    "        payload['__RequestVerificationToken']=AFToken\n",
    "        c.post(login_url + \"?isModal=true&returnUrl=/\", data=payload)\n",
    "        with open(file_path, 'wb') as handle:\n",
    "            # open url as a stream\n",
    "            response = c.get(data_url, stream = True)\n",
    "            # write each block to 1024 bytes\n",
    "            for block in response.iter_content(1024):\n",
    "                handle.write(block)\n",
    "                \n",
    "# main function, requires the project directory path\n",
    "def main(project_dir):\n",
    "    # get logger\n",
    "    logger = logging.getLogger(__name__)\n",
    "    logger.info('getting raw data')\n",
    "    \n",
    "    # URLs\n",
    "    loginURL = 'https://www.kaggle.com/account/login'\n",
    "    trainURL = 'https://www.kaggle.com/c/titanic/download/train.csv'\n",
    "    testURL = 'https://www.kaggle.com/c/titanic/download/test.csv'\n",
    "    \n",
    "    # file paths (local)\n",
    "    raw_data_path = os.path.join(os.path.pardir, 'data', 'raw')\n",
    "    train_data_path = os.path.join(raw_data_path, 'train.csv')\n",
    "    test_data_path = os.path.join(raw_data_path, 'test.csv')\n",
    "\n",
    "    # extract data\n",
    "    extract_data(loginURL, trainURL, train_data_path)\n",
    "    extract_data(loginURL, testURL, test_data_path)\n",
    "    logger.info('downloaded raw training and test data')\n",
    "    \n",
    "if __name__ == '__main__':\n",
    "    # getting script file name and append parent directory twice\n",
    "    # helps to move two levels up since path is /titanic_survival/src/data\n",
    "    project_dir = os.path.join(os.path.dirname(__file__), os.pardir, os.pardir)\n",
    "    \n",
    "    # set up logger\n",
    "    log_fmt = '%(asctime)s - %(name)s - %(levelname)s - %(message)s'\n",
    "    logging.basicConfig(level = logging.INFO, format = log_fmt)\n",
    "    \n",
    "    # find .env automatically by walking up directories until found\n",
    "    dotenv_path = find_dotenv()\n",
    "    \n",
    "    # load up the entries as environment variables\n",
    "    load_dotenv(dotenv_path)\n",
    "    \n",
    "    # call main function\n",
    "    main(project_dir)"
   ]
  },
  {
   "cell_type": "markdown",
   "metadata": {},
   "source": [
    "Run the script"
   ]
  },
  {
   "cell_type": "code",
   "execution_count": 8,
   "metadata": {},
   "outputs": [
    {
     "name": "stdout",
     "output_type": "stream",
     "text": [
      "2018-08-08 16:28:22,186 - __main__ - INFO - getting raw data\n",
      "2018-08-08 16:28:29,797 - __main__ - INFO - downloaded raw training and test data\n"
     ]
    }
   ],
   "source": [
    "!python $get_raw_data_script_file"
   ]
  }
 ],
 "metadata": {
  "kernelspec": {
   "display_name": "Python 3",
   "language": "python",
   "name": "python3"
  },
  "language_info": {
   "codemirror_mode": {
    "name": "ipython",
    "version": 3
   },
   "file_extension": ".py",
   "mimetype": "text/x-python",
   "name": "python",
   "nbconvert_exporter": "python",
   "pygments_lexer": "ipython3",
   "version": "3.6.5"
  }
 },
 "nbformat": 4,
 "nbformat_minor": 2
}
