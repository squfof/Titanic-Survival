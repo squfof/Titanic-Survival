{
 "cells": [
  {
   "cell_type": "markdown",
   "metadata": {},
   "source": [
    "# Build Logistic Regression Models\n",
    "\n",
    "## Import Processed Data"
   ]
  },
  {
   "cell_type": "code",
   "execution_count": 1,
   "metadata": {},
   "outputs": [],
   "source": [
    "import pandas as pd\n",
    "from pathlib import Path\n",
    "import numpy as np\n",
    "import matplotlib.pyplot as plt\n",
    "%matplotlib inline\n",
    "from sklearn.externals import joblib\n",
    "from sklearn.linear_model import LogisticRegression\n",
    "from sklearn.model_selection import cross_val_score\n",
    "from sklearn.model_selection import GridSearchCV\n",
    "from sklearn.metrics import confusion_matrix, precision_score, recall_score, f1_score, roc_auc_score"
   ]
  },
  {
   "cell_type": "code",
   "execution_count": 2,
   "metadata": {},
   "outputs": [],
   "source": [
    "# set path of the processed data\n",
    "processed_data_path = Path.cwd().parent / 'data' / 'processed'\n",
    "train_processed_file_path = processed_data_path /'train_processed_cp.csv'\n",
    "test_processed_file_path = processed_data_path / 'test_processed_cp.csv'\n",
    "unlabeled_processed_file_path = processed_data_path / 'unlabeled_processed_cp.csv'\n",
    "\n",
    "# create data frames for train, test, and unlabled data\n",
    "train_df = pd.read_csv(train_processed_file_path, index_col = 'PassengerId')\n",
    "test_df = pd.read_csv(test_processed_file_path, index_col = 'PassengerId')\n",
    "unlabeled_df = pd.read_csv(unlabeled_processed_file_path, index_col = 'PassengerId')"
   ]
  },
  {
   "cell_type": "code",
   "execution_count": 3,
   "metadata": {},
   "outputs": [],
   "source": [
    "# in the train and test data, X contains all the columns except Survived\n",
    "# y is Survived\n",
    "X_train = train_df.drop(['Survived'], axis = 1)\n",
    "y_train = train_df['Survived']\n",
    "X_test = test_df.drop(['Survived'], axis = 1)\n",
    "y_test = test_df['Survived']"
   ]
  },
  {
   "cell_type": "markdown",
   "metadata": {},
   "source": [
    "## Default Logistic Regression"
   ]
  },
  {
   "cell_type": "code",
   "execution_count": 4,
   "metadata": {},
   "outputs": [
    {
     "name": "stdout",
     "output_type": "stream",
     "text": [
      "CV F1 mean: 0.735715\n",
      "CV F1 std: 0.068608\n",
      "CV F1 scores: [0.74074074 0.60215054 0.77310924 0.77358491 0.78899083]\n"
     ]
    }
   ],
   "source": [
    "# use 5-fold CV to evaluate accuracy with train data\n",
    "model = LogisticRegression(random_state = 42)\n",
    "scores = cross_val_score(model, X_train, y_train, cv = 5, scoring = 'f1')\n",
    "\n",
    "print('CV F1 mean: ' + '{0:2f}'.format(scores.mean()))\n",
    "print('CV F1 std: ' + '{0:2f}'.format(scores.std()))\n",
    "print('CV F1 scores:', scores)"
   ]
  },
  {
   "cell_type": "markdown",
   "metadata": {},
   "source": [
    "## Tuned Logistic Regression with l1 penalty"
   ]
  },
  {
   "cell_type": "code",
   "execution_count": 5,
   "metadata": {},
   "outputs": [
    {
     "name": "stdout",
     "output_type": "stream",
     "text": [
      "{'C': 2, 'solver': 'liblinear'} \n",
      "\n",
      "0.7397726712469749\n"
     ]
    }
   ],
   "source": [
    "import warnings\n",
    "warnings.simplefilter(\"ignore\", UserWarning)\n",
    "\n",
    "# define the parameter values that will be considered\n",
    "C_vals = [2**i for i in range(-10,5)]\n",
    "solvers = ['liblinear', 'saga']\n",
    "params = {'C' : C_vals,\n",
    "          'solver' : solvers}\n",
    "\n",
    "# used to evaluate all possible combinations with 5-fold cross-validation\n",
    "grid_search = GridSearchCV(LogisticRegression(random_state = 42, \n",
    "                                              penalty = 'l1',\n",
    "                                              max_iter = 500),\n",
    "                           param_grid = params,\n",
    "                           cv = 5,\n",
    "                           scoring = 'f1',\n",
    "                           refit = True,\n",
    "                           return_train_score = True)\n",
    "\n",
    "# fit\n",
    "grid_search.fit(X_train, y_train)\n",
    "\n",
    "# return the optimal combo of parameters and its score\n",
    "print(grid_search.best_params_, '\\n')\n",
    "print(grid_search.best_score_)"
   ]
  },
  {
   "cell_type": "code",
   "execution_count": 6,
   "metadata": {},
   "outputs": [
    {
     "data": {
      "text/html": [
       "<div>\n",
       "<style scoped>\n",
       "    .dataframe tbody tr th:only-of-type {\n",
       "        vertical-align: middle;\n",
       "    }\n",
       "\n",
       "    .dataframe tbody tr th {\n",
       "        vertical-align: top;\n",
       "    }\n",
       "\n",
       "    .dataframe thead th {\n",
       "        text-align: right;\n",
       "    }\n",
       "</style>\n",
       "<table border=\"1\" class=\"dataframe\">\n",
       "  <thead>\n",
       "    <tr style=\"text-align: right;\">\n",
       "      <th></th>\n",
       "      <th>coefficients</th>\n",
       "    </tr>\n",
       "  </thead>\n",
       "  <tbody>\n",
       "    <tr>\n",
       "      <th>Sex_Female</th>\n",
       "      <td>2.619053</td>\n",
       "    </tr>\n",
       "    <tr>\n",
       "      <th>Helpless</th>\n",
       "      <td>1.488652</td>\n",
       "    </tr>\n",
       "    <tr>\n",
       "      <th>Deck_Advantage</th>\n",
       "      <td>1.058105</td>\n",
       "    </tr>\n",
       "    <tr>\n",
       "      <th>Fare_Bin_0</th>\n",
       "      <td>0.600881</td>\n",
       "    </tr>\n",
       "    <tr>\n",
       "      <th>Embarked_C</th>\n",
       "      <td>0.461549</td>\n",
       "    </tr>\n",
       "    <tr>\n",
       "      <th>Small_Support</th>\n",
       "      <td>0.460161</td>\n",
       "    </tr>\n",
       "    <tr>\n",
       "      <th>Pclass_1</th>\n",
       "      <td>0.291692</td>\n",
       "    </tr>\n",
       "    <tr>\n",
       "      <th>Fare_Bin_2</th>\n",
       "      <td>0.029346</td>\n",
       "    </tr>\n",
       "    <tr>\n",
       "      <th>Pclass_3</th>\n",
       "      <td>-1.197865</td>\n",
       "    </tr>\n",
       "  </tbody>\n",
       "</table>\n",
       "</div>"
      ],
      "text/plain": [
       "                coefficients\n",
       "Sex_Female          2.619053\n",
       "Helpless            1.488652\n",
       "Deck_Advantage      1.058105\n",
       "Fare_Bin_0          0.600881\n",
       "Embarked_C          0.461549\n",
       "Small_Support       0.460161\n",
       "Pclass_1            0.291692\n",
       "Fare_Bin_2          0.029346\n",
       "Pclass_3           -1.197865"
      ]
     },
     "execution_count": 6,
     "metadata": {},
     "output_type": "execute_result"
    }
   ],
   "source": [
    "# feature importances (coefficients)\n",
    "fi = pd.DataFrame(grid_search.best_estimator_.coef_[0],\n",
    "                  index = X_train.columns,\n",
    "                  columns = ['coefficients'])\n",
    "fi.sort_values('coefficients', ascending = False)"
   ]
  },
  {
   "cell_type": "code",
   "execution_count": 7,
   "metadata": {},
   "outputs": [],
   "source": [
    "# see if we can do better with fewer features\n",
    "from sklearn.feature_selection import RFECV\n",
    "\n",
    "selector = RFECV(grid_search.best_estimator_,\n",
    "                 step = 1,\n",
    "                 cv = 5,\n",
    "                 scoring = 'f1').fit(X_train, y_train)"
   ]
  },
  {
   "cell_type": "code",
   "execution_count": 8,
   "metadata": {},
   "outputs": [
    {
     "data": {
      "text/plain": [
       "array([ True,  True,  True,  True,  True,  True,  True,  True,  True])"
      ]
     },
     "execution_count": 8,
     "metadata": {},
     "output_type": "execute_result"
    }
   ],
   "source": [
    "selector.support_"
   ]
  },
  {
   "cell_type": "code",
   "execution_count": 9,
   "metadata": {},
   "outputs": [
    {
     "name": "stdout",
     "output_type": "stream",
     "text": [
      "CV F1 mean: 0.739938\n",
      "CV F1 std: 0.056530\n",
      "CV F1 scores: [0.74074074 0.63043478 0.77310924 0.77358491 0.78181818]\n"
     ]
    }
   ],
   "source": [
    "# apparently no need to drop columns...\n",
    "\n",
    "# use 5-fold CV to evaluate accuracy with train data\n",
    "model = LogisticRegression(random_state = 42,\n",
    "                           C = 2,\n",
    "                           solver = 'liblinear',\n",
    "                           penalty = 'l1',\n",
    "                           max_iter = 500)\n",
    "scores = cross_val_score(model, X_train, y_train, cv = 5, scoring = 'f1')\n",
    "\n",
    "print('CV F1 mean: ' + '{0:2f}'.format(scores.mean()))\n",
    "print('CV F1 std: ' + '{0:2f}'.format(scores.std()))\n",
    "print('CV F1 scores:', scores)"
   ]
  },
  {
   "cell_type": "markdown",
   "metadata": {},
   "source": [
    "## Tuned Logistic Regression with l2 penalty"
   ]
  },
  {
   "cell_type": "code",
   "execution_count": 10,
   "metadata": {},
   "outputs": [
    {
     "name": "stdout",
     "output_type": "stream",
     "text": [
      "{'C': 0.5, 'solver': 'newton-cg'} \n",
      "\n",
      "0.7437269739574714\n"
     ]
    }
   ],
   "source": [
    "# define the parameter values that will be considered\n",
    "C_vals = [2**i for i in range(-10,5)]\n",
    "solvers = ['newton-cg', 'lbfgs', 'liblinear', 'sag', 'saga']\n",
    "params = {'C' : C_vals,\n",
    "          'solver' : solvers}\n",
    "\n",
    "# used to evaluate all possible combinations with 5-fold cross-validation\n",
    "grid_search = GridSearchCV(LogisticRegression(random_state = 42, \n",
    "                                              penalty = 'l2',\n",
    "                                              max_iter = 500),\n",
    "                           param_grid = params,\n",
    "                           cv = 5,\n",
    "                           scoring = 'f1',\n",
    "                           refit = True,\n",
    "                           return_train_score = True)\n",
    "\n",
    "# fit\n",
    "grid_search.fit(X_train, y_train)\n",
    "\n",
    "# return the optimal combo of parameters and its score\n",
    "print(grid_search.best_params_, '\\n')\n",
    "print(grid_search.best_score_)"
   ]
  },
  {
   "cell_type": "code",
   "execution_count": 11,
   "metadata": {},
   "outputs": [
    {
     "data": {
      "text/html": [
       "<div>\n",
       "<style scoped>\n",
       "    .dataframe tbody tr th:only-of-type {\n",
       "        vertical-align: middle;\n",
       "    }\n",
       "\n",
       "    .dataframe tbody tr th {\n",
       "        vertical-align: top;\n",
       "    }\n",
       "\n",
       "    .dataframe thead th {\n",
       "        text-align: right;\n",
       "    }\n",
       "</style>\n",
       "<table border=\"1\" class=\"dataframe\">\n",
       "  <thead>\n",
       "    <tr style=\"text-align: right;\">\n",
       "      <th></th>\n",
       "      <th>coefficients</th>\n",
       "    </tr>\n",
       "  </thead>\n",
       "  <tbody>\n",
       "    <tr>\n",
       "      <th>Sex_Female</th>\n",
       "      <td>2.379415</td>\n",
       "    </tr>\n",
       "    <tr>\n",
       "      <th>Helpless</th>\n",
       "      <td>1.132742</td>\n",
       "    </tr>\n",
       "    <tr>\n",
       "      <th>Deck_Advantage</th>\n",
       "      <td>0.935379</td>\n",
       "    </tr>\n",
       "    <tr>\n",
       "      <th>Small_Support</th>\n",
       "      <td>0.487240</td>\n",
       "    </tr>\n",
       "    <tr>\n",
       "      <th>Fare_Bin_0</th>\n",
       "      <td>0.411855</td>\n",
       "    </tr>\n",
       "    <tr>\n",
       "      <th>Embarked_C</th>\n",
       "      <td>0.410537</td>\n",
       "    </tr>\n",
       "    <tr>\n",
       "      <th>Pclass_1</th>\n",
       "      <td>0.334868</td>\n",
       "    </tr>\n",
       "    <tr>\n",
       "      <th>Fare_Bin_2</th>\n",
       "      <td>0.094040</td>\n",
       "    </tr>\n",
       "    <tr>\n",
       "      <th>Pclass_3</th>\n",
       "      <td>-0.958081</td>\n",
       "    </tr>\n",
       "  </tbody>\n",
       "</table>\n",
       "</div>"
      ],
      "text/plain": [
       "                coefficients\n",
       "Sex_Female          2.379415\n",
       "Helpless            1.132742\n",
       "Deck_Advantage      0.935379\n",
       "Small_Support       0.487240\n",
       "Fare_Bin_0          0.411855\n",
       "Embarked_C          0.410537\n",
       "Pclass_1            0.334868\n",
       "Fare_Bin_2          0.094040\n",
       "Pclass_3           -0.958081"
      ]
     },
     "execution_count": 11,
     "metadata": {},
     "output_type": "execute_result"
    }
   ],
   "source": [
    "# feature importances\n",
    "fi = pd.DataFrame(grid_search.best_estimator_.coef_[0],\n",
    "                  index = X_train.columns,\n",
    "                  columns = ['coefficients'])\n",
    "fi.sort_values('coefficients', ascending = False)"
   ]
  },
  {
   "cell_type": "code",
   "execution_count": 12,
   "metadata": {},
   "outputs": [],
   "source": [
    "# see if we can do better with fewer features\n",
    "from sklearn.feature_selection import RFECV\n",
    "\n",
    "selector = RFECV(grid_search.best_estimator_,\n",
    "                 step = 1,\n",
    "                 cv = 5,\n",
    "                 scoring = 'f1').fit(X_train, y_train)"
   ]
  },
  {
   "cell_type": "code",
   "execution_count": 13,
   "metadata": {},
   "outputs": [
    {
     "data": {
      "text/plain": [
       "array([ True,  True,  True,  True,  True,  True,  True,  True,  True])"
      ]
     },
     "execution_count": 13,
     "metadata": {},
     "output_type": "execute_result"
    }
   ],
   "source": [
    "selector.support_"
   ]
  },
  {
   "cell_type": "code",
   "execution_count": 14,
   "metadata": {},
   "outputs": [
    {
     "name": "stdout",
     "output_type": "stream",
     "text": [
      "CV F1 mean: 0.743917\n",
      "CV F1 std: 0.062024\n",
      "CV F1 scores: [0.74074074 0.625      0.77586207 0.78899083 0.78899083]\n"
     ]
    }
   ],
   "source": [
    "# apparently we don't need to drop any columns...\n",
    "\n",
    "# use 5-fold CV to evaluate accuracy with train data\n",
    "model = LogisticRegression(random_state = 42,\n",
    "                           C = 0.5,\n",
    "                           solver = 'newton-cg',\n",
    "                           penalty = 'l2',\n",
    "                           max_iter = 500)\n",
    "scores = cross_val_score(model, X_train, y_train, cv = 5, scoring = 'f1')\n",
    "\n",
    "print('CV F1 mean: ' + '{0:2f}'.format(scores.mean()))\n",
    "print('CV F1 std: ' + '{0:2f}'.format(scores.std()))\n",
    "print('CV F1 scores:', scores)"
   ]
  },
  {
   "cell_type": "markdown",
   "metadata": {},
   "source": [
    "## Kaggle Score: 0.77033\n",
    "\n",
    "Before we \"go live\" with this model (that is, submit its predictions to Kaggle), let's check how it performs on the test data, data that it has never seen and had no influence on its selection:"
   ]
  },
  {
   "cell_type": "code",
   "execution_count": 15,
   "metadata": {},
   "outputs": [
    {
     "name": "stdout",
     "output_type": "stream",
     "text": [
      "Tuned LogReg Accuracy: 0.782123\n"
     ]
    }
   ],
   "source": [
    "# fit model to entire train set\n",
    "model = LogisticRegression(random_state = 42,\n",
    "                           C = 0.5,\n",
    "                           solver = 'newton-cg',\n",
    "                           penalty = 'l2',\n",
    "                           max_iter = 500).fit(X_train, y_train)\n",
    "\n",
    "# evaluate accuracy on test set\n",
    "print('Tuned LogReg Accuracy: ' + '{0:2f}'.format(model.score(X_test, y_test)))"
   ]
  },
  {
   "cell_type": "code",
   "execution_count": 16,
   "metadata": {},
   "outputs": [],
   "source": [
    "# generate predictions\n",
    "predictions = model.predict(unlabeled_df)\n",
    "\n",
    "# create a new data frame with two columns: PassengerId and our predicted values for Survived\n",
    "submission_df = pd.DataFrame({'PassengerId' : unlabeled_df.index, 'Survived' : predictions})\n",
    "\n",
    "# write submission to disk...\n",
    "# first define path\n",
    "submission_file_path = Path.cwd().parent / 'data' / 'external' / 'logreg_cp.csv'\n",
    "\n",
    "# create the .csv file\n",
    "# index is False since we don't want a third column\n",
    "submission_df.to_csv(submission_file_path, index = False)"
   ]
  },
  {
   "cell_type": "markdown",
   "metadata": {},
   "source": [
    "## Model Persistence"
   ]
  },
  {
   "cell_type": "code",
   "execution_count": 17,
   "metadata": {},
   "outputs": [],
   "source": [
    "# create file path\n",
    "model_file_path = Path.cwd().parent / 'models' / 'logreg_cp_model.pkl'\n",
    "\n",
    "# persist the model\n",
    "joblib.dump(model, model_file_path);"
   ]
  },
  {
   "cell_type": "markdown",
   "metadata": {},
   "source": [
    "#### Optional: Check the persisted model"
   ]
  },
  {
   "cell_type": "code",
   "execution_count": 18,
   "metadata": {},
   "outputs": [],
   "source": [
    "# create file paths\n",
    "model_file_path = Path.cwd().parent / 'models' / 'logreg_cp_model.pkl'\n",
    "\n",
    "# load\n",
    "model_loaded = joblib.load(model_file_path)"
   ]
  },
  {
   "cell_type": "code",
   "execution_count": 19,
   "metadata": {},
   "outputs": [
    {
     "data": {
      "text/plain": [
       "LogisticRegression(C=0.5, class_weight=None, dual=False, fit_intercept=True,\n",
       "          intercept_scaling=1, max_iter=500, multi_class='ovr', n_jobs=1,\n",
       "          penalty='l2', random_state=42, solver='newton-cg', tol=0.0001,\n",
       "          verbose=0, warm_start=False)"
      ]
     },
     "execution_count": 19,
     "metadata": {},
     "output_type": "execute_result"
    }
   ],
   "source": [
    "# print the model object description\n",
    "model_loaded"
   ]
  },
  {
   "cell_type": "code",
   "execution_count": 20,
   "metadata": {},
   "outputs": [
    {
     "name": "stdout",
     "output_type": "stream",
     "text": [
      "Persisted LogReg Accuracy: 0.782123\n"
     ]
    }
   ],
   "source": [
    "# calculate the score using the loaded model object\n",
    "# we should get 0.782123, as above\n",
    "print('Persisted LogReg Accuracy: ' + '{0:2f}'.format(model_loaded.score(X_test, y_test)))"
   ]
  },
  {
   "cell_type": "markdown",
   "metadata": {},
   "source": [
    "## Error Analysis"
   ]
  },
  {
   "cell_type": "code",
   "execution_count": 21,
   "metadata": {},
   "outputs": [],
   "source": [
    "# imports\n",
    "from sklearn.model_selection import cross_val_predict"
   ]
  },
  {
   "cell_type": "code",
   "execution_count": 22,
   "metadata": {},
   "outputs": [],
   "source": [
    "# instead of scoring, get the cross-validated estimates for each image\n",
    "y_train_pred = cross_val_predict(model, X_train, y_train, cv = 5)"
   ]
  },
  {
   "cell_type": "code",
   "execution_count": 23,
   "metadata": {},
   "outputs": [
    {
     "name": "stdout",
     "output_type": "stream",
     "text": [
      "[[375  64]\n",
      " [ 72 201]]\n",
      "Precision score:  0.7584905660377359\n",
      "Recall score:  0.7362637362637363\n",
      "F1 score:  0.7472118959107807\n",
      "Area under the ROC curve:  0.7952389296352851\n"
     ]
    }
   ],
   "source": [
    "# now let's take a look at the confusion matrix to see\n",
    "# which actual labels (rows) do not match the predicted label (columns)\n",
    "from sklearn.metrics import confusion_matrix, precision_score, recall_score, f1_score, roc_auc_score\n",
    "\n",
    "conf_mx = confusion_matrix(y_train, y_train_pred)\n",
    "print(np.matrix(conf_mx))\n",
    "print('Precision score: ', precision_score(y_train, y_train_pred))\n",
    "print('Recall score: ', recall_score(y_train, y_train_pred))\n",
    "print('F1 score: ', f1_score(y_train, y_train_pred))\n",
    "print('Area under the ROC curve: ', roc_auc_score(y_train, y_train_pred))"
   ]
  },
  {
   "cell_type": "code",
   "execution_count": 24,
   "metadata": {},
   "outputs": [],
   "source": [
    "# I forget where I found this but it produces beautiful learning curves!\n",
    "\n",
    "from sklearn.model_selection import ShuffleSplit\n",
    "from sklearn.model_selection import learning_curve\n",
    "\n",
    "def plot_learning_curve(estimator, title, X, y, ylim=None, cv=None,\n",
    "                        n_jobs=1, train_sizes=np.linspace(.1, 1.0, 5)):\n",
    "    \"\"\"\n",
    "    Generate a simple plot of the test and training learning curve.\n",
    "\n",
    "    Parameters\n",
    "    ----------\n",
    "    estimator : object type that implements the \"fit\" and \"predict\" methods\n",
    "        An object of that type which is cloned for each validation.\n",
    "\n",
    "    title : string\n",
    "        Title for the chart.\n",
    "\n",
    "    X : array-like, shape (n_samples, n_features)\n",
    "        Training vector, where n_samples is the number of samples and\n",
    "        n_features is the number of features.\n",
    "\n",
    "    y : array-like, shape (n_samples) or (n_samples, n_features), optional\n",
    "        Target relative to X for classification or regression;\n",
    "        None for unsupervised learning.\n",
    "\n",
    "    ylim : tuple, shape (ymin, ymax), optional\n",
    "        Defines minimum and maximum yvalues plotted.\n",
    "\n",
    "    cv : int, cross-validation generator or an iterable, optional\n",
    "        Determines the cross-validation splitting strategy.\n",
    "        Possible inputs for cv are:\n",
    "          - None, to use the default 3-fold cross-validation,\n",
    "          - integer, to specify the number of folds.\n",
    "          - An object to be used as a cross-validation generator.\n",
    "          - An iterable yielding train/test splits.\n",
    "\n",
    "        For integer/None inputs, if ``y`` is binary or multiclass,\n",
    "        :class:`StratifiedKFold` used. If the estimator is not a classifier\n",
    "        or if ``y`` is neither binary nor multiclass, :class:`KFold` is used.\n",
    "\n",
    "        Refer :ref:`User Guide <cross_validation>` for the various\n",
    "        cross-validators that can be used here.\n",
    "\n",
    "    n_jobs : integer, optional\n",
    "        Number of jobs to run in parallel (default 1).\n",
    "    \"\"\"\n",
    "    plt.figure()\n",
    "    plt.title(title)\n",
    "    if ylim is not None:\n",
    "        plt.ylim(*ylim)\n",
    "    plt.xlabel(\"Training examples\")\n",
    "    plt.ylabel(\"Score\")\n",
    "    train_sizes, train_scores, test_scores = learning_curve(\n",
    "        estimator, X, y, cv=cv, n_jobs=n_jobs, train_sizes=train_sizes)\n",
    "    train_scores_mean = np.mean(train_scores, axis=1)\n",
    "    train_scores_std = np.std(train_scores, axis=1)\n",
    "    test_scores_mean = np.mean(test_scores, axis=1)\n",
    "    test_scores_std = np.std(test_scores, axis=1)\n",
    "    plt.grid()\n",
    "\n",
    "    plt.fill_between(train_sizes, train_scores_mean - train_scores_std,\n",
    "                     train_scores_mean + train_scores_std, alpha=0.1,\n",
    "                     color=\"r\")\n",
    "    plt.fill_between(train_sizes, test_scores_mean - test_scores_std,\n",
    "                     test_scores_mean + test_scores_std, alpha=0.1, color=\"g\")\n",
    "    plt.plot(train_sizes, train_scores_mean, 'o-', color=\"r\",\n",
    "             label=\"Training score\")\n",
    "    plt.plot(train_sizes, test_scores_mean, 'o-', color=\"g\",\n",
    "             label=\"Cross-validation score\")\n",
    "\n",
    "    plt.legend(loc=\"best\")\n",
    "    return plt"
   ]
  },
  {
   "cell_type": "code",
   "execution_count": 25,
   "metadata": {},
   "outputs": [
    {
     "data": {
      "image/png": "[encoded data removed]",
      "text/plain": [
       "<Figure size 432x288 with 1 Axes>"
      ]
     },
     "metadata": {},
     "output_type": "display_data"
    }
   ],
   "source": [
    "title = \"Learning Curves (LogReg)\"\n",
    "cv = ShuffleSplit(n_splits = 100, test_size = 0.2, random_state = 42)\n",
    "plot_learning_curve(model, title, X_train, y_train, ylim = (0.7, 1.0), cv = cv, n_jobs = -1);"
   ]
  }
 ],
 "metadata": {
  "kernelspec": {
   "display_name": "Python 3",
   "language": "python",
   "name": "python3"
  },
  "language_info": {
   "codemirror_mode": {
    "name": "ipython",
    "version": 3
   },
   "file_extension": ".py",
   "mimetype": "text/x-python",
   "name": "python",
   "nbconvert_exporter": "python",
   "pygments_lexer": "ipython3",
   "version": "3.6.5"
  }
 },
 "nbformat": 4,
 "nbformat_minor": 2
}
