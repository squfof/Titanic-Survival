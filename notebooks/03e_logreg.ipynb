{
 "cells": [
  {
   "cell_type": "markdown",
   "metadata": {},
   "source": [
    "# Build Logistic Regression Models\n",
    "\n",
    "## Import Processed Data"
   ]
  },
  {
   "cell_type": "code",
   "execution_count": 1,
   "metadata": {},
   "outputs": [],
   "source": [
    "import pandas as pd\n",
    "from pathlib import Path\n",
    "import numpy as np\n",
    "import matplotlib.pyplot as plt\n",
    "%matplotlib inline\n",
    "from sklearn.externals import joblib\n",
    "from sklearn.linear_model import LogisticRegression\n",
    "from sklearn.model_selection import cross_val_score\n",
    "from sklearn.model_selection import GridSearchCV"
   ]
  },
  {
   "cell_type": "code",
   "execution_count": 2,
   "metadata": {},
   "outputs": [],
   "source": [
    "# set path of the processed data\n",
    "processed_data_path = Path.cwd().parent / 'data' / 'processed'\n",
    "train_processed_file_path = processed_data_path /'train_processed.csv'\n",
    "test_processed_file_path = processed_data_path / 'test_processed.csv'\n",
    "unlabeled_processed_file_path = processed_data_path / 'unlabeled_processed.csv'\n",
    "\n",
    "# create data frames for train, test, and unlabled data\n",
    "train_df = pd.read_csv(train_processed_file_path, index_col = 'PassengerId')\n",
    "test_df = pd.read_csv(test_processed_file_path, index_col = 'PassengerId')\n",
    "unlabeled_df = pd.read_csv(unlabeled_processed_file_path, index_col = 'PassengerId')"
   ]
  },
  {
   "cell_type": "code",
   "execution_count": 3,
   "metadata": {},
   "outputs": [],
   "source": [
    "# in the train and test data, X contains all the columns except Survived\n",
    "# y is Survived\n",
    "X_train = train_df.drop(['Survived'], axis = 1)\n",
    "y_train = train_df['Survived']\n",
    "X_test = test_df.drop(['Survived'], axis = 1)\n",
    "y_test = test_df['Survived']"
   ]
  },
  {
   "cell_type": "markdown",
   "metadata": {},
   "source": [
    "## Default Logistic Regression"
   ]
  },
  {
   "cell_type": "code",
   "execution_count": 4,
   "metadata": {},
   "outputs": [
    {
     "name": "stdout",
     "output_type": "stream",
     "text": [
      "CV accuracty mean: 0.815952\n",
      "CV accuracty std: 0.020610\n",
      "CV scores: [0.8041958  0.81118881 0.84615385 0.83098592 0.78723404]\n"
     ]
    }
   ],
   "source": [
    "# use 5-fold CV to evaluate accuracy with train data\n",
    "model = LogisticRegression(random_state = 42)\n",
    "scores = cross_val_score(model, X_train, y_train, cv = 5)\n",
    "\n",
    "print('CV accuracty mean: ' + '{0:2f}'.format(scores.mean()))\n",
    "print('CV accuracty std: ' + '{0:2f}'.format(scores.std()))\n",
    "print('CV scores:', scores)"
   ]
  },
  {
   "cell_type": "markdown",
   "metadata": {},
   "source": [
    "## Tuned Logistic Regression with l1 penalty"
   ]
  },
  {
   "cell_type": "code",
   "execution_count": 5,
   "metadata": {},
   "outputs": [
    {
     "name": "stdout",
     "output_type": "stream",
     "text": [
      "{'C': 1, 'solver': 'saga'} \n",
      "\n",
      "0.8160112359550562\n"
     ]
    }
   ],
   "source": [
    "# define the parameter values that will be considered\n",
    "C_vals = [2**i for i in range(-10,5)]\n",
    "solvers = ['liblinear', 'saga']\n",
    "params = {'C' : C_vals,\n",
    "          'solver' : solvers}\n",
    "\n",
    "# used to evaluate all possible combinations with 5-fold cross-validation\n",
    "grid_search = GridSearchCV(LogisticRegression(random_state = 42, \n",
    "                                              penalty = 'l1',\n",
    "                                              max_iter = 300),\n",
    "                           param_grid = params,\n",
    "                           cv = 5,\n",
    "                           refit = True,\n",
    "                           return_train_score = True)\n",
    "\n",
    "# fit\n",
    "grid_search.fit(X_train, y_train)\n",
    "\n",
    "# return the optimal combo of parameters and its score\n",
    "print(grid_search.best_params_, '\\n')\n",
    "print(grid_search.best_score_)"
   ]
  },
  {
   "cell_type": "code",
   "execution_count": 6,
   "metadata": {},
   "outputs": [
    {
     "name": "stdout",
     "output_type": "stream",
     "text": [
      "CV accuracty mean: 0.815952\n",
      "CV accuracty std: 0.026140\n",
      "CV scores: [0.7972028  0.81118881 0.84615385 0.84507042 0.78014184]\n"
     ]
    }
   ],
   "source": [
    "# use 5-fold CV to evaluate accuracy with train data\n",
    "model = LogisticRegression(random_state = 42,\n",
    "                           C = 1,\n",
    "                           solver = 'saga',\n",
    "                           penalty = 'l1',\n",
    "                           max_iter = 300)\n",
    "scores = cross_val_score(model, X_train, y_train, cv = 5)\n",
    "\n",
    "print('CV accuracty mean: ' + '{0:2f}'.format(scores.mean()))\n",
    "print('CV accuracty std: ' + '{0:2f}'.format(scores.std()))\n",
    "print('CV scores:', scores)"
   ]
  },
  {
   "cell_type": "markdown",
   "metadata": {},
   "source": [
    "## Tuned Logistic Regression with l2 penalty"
   ]
  },
  {
   "cell_type": "code",
   "execution_count": 7,
   "metadata": {},
   "outputs": [
    {
     "name": "stdout",
     "output_type": "stream",
     "text": [
      "{'C': 2, 'solver': 'newton-cg'} \n",
      "\n",
      "0.8202247191011236\n"
     ]
    }
   ],
   "source": [
    "# define the parameter values that will be considered\n",
    "C_vals = [2**i for i in range(-10,5)]\n",
    "solvers = ['newton-cg', 'lbfgs', 'liblinear', 'sag', 'saga']\n",
    "params = {'C' : C_vals,\n",
    "          'solver' : solvers}\n",
    "\n",
    "# used to evaluate all possible combinations with 5-fold cross-validation\n",
    "grid_search = GridSearchCV(LogisticRegression(random_state = 42, \n",
    "                                              penalty = 'l2',\n",
    "                                              max_iter = 300),\n",
    "                           param_grid = params,\n",
    "                           cv = 5,\n",
    "                           refit = True,\n",
    "                           return_train_score = True)\n",
    "\n",
    "# fit\n",
    "grid_search.fit(X_train, y_train)\n",
    "\n",
    "# return the optimal combo of parameters and its score\n",
    "print(grid_search.best_params_, '\\n')\n",
    "print(grid_search.best_score_)"
   ]
  },
  {
   "cell_type": "code",
   "execution_count": 8,
   "metadata": {},
   "outputs": [
    {
     "name": "stdout",
     "output_type": "stream",
     "text": [
      "CV accuracty mean: 0.820207\n",
      "CV accuracty std: 0.016581\n",
      "CV scores: [0.8041958  0.81818182 0.83216783 0.84507042 0.80141844]\n"
     ]
    }
   ],
   "source": [
    "# use 5-fold CV to evaluate accuracy with train data\n",
    "model = LogisticRegression(random_state = 42,\n",
    "                           C = 2,\n",
    "                           solver = 'newton-cg',\n",
    "                           penalty = 'l2',\n",
    "                           max_iter = 300)\n",
    "scores = cross_val_score(model, X_train, y_train, cv = 5)\n",
    "\n",
    "print('CV accuracty mean: ' + '{0:2f}'.format(scores.mean()))\n",
    "print('CV accuracty std: ' + '{0:2f}'.format(scores.std()))\n",
    "print('CV scores:', scores)"
   ]
  },
  {
   "cell_type": "markdown",
   "metadata": {},
   "source": [
    "## Kaggle Score: 0.77033\n",
    "\n",
    "Before we \"go live\" with this model (that is, submit its predictions to Kaggle), let's check how it performs on the test data, data that it has never seen and had no influence on its selection:"
   ]
  },
  {
   "cell_type": "code",
   "execution_count": 9,
   "metadata": {},
   "outputs": [
    {
     "name": "stdout",
     "output_type": "stream",
     "text": [
      "Tuned LogReg Accuracy: 0.815642\n"
     ]
    }
   ],
   "source": [
    "# fit model to entire train set\n",
    "model = LogisticRegression(random_state = 42,\n",
    "                           C = 2,\n",
    "                           solver = 'newton-cg',\n",
    "                           penalty = 'l2',\n",
    "                           max_iter = 300).fit(X_train, y_train)\n",
    "\n",
    "# evaluate accuracy on test set\n",
    "print('Tuned LogReg Accuracy: ' + '{0:2f}'.format(model.score(X_test, y_test)))"
   ]
  },
  {
   "cell_type": "code",
   "execution_count": 10,
   "metadata": {},
   "outputs": [],
   "source": [
    "# generate predictions\n",
    "predictions = model.predict(unlabeled_df)\n",
    "\n",
    "# create a new data frame with two columns: PassengerId and our predicted values for Survived\n",
    "submission_df = pd.DataFrame({'PassengerId' : unlabeled_df.index, 'Survived' : predictions})\n",
    "\n",
    "# write submission to disk...\n",
    "# first define path\n",
    "submission_file_path = Path.cwd().parent / 'data' / 'external' / 'logreg.csv'\n",
    "\n",
    "# create the .csv file\n",
    "# index is False since we don't want a third column\n",
    "submission_df.to_csv(submission_file_path, index = False)"
   ]
  },
  {
   "cell_type": "markdown",
   "metadata": {},
   "source": [
    "## Model Persistence"
   ]
  },
  {
   "cell_type": "code",
   "execution_count": 11,
   "metadata": {},
   "outputs": [],
   "source": [
    "# create file path\n",
    "model_file_path = Path.cwd().parent / 'models' / 'logreg_model.pkl'\n",
    "\n",
    "# persist the model\n",
    "joblib.dump(model, model_file_path);"
   ]
  },
  {
   "cell_type": "markdown",
   "metadata": {},
   "source": [
    "#### Optional: Check the persisted model"
   ]
  },
  {
   "cell_type": "code",
   "execution_count": 12,
   "metadata": {},
   "outputs": [],
   "source": [
    "# create file paths\n",
    "model_file_path = Path.cwd().parent / 'models' / 'logreg_model.pkl'\n",
    "\n",
    "# load\n",
    "model_loaded = joblib.load(model_file_path)"
   ]
  },
  {
   "cell_type": "code",
   "execution_count": 13,
   "metadata": {},
   "outputs": [
    {
     "data": {
      "text/plain": [
       "LogisticRegression(C=2, class_weight=None, dual=False, fit_intercept=True,\n",
       "          intercept_scaling=1, max_iter=300, multi_class='ovr', n_jobs=1,\n",
       "          penalty='l2', random_state=42, solver='newton-cg', tol=0.0001,\n",
       "          verbose=0, warm_start=False)"
      ]
     },
     "execution_count": 13,
     "metadata": {},
     "output_type": "execute_result"
    }
   ],
   "source": [
    "# print the model object description\n",
    "model_loaded"
   ]
  },
  {
   "cell_type": "code",
   "execution_count": 14,
   "metadata": {},
   "outputs": [
    {
     "name": "stdout",
     "output_type": "stream",
     "text": [
      "Persisted LogReg Accuracy: 0.815642\n"
     ]
    }
   ],
   "source": [
    "# calculate the score using the loaded model object\n",
    "# we should get 0.815642, as above\n",
    "print('Persisted LogReg Accuracy: ' + '{0:2f}'.format(model_loaded.score(X_test, y_test)))"
   ]
  },
  {
   "cell_type": "markdown",
   "metadata": {},
   "source": [
    "## Error Analysis"
   ]
  },
  {
   "cell_type": "code",
   "execution_count": 15,
   "metadata": {},
   "outputs": [],
   "source": [
    "# imports\n",
    "from sklearn.model_selection import cross_val_predict"
   ]
  },
  {
   "cell_type": "code",
   "execution_count": 16,
   "metadata": {},
   "outputs": [],
   "source": [
    "# instead of scoring, get the cross-validated estimates for each image\n",
    "y_train_pred = cross_val_predict(model, X_train, y_train, cv = 5)"
   ]
  },
  {
   "cell_type": "code",
   "execution_count": 17,
   "metadata": {},
   "outputs": [
    {
     "name": "stdout",
     "output_type": "stream",
     "text": [
      "[[377  62]\n",
      " [ 66 207]]\n",
      "Precision score:  0.7695167286245354\n",
      "Recall score:  0.7582417582417582\n",
      "F1 score:  0.7638376383763839\n",
      "Area under the ROC curve:  0.8085058449523141\n"
     ]
    }
   ],
   "source": [
    "# now let's take a look at the confusion matrix to see\n",
    "# which actual labels (rows) do not match the predicted label (columns)\n",
    "from sklearn.metrics import confusion_matrix, precision_score, recall_score, f1_score, roc_auc_score\n",
    "\n",
    "conf_mx = confusion_matrix(y_train, y_train_pred)\n",
    "print(np.matrix(conf_mx))\n",
    "print('Precision score: ', precision_score(y_train, y_train_pred))\n",
    "print('Recall score: ', recall_score(y_train, y_train_pred))\n",
    "print('F1 score: ', f1_score(y_train, y_train_pred))\n",
    "print('Area under the ROC curve: ', roc_auc_score(y_train, y_train_pred))"
   ]
  },
  {
   "cell_type": "code",
   "execution_count": 18,
   "metadata": {},
   "outputs": [],
   "source": [
    "from sklearn.model_selection import ShuffleSplit\n",
    "from sklearn.model_selection import learning_curve\n",
    "\n",
    "def plot_learning_curve(estimator, title, X, y, ylim=None, cv=None,\n",
    "                        n_jobs=1, train_sizes=np.linspace(.1, 1.0, 5)):\n",
    "    \"\"\"\n",
    "    Generate a simple plot of the test and training learning curve.\n",
    "\n",
    "    Parameters\n",
    "    ----------\n",
    "    estimator : object type that implements the \"fit\" and \"predict\" methods\n",
    "        An object of that type which is cloned for each validation.\n",
    "\n",
    "    title : string\n",
    "        Title for the chart.\n",
    "\n",
    "    X : array-like, shape (n_samples, n_features)\n",
    "        Training vector, where n_samples is the number of samples and\n",
    "        n_features is the number of features.\n",
    "\n",
    "    y : array-like, shape (n_samples) or (n_samples, n_features), optional\n",
    "        Target relative to X for classification or regression;\n",
    "        None for unsupervised learning.\n",
    "\n",
    "    ylim : tuple, shape (ymin, ymax), optional\n",
    "        Defines minimum and maximum yvalues plotted.\n",
    "\n",
    "    cv : int, cross-validation generator or an iterable, optional\n",
    "        Determines the cross-validation splitting strategy.\n",
    "        Possible inputs for cv are:\n",
    "          - None, to use the default 3-fold cross-validation,\n",
    "          - integer, to specify the number of folds.\n",
    "          - An object to be used as a cross-validation generator.\n",
    "          - An iterable yielding train/test splits.\n",
    "\n",
    "        For integer/None inputs, if ``y`` is binary or multiclass,\n",
    "        :class:`StratifiedKFold` used. If the estimator is not a classifier\n",
    "        or if ``y`` is neither binary nor multiclass, :class:`KFold` is used.\n",
    "\n",
    "        Refer :ref:`User Guide <cross_validation>` for the various\n",
    "        cross-validators that can be used here.\n",
    "\n",
    "    n_jobs : integer, optional\n",
    "        Number of jobs to run in parallel (default 1).\n",
    "    \"\"\"\n",
    "    plt.figure()\n",
    "    plt.title(title)\n",
    "    if ylim is not None:\n",
    "        plt.ylim(*ylim)\n",
    "    plt.xlabel(\"Training examples\")\n",
    "    plt.ylabel(\"Score\")\n",
    "    train_sizes, train_scores, test_scores = learning_curve(\n",
    "        estimator, X, y, cv=cv, n_jobs=n_jobs, train_sizes=train_sizes)\n",
    "    train_scores_mean = np.mean(train_scores, axis=1)\n",
    "    train_scores_std = np.std(train_scores, axis=1)\n",
    "    test_scores_mean = np.mean(test_scores, axis=1)\n",
    "    test_scores_std = np.std(test_scores, axis=1)\n",
    "    plt.grid()\n",
    "\n",
    "    plt.fill_between(train_sizes, train_scores_mean - train_scores_std,\n",
    "                     train_scores_mean + train_scores_std, alpha=0.1,\n",
    "                     color=\"r\")\n",
    "    plt.fill_between(train_sizes, test_scores_mean - test_scores_std,\n",
    "                     test_scores_mean + test_scores_std, alpha=0.1, color=\"g\")\n",
    "    plt.plot(train_sizes, train_scores_mean, 'o-', color=\"r\",\n",
    "             label=\"Training score\")\n",
    "    plt.plot(train_sizes, test_scores_mean, 'o-', color=\"g\",\n",
    "             label=\"Cross-validation score\")\n",
    "\n",
    "    plt.legend(loc=\"best\")\n",
    "    return plt"
   ]
  },
  {
   "cell_type": "code",
   "execution_count": 19,
   "metadata": {},
   "outputs": [
    {
     "data": {
      "image/png": "[encoded data removed]",
      "text/plain": [
       "<Figure size 432x288 with 1 Axes>"
      ]
     },
     "metadata": {},
     "output_type": "display_data"
    }
   ],
   "source": [
    "title = \"Learning Curves (LogReg)\"\n",
    "cv = ShuffleSplit(n_splits=100, test_size=0.2, random_state=42)\n",
    "plot_learning_curve(model, title, X_train, y_train, ylim=(0.7, 1.0), cv=cv, n_jobs=-1);"
   ]
  },
  {
   "cell_type": "markdown",
   "metadata": {},
   "source": [
    "Looks like Logistic Regression is overfitting the least. Let's try a voting classifier before we go back to the drawing board with processing the data."
   ]
  }
 ],
 "metadata": {
  "kernelspec": {
   "display_name": "Python 3",
   "language": "python",
   "name": "python3"
  },
  "language_info": {
   "codemirror_mode": {
    "name": "ipython",
    "version": 3
   },
   "file_extension": ".py",
   "mimetype": "text/x-python",
   "name": "python",
   "nbconvert_exporter": "python",
   "pygments_lexer": "ipython3",
   "version": "3.6.5"
  }
 },
 "nbformat": 4,
 "nbformat_minor": 2
}
